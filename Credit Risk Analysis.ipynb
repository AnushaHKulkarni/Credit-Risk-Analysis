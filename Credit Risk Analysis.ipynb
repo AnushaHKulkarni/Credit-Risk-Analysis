{
 "cells": [
  {
   "cell_type": "markdown",
   "metadata": {},
   "source": [
    "#                                         BFS Capstone Project"
   ]
  },
  {
   "cell_type": "markdown",
   "metadata": {},
   "source": [
    "CredX is a leading credit card provider that gets thousands of credit card applications every year. But in the past few years, it has experienced an increase in credit loss. The CEO believes that the best strategy to mitigate credit risk is to ‘acquire the right customers’."
   ]
  },
  {
   "cell_type": "markdown",
   "metadata": {},
   "source": [
    "Objective:\n",
    "      The objective is to help CredX identify the right customers using predictive models. Using past data of the bank’s applicants, you need to determine the factors affecting credit risk, create strategies to mitigate the acquisition risk and assess the financial benefit of your project. "
   ]
  },
  {
   "cell_type": "code",
   "execution_count": 1,
   "metadata": {},
   "outputs": [],
   "source": [
    "# Supress Warnings\n",
    "import warnings\n",
    "warnings.filterwarnings('ignore')"
   ]
  },
  {
   "cell_type": "code",
   "execution_count": 2,
   "metadata": {},
   "outputs": [],
   "source": [
    "# Importing libraries\n",
    "import numpy as np\n",
    "import pandas as pd\n",
    "import matplotlib.pyplot as plt\n",
    "import seaborn as sns\n",
    "import pandas.core.algorithms as algos\n",
    "from pandas import Series\n",
    "import scipy.stats.stats as stats\n",
    "import re\n",
    "import traceback\n",
    "import string\n",
    "import pandas.core.algorithms as algos\n",
    "from pandas import Series\n",
    "import scipy.stats.stats as stats\n",
    "import re\n",
    "import traceback\n",
    "\n",
    "# visulaisation\n",
    "from matplotlib.pyplot import xticks\n",
    "%matplotlib inline\n"
   ]
  },
  {
   "cell_type": "markdown",
   "metadata": {},
   "source": [
    "# Data Preparation\n"
   ]
  },
  {
   "cell_type": "markdown",
   "metadata": {},
   "source": [
    "Data Loading"
   ]
  },
  {
   "cell_type": "code",
   "execution_count": 3,
   "metadata": {},
   "outputs": [],
   "source": [
    "#importing csv file from web\n",
    "Demographics = pd.read_csv(\"https://cdn.upgrad.com/UpGrad/temp/a790b665-7819-4490-87d9-b046340095fd/Demographic%20data.csv\", sep=\",\")\n",
    "CreditBureau = pd.read_csv(\"https://cdn.upgrad.com/UpGrad/temp/3fa11a2f-f702-45e4-a7fd-17110148588d/Credit%20Bureau%20data.csv\", sep=\",\")"
   ]
  },
  {
   "cell_type": "markdown",
   "metadata": {},
   "source": [
    "Inspecting the dataframe"
   ]
  },
  {
   "cell_type": "code",
   "execution_count": 4,
   "metadata": {},
   "outputs": [
    {
     "data": {
      "text/html": [
       "<div>\n",
       "<style scoped>\n",
       "    .dataframe tbody tr th:only-of-type {\n",
       "        vertical-align: middle;\n",
       "    }\n",
       "\n",
       "    .dataframe tbody tr th {\n",
       "        vertical-align: top;\n",
       "    }\n",
       "\n",
       "    .dataframe thead th {\n",
       "        text-align: right;\n",
       "    }\n",
       "</style>\n",
       "<table border=\"1\" class=\"dataframe\">\n",
       "  <thead>\n",
       "    <tr style=\"text-align: right;\">\n",
       "      <th></th>\n",
       "      <th>Application ID</th>\n",
       "      <th>Age</th>\n",
       "      <th>Gender</th>\n",
       "      <th>Marital Status (at the time of application)</th>\n",
       "      <th>No of dependents</th>\n",
       "      <th>Income</th>\n",
       "      <th>Education</th>\n",
       "      <th>Profession</th>\n",
       "      <th>Type of residence</th>\n",
       "      <th>No of months in current residence</th>\n",
       "      <th>No of months in current company</th>\n",
       "      <th>Performance Tag</th>\n",
       "    </tr>\n",
       "  </thead>\n",
       "  <tbody>\n",
       "    <tr>\n",
       "      <th>0</th>\n",
       "      <td>954457215</td>\n",
       "      <td>48</td>\n",
       "      <td>F</td>\n",
       "      <td>Married</td>\n",
       "      <td>2.0</td>\n",
       "      <td>40.0</td>\n",
       "      <td>Bachelor</td>\n",
       "      <td>SAL</td>\n",
       "      <td>Rented</td>\n",
       "      <td>113</td>\n",
       "      <td>56</td>\n",
       "      <td>0.0</td>\n",
       "    </tr>\n",
       "    <tr>\n",
       "      <th>1</th>\n",
       "      <td>432830445</td>\n",
       "      <td>31</td>\n",
       "      <td>M</td>\n",
       "      <td>Married</td>\n",
       "      <td>4.0</td>\n",
       "      <td>55.0</td>\n",
       "      <td>Professional</td>\n",
       "      <td>SE_PROF</td>\n",
       "      <td>Rented</td>\n",
       "      <td>112</td>\n",
       "      <td>46</td>\n",
       "      <td>0.0</td>\n",
       "    </tr>\n",
       "    <tr>\n",
       "      <th>2</th>\n",
       "      <td>941387308</td>\n",
       "      <td>32</td>\n",
       "      <td>M</td>\n",
       "      <td>Single</td>\n",
       "      <td>2.0</td>\n",
       "      <td>46.0</td>\n",
       "      <td>Bachelor</td>\n",
       "      <td>SE_PROF</td>\n",
       "      <td>Rented</td>\n",
       "      <td>104</td>\n",
       "      <td>49</td>\n",
       "      <td>0.0</td>\n",
       "    </tr>\n",
       "    <tr>\n",
       "      <th>3</th>\n",
       "      <td>392161677</td>\n",
       "      <td>43</td>\n",
       "      <td>M</td>\n",
       "      <td>Married</td>\n",
       "      <td>1.0</td>\n",
       "      <td>53.0</td>\n",
       "      <td>Bachelor</td>\n",
       "      <td>SE</td>\n",
       "      <td>Rented</td>\n",
       "      <td>94</td>\n",
       "      <td>53</td>\n",
       "      <td>0.0</td>\n",
       "    </tr>\n",
       "    <tr>\n",
       "      <th>4</th>\n",
       "      <td>182011211</td>\n",
       "      <td>35</td>\n",
       "      <td>F</td>\n",
       "      <td>Married</td>\n",
       "      <td>5.0</td>\n",
       "      <td>44.0</td>\n",
       "      <td>Professional</td>\n",
       "      <td>SAL</td>\n",
       "      <td>Rented</td>\n",
       "      <td>112</td>\n",
       "      <td>43</td>\n",
       "      <td>0.0</td>\n",
       "    </tr>\n",
       "  </tbody>\n",
       "</table>\n",
       "</div>"
      ],
      "text/plain": [
       "   Application ID  Age Gender Marital Status (at the time of application)  \\\n",
       "0       954457215   48      F                                     Married   \n",
       "1       432830445   31      M                                     Married   \n",
       "2       941387308   32      M                                      Single   \n",
       "3       392161677   43      M                                     Married   \n",
       "4       182011211   35      F                                     Married   \n",
       "\n",
       "   No of dependents  Income     Education Profession  Type of residence  \\\n",
       "0               2.0    40.0      Bachelor         SAL            Rented   \n",
       "1               4.0    55.0  Professional     SE_PROF            Rented   \n",
       "2               2.0    46.0      Bachelor     SE_PROF            Rented   \n",
       "3               1.0    53.0      Bachelor          SE            Rented   \n",
       "4               5.0    44.0  Professional         SAL            Rented   \n",
       "\n",
       "   No of months in current residence  No of months in current company  \\\n",
       "0                                113                               56   \n",
       "1                                112                               46   \n",
       "2                                104                               49   \n",
       "3                                 94                               53   \n",
       "4                                112                               43   \n",
       "\n",
       "   Performance Tag  \n",
       "0              0.0  \n",
       "1              0.0  \n",
       "2              0.0  \n",
       "3              0.0  \n",
       "4              0.0  "
      ]
     },
     "execution_count": 4,
     "metadata": {},
     "output_type": "execute_result"
    }
   ],
   "source": [
    "Demographics.head()"
   ]
  },
  {
   "cell_type": "code",
   "execution_count": 5,
   "metadata": {},
   "outputs": [
    {
     "data": {
      "text/html": [
       "<div>\n",
       "<style scoped>\n",
       "    .dataframe tbody tr th:only-of-type {\n",
       "        vertical-align: middle;\n",
       "    }\n",
       "\n",
       "    .dataframe tbody tr th {\n",
       "        vertical-align: top;\n",
       "    }\n",
       "\n",
       "    .dataframe thead th {\n",
       "        text-align: right;\n",
       "    }\n",
       "</style>\n",
       "<table border=\"1\" class=\"dataframe\">\n",
       "  <thead>\n",
       "    <tr style=\"text-align: right;\">\n",
       "      <th></th>\n",
       "      <th>Application ID</th>\n",
       "      <th>No of times 90 DPD or worse in last 6 months</th>\n",
       "      <th>No of times 60 DPD or worse in last 6 months</th>\n",
       "      <th>No of times 30 DPD or worse in last 6 months</th>\n",
       "      <th>No of times 90 DPD or worse in last 12 months</th>\n",
       "      <th>No of times 60 DPD or worse in last 12 months</th>\n",
       "      <th>No of times 30 DPD or worse in last 12 months</th>\n",
       "      <th>Avgas CC Utilization in last 12 months</th>\n",
       "      <th>No of trades opened in last 6 months</th>\n",
       "      <th>No of trades opened in last 12 months</th>\n",
       "      <th>No of PL trades opened in last 6 months</th>\n",
       "      <th>No of PL trades opened in last 12 months</th>\n",
       "      <th>No of Inquiries in last 6 months (excluding home &amp; auto loans)</th>\n",
       "      <th>No of Inquiries in last 12 months (excluding home &amp; auto loans)</th>\n",
       "      <th>Presence of open home loan</th>\n",
       "      <th>Outstanding Balance</th>\n",
       "      <th>Total No of Trades</th>\n",
       "      <th>Presence of open auto loan</th>\n",
       "      <th>Performance Tag</th>\n",
       "    </tr>\n",
       "  </thead>\n",
       "  <tbody>\n",
       "    <tr>\n",
       "      <th>0</th>\n",
       "      <td>954457215</td>\n",
       "      <td>0</td>\n",
       "      <td>0</td>\n",
       "      <td>0</td>\n",
       "      <td>0</td>\n",
       "      <td>0</td>\n",
       "      <td>0</td>\n",
       "      <td>4.0</td>\n",
       "      <td>1.0</td>\n",
       "      <td>2</td>\n",
       "      <td>0</td>\n",
       "      <td>0</td>\n",
       "      <td>0</td>\n",
       "      <td>0</td>\n",
       "      <td>1.0</td>\n",
       "      <td>2999395.0</td>\n",
       "      <td>4</td>\n",
       "      <td>0</td>\n",
       "      <td>0.0</td>\n",
       "    </tr>\n",
       "    <tr>\n",
       "      <th>1</th>\n",
       "      <td>432830445</td>\n",
       "      <td>0</td>\n",
       "      <td>0</td>\n",
       "      <td>0</td>\n",
       "      <td>0</td>\n",
       "      <td>0</td>\n",
       "      <td>0</td>\n",
       "      <td>3.0</td>\n",
       "      <td>1.0</td>\n",
       "      <td>2</td>\n",
       "      <td>0</td>\n",
       "      <td>0</td>\n",
       "      <td>0</td>\n",
       "      <td>0</td>\n",
       "      <td>0.0</td>\n",
       "      <td>3078.0</td>\n",
       "      <td>5</td>\n",
       "      <td>0</td>\n",
       "      <td>0.0</td>\n",
       "    </tr>\n",
       "    <tr>\n",
       "      <th>2</th>\n",
       "      <td>941387308</td>\n",
       "      <td>0</td>\n",
       "      <td>0</td>\n",
       "      <td>0</td>\n",
       "      <td>0</td>\n",
       "      <td>0</td>\n",
       "      <td>0</td>\n",
       "      <td>7.0</td>\n",
       "      <td>0.0</td>\n",
       "      <td>0</td>\n",
       "      <td>0</td>\n",
       "      <td>0</td>\n",
       "      <td>0</td>\n",
       "      <td>0</td>\n",
       "      <td>1.0</td>\n",
       "      <td>3004972.0</td>\n",
       "      <td>2</td>\n",
       "      <td>0</td>\n",
       "      <td>0.0</td>\n",
       "    </tr>\n",
       "    <tr>\n",
       "      <th>3</th>\n",
       "      <td>392161677</td>\n",
       "      <td>0</td>\n",
       "      <td>0</td>\n",
       "      <td>0</td>\n",
       "      <td>0</td>\n",
       "      <td>0</td>\n",
       "      <td>0</td>\n",
       "      <td>11.0</td>\n",
       "      <td>1.0</td>\n",
       "      <td>1</td>\n",
       "      <td>0</td>\n",
       "      <td>0</td>\n",
       "      <td>0</td>\n",
       "      <td>0</td>\n",
       "      <td>1.0</td>\n",
       "      <td>3355373.0</td>\n",
       "      <td>4</td>\n",
       "      <td>1</td>\n",
       "      <td>0.0</td>\n",
       "    </tr>\n",
       "    <tr>\n",
       "      <th>4</th>\n",
       "      <td>182011211</td>\n",
       "      <td>0</td>\n",
       "      <td>0</td>\n",
       "      <td>0</td>\n",
       "      <td>0</td>\n",
       "      <td>0</td>\n",
       "      <td>0</td>\n",
       "      <td>12.0</td>\n",
       "      <td>0.0</td>\n",
       "      <td>1</td>\n",
       "      <td>0</td>\n",
       "      <td>0</td>\n",
       "      <td>0</td>\n",
       "      <td>0</td>\n",
       "      <td>1.0</td>\n",
       "      <td>3014283.0</td>\n",
       "      <td>4</td>\n",
       "      <td>0</td>\n",
       "      <td>0.0</td>\n",
       "    </tr>\n",
       "  </tbody>\n",
       "</table>\n",
       "</div>"
      ],
      "text/plain": [
       "   Application ID  No of times 90 DPD or worse in last 6 months  \\\n",
       "0       954457215                                             0   \n",
       "1       432830445                                             0   \n",
       "2       941387308                                             0   \n",
       "3       392161677                                             0   \n",
       "4       182011211                                             0   \n",
       "\n",
       "   No of times 60 DPD or worse in last 6 months  \\\n",
       "0                                             0   \n",
       "1                                             0   \n",
       "2                                             0   \n",
       "3                                             0   \n",
       "4                                             0   \n",
       "\n",
       "   No of times 30 DPD or worse in last 6 months  \\\n",
       "0                                             0   \n",
       "1                                             0   \n",
       "2                                             0   \n",
       "3                                             0   \n",
       "4                                             0   \n",
       "\n",
       "   No of times 90 DPD or worse in last 12 months  \\\n",
       "0                                              0   \n",
       "1                                              0   \n",
       "2                                              0   \n",
       "3                                              0   \n",
       "4                                              0   \n",
       "\n",
       "   No of times 60 DPD or worse in last 12 months  \\\n",
       "0                                              0   \n",
       "1                                              0   \n",
       "2                                              0   \n",
       "3                                              0   \n",
       "4                                              0   \n",
       "\n",
       "   No of times 30 DPD or worse in last 12 months  \\\n",
       "0                                              0   \n",
       "1                                              0   \n",
       "2                                              0   \n",
       "3                                              0   \n",
       "4                                              0   \n",
       "\n",
       "   Avgas CC Utilization in last 12 months  \\\n",
       "0                                     4.0   \n",
       "1                                     3.0   \n",
       "2                                     7.0   \n",
       "3                                    11.0   \n",
       "4                                    12.0   \n",
       "\n",
       "   No of trades opened in last 6 months  \\\n",
       "0                                   1.0   \n",
       "1                                   1.0   \n",
       "2                                   0.0   \n",
       "3                                   1.0   \n",
       "4                                   0.0   \n",
       "\n",
       "   No of trades opened in last 12 months  \\\n",
       "0                                      2   \n",
       "1                                      2   \n",
       "2                                      0   \n",
       "3                                      1   \n",
       "4                                      1   \n",
       "\n",
       "   No of PL trades opened in last 6 months  \\\n",
       "0                                        0   \n",
       "1                                        0   \n",
       "2                                        0   \n",
       "3                                        0   \n",
       "4                                        0   \n",
       "\n",
       "   No of PL trades opened in last 12 months  \\\n",
       "0                                         0   \n",
       "1                                         0   \n",
       "2                                         0   \n",
       "3                                         0   \n",
       "4                                         0   \n",
       "\n",
       "   No of Inquiries in last 6 months (excluding home & auto loans)  \\\n",
       "0                                                  0                \n",
       "1                                                  0                \n",
       "2                                                  0                \n",
       "3                                                  0                \n",
       "4                                                  0                \n",
       "\n",
       "   No of Inquiries in last 12 months (excluding home & auto loans)  \\\n",
       "0                                                  0                 \n",
       "1                                                  0                 \n",
       "2                                                  0                 \n",
       "3                                                  0                 \n",
       "4                                                  0                 \n",
       "\n",
       "   Presence of open home loan  Outstanding Balance  Total No of Trades  \\\n",
       "0                         1.0            2999395.0                   4   \n",
       "1                         0.0               3078.0                   5   \n",
       "2                         1.0            3004972.0                   2   \n",
       "3                         1.0            3355373.0                   4   \n",
       "4                         1.0            3014283.0                   4   \n",
       "\n",
       "   Presence of open auto loan  Performance Tag  \n",
       "0                           0              0.0  \n",
       "1                           0              0.0  \n",
       "2                           0              0.0  \n",
       "3                           1              0.0  \n",
       "4                           0              0.0  "
      ]
     },
     "execution_count": 5,
     "metadata": {},
     "output_type": "execute_result"
    }
   ],
   "source": [
    "CreditBureau.head()"
   ]
  },
  {
   "cell_type": "code",
   "execution_count": 6,
   "metadata": {},
   "outputs": [
    {
     "data": {
      "text/plain": [
       "(71295, 12)"
      ]
     },
     "execution_count": 6,
     "metadata": {},
     "output_type": "execute_result"
    }
   ],
   "source": [
    "Demographics.shape"
   ]
  },
  {
   "cell_type": "code",
   "execution_count": 7,
   "metadata": {},
   "outputs": [
    {
     "data": {
      "text/plain": [
       "(71295, 19)"
      ]
     },
     "execution_count": 7,
     "metadata": {},
     "output_type": "execute_result"
    }
   ],
   "source": [
    "CreditBureau.shape"
   ]
  },
  {
   "cell_type": "code",
   "execution_count": 8,
   "metadata": {},
   "outputs": [
    {
     "name": "stdout",
     "output_type": "stream",
     "text": [
      "<class 'pandas.core.frame.DataFrame'>\n",
      "RangeIndex: 71295 entries, 0 to 71294\n",
      "Data columns (total 12 columns):\n",
      "Application ID                                 71295 non-null int64\n",
      "Age                                            71295 non-null int64\n",
      "Gender                                         71293 non-null object\n",
      "Marital Status (at the time of application)    71289 non-null object\n",
      "No of dependents                               71292 non-null float64\n",
      "Income                                         71295 non-null float64\n",
      "Education                                      71176 non-null object\n",
      "Profession                                     71281 non-null object\n",
      "Type of residence                              71287 non-null object\n",
      "No of months in current residence              71295 non-null int64\n",
      "No of months in current company                71295 non-null int64\n",
      "Performance Tag                                69870 non-null float64\n",
      "dtypes: float64(3), int64(4), object(5)\n",
      "memory usage: 6.5+ MB\n"
     ]
    }
   ],
   "source": [
    "Demographics.info()"
   ]
  },
  {
   "cell_type": "code",
   "execution_count": 9,
   "metadata": {},
   "outputs": [
    {
     "name": "stdout",
     "output_type": "stream",
     "text": [
      "<class 'pandas.core.frame.DataFrame'>\n",
      "RangeIndex: 71295 entries, 0 to 71294\n",
      "Data columns (total 19 columns):\n",
      "Application ID                                                     71295 non-null int64\n",
      "No of times 90 DPD or worse in last 6 months                       71295 non-null int64\n",
      "No of times 60 DPD or worse in last 6 months                       71295 non-null int64\n",
      "No of times 30 DPD or worse in last 6 months                       71295 non-null int64\n",
      "No of times 90 DPD or worse in last 12 months                      71295 non-null int64\n",
      "No of times 60 DPD or worse in last 12 months                      71295 non-null int64\n",
      "No of times 30 DPD or worse in last 12 months                      71295 non-null int64\n",
      "Avgas CC Utilization in last 12 months                             70237 non-null float64\n",
      "No of trades opened in last 6 months                               71294 non-null float64\n",
      "No of trades opened in last 12 months                              71295 non-null int64\n",
      "No of PL trades opened in last 6 months                            71295 non-null int64\n",
      "No of PL trades opened in last 12 months                           71295 non-null int64\n",
      "No of Inquiries in last 6 months (excluding home & auto loans)     71295 non-null int64\n",
      "No of Inquiries in last 12 months (excluding home & auto loans)    71295 non-null int64\n",
      "Presence of open home loan                                         71023 non-null float64\n",
      "Outstanding Balance                                                71023 non-null float64\n",
      "Total No of Trades                                                 71295 non-null int64\n",
      "Presence of open auto loan                                         71295 non-null int64\n",
      "Performance Tag                                                    69870 non-null float64\n",
      "dtypes: float64(5), int64(14)\n",
      "memory usage: 10.3 MB\n"
     ]
    }
   ],
   "source": [
    "CreditBureau.info()"
   ]
  },
  {
   "cell_type": "code",
   "execution_count": 10,
   "metadata": {},
   "outputs": [
    {
     "data": {
      "text/html": [
       "<div>\n",
       "<style scoped>\n",
       "    .dataframe tbody tr th:only-of-type {\n",
       "        vertical-align: middle;\n",
       "    }\n",
       "\n",
       "    .dataframe tbody tr th {\n",
       "        vertical-align: top;\n",
       "    }\n",
       "\n",
       "    .dataframe thead th {\n",
       "        text-align: right;\n",
       "    }\n",
       "</style>\n",
       "<table border=\"1\" class=\"dataframe\">\n",
       "  <thead>\n",
       "    <tr style=\"text-align: right;\">\n",
       "      <th></th>\n",
       "      <th>Application ID</th>\n",
       "      <th>Age</th>\n",
       "      <th>No of dependents</th>\n",
       "      <th>Income</th>\n",
       "      <th>No of months in current residence</th>\n",
       "      <th>No of months in current company</th>\n",
       "      <th>Performance Tag</th>\n",
       "    </tr>\n",
       "  </thead>\n",
       "  <tbody>\n",
       "    <tr>\n",
       "      <th>count</th>\n",
       "      <td>7.129500e+04</td>\n",
       "      <td>71295.000000</td>\n",
       "      <td>71292.000000</td>\n",
       "      <td>71295.000000</td>\n",
       "      <td>71295.000000</td>\n",
       "      <td>71295.000000</td>\n",
       "      <td>69870.000000</td>\n",
       "    </tr>\n",
       "    <tr>\n",
       "      <th>mean</th>\n",
       "      <td>4.989601e+08</td>\n",
       "      <td>44.943039</td>\n",
       "      <td>2.865188</td>\n",
       "      <td>27.195224</td>\n",
       "      <td>34.563420</td>\n",
       "      <td>33.958244</td>\n",
       "      <td>0.042193</td>\n",
       "    </tr>\n",
       "    <tr>\n",
       "      <th>std</th>\n",
       "      <td>2.885905e+08</td>\n",
       "      <td>9.939211</td>\n",
       "      <td>1.382319</td>\n",
       "      <td>15.514626</td>\n",
       "      <td>36.759758</td>\n",
       "      <td>20.410824</td>\n",
       "      <td>0.201030</td>\n",
       "    </tr>\n",
       "    <tr>\n",
       "      <th>min</th>\n",
       "      <td>1.004500e+05</td>\n",
       "      <td>-3.000000</td>\n",
       "      <td>1.000000</td>\n",
       "      <td>-0.500000</td>\n",
       "      <td>6.000000</td>\n",
       "      <td>3.000000</td>\n",
       "      <td>0.000000</td>\n",
       "    </tr>\n",
       "    <tr>\n",
       "      <th>25%</th>\n",
       "      <td>2.483719e+08</td>\n",
       "      <td>37.000000</td>\n",
       "      <td>2.000000</td>\n",
       "      <td>14.000000</td>\n",
       "      <td>6.000000</td>\n",
       "      <td>16.000000</td>\n",
       "      <td>0.000000</td>\n",
       "    </tr>\n",
       "    <tr>\n",
       "      <th>50%</th>\n",
       "      <td>4.975698e+08</td>\n",
       "      <td>45.000000</td>\n",
       "      <td>3.000000</td>\n",
       "      <td>27.000000</td>\n",
       "      <td>11.000000</td>\n",
       "      <td>34.000000</td>\n",
       "      <td>0.000000</td>\n",
       "    </tr>\n",
       "    <tr>\n",
       "      <th>75%</th>\n",
       "      <td>7.495868e+08</td>\n",
       "      <td>53.000000</td>\n",
       "      <td>4.000000</td>\n",
       "      <td>40.000000</td>\n",
       "      <td>60.000000</td>\n",
       "      <td>51.000000</td>\n",
       "      <td>0.000000</td>\n",
       "    </tr>\n",
       "    <tr>\n",
       "      <th>max</th>\n",
       "      <td>1.000084e+09</td>\n",
       "      <td>65.000000</td>\n",
       "      <td>5.000000</td>\n",
       "      <td>60.000000</td>\n",
       "      <td>126.000000</td>\n",
       "      <td>133.000000</td>\n",
       "      <td>1.000000</td>\n",
       "    </tr>\n",
       "  </tbody>\n",
       "</table>\n",
       "</div>"
      ],
      "text/plain": [
       "       Application ID           Age  No of dependents        Income  \\\n",
       "count    7.129500e+04  71295.000000      71292.000000  71295.000000   \n",
       "mean     4.989601e+08     44.943039          2.865188     27.195224   \n",
       "std      2.885905e+08      9.939211          1.382319     15.514626   \n",
       "min      1.004500e+05     -3.000000          1.000000     -0.500000   \n",
       "25%      2.483719e+08     37.000000          2.000000     14.000000   \n",
       "50%      4.975698e+08     45.000000          3.000000     27.000000   \n",
       "75%      7.495868e+08     53.000000          4.000000     40.000000   \n",
       "max      1.000084e+09     65.000000          5.000000     60.000000   \n",
       "\n",
       "       No of months in current residence  No of months in current company  \\\n",
       "count                       71295.000000                     71295.000000   \n",
       "mean                           34.563420                        33.958244   \n",
       "std                            36.759758                        20.410824   \n",
       "min                             6.000000                         3.000000   \n",
       "25%                             6.000000                        16.000000   \n",
       "50%                            11.000000                        34.000000   \n",
       "75%                            60.000000                        51.000000   \n",
       "max                           126.000000                       133.000000   \n",
       "\n",
       "       Performance Tag  \n",
       "count     69870.000000  \n",
       "mean          0.042193  \n",
       "std           0.201030  \n",
       "min           0.000000  \n",
       "25%           0.000000  \n",
       "50%           0.000000  \n",
       "75%           0.000000  \n",
       "max           1.000000  "
      ]
     },
     "execution_count": 10,
     "metadata": {},
     "output_type": "execute_result"
    }
   ],
   "source": [
    "Demographics.describe()"
   ]
  },
  {
   "cell_type": "code",
   "execution_count": 11,
   "metadata": {},
   "outputs": [
    {
     "data": {
      "text/html": [
       "<div>\n",
       "<style scoped>\n",
       "    .dataframe tbody tr th:only-of-type {\n",
       "        vertical-align: middle;\n",
       "    }\n",
       "\n",
       "    .dataframe tbody tr th {\n",
       "        vertical-align: top;\n",
       "    }\n",
       "\n",
       "    .dataframe thead th {\n",
       "        text-align: right;\n",
       "    }\n",
       "</style>\n",
       "<table border=\"1\" class=\"dataframe\">\n",
       "  <thead>\n",
       "    <tr style=\"text-align: right;\">\n",
       "      <th></th>\n",
       "      <th>Application ID</th>\n",
       "      <th>No of times 90 DPD or worse in last 6 months</th>\n",
       "      <th>No of times 60 DPD or worse in last 6 months</th>\n",
       "      <th>No of times 30 DPD or worse in last 6 months</th>\n",
       "      <th>No of times 90 DPD or worse in last 12 months</th>\n",
       "      <th>No of times 60 DPD or worse in last 12 months</th>\n",
       "      <th>No of times 30 DPD or worse in last 12 months</th>\n",
       "      <th>Avgas CC Utilization in last 12 months</th>\n",
       "      <th>No of trades opened in last 6 months</th>\n",
       "      <th>No of trades opened in last 12 months</th>\n",
       "      <th>No of PL trades opened in last 6 months</th>\n",
       "      <th>No of PL trades opened in last 12 months</th>\n",
       "      <th>No of Inquiries in last 6 months (excluding home &amp; auto loans)</th>\n",
       "      <th>No of Inquiries in last 12 months (excluding home &amp; auto loans)</th>\n",
       "      <th>Presence of open home loan</th>\n",
       "      <th>Outstanding Balance</th>\n",
       "      <th>Total No of Trades</th>\n",
       "      <th>Presence of open auto loan</th>\n",
       "      <th>Performance Tag</th>\n",
       "    </tr>\n",
       "  </thead>\n",
       "  <tbody>\n",
       "    <tr>\n",
       "      <th>count</th>\n",
       "      <td>7.129500e+04</td>\n",
       "      <td>71295.000000</td>\n",
       "      <td>71295.000000</td>\n",
       "      <td>71295.000000</td>\n",
       "      <td>71295.000000</td>\n",
       "      <td>71295.000000</td>\n",
       "      <td>71295.000000</td>\n",
       "      <td>70237.000000</td>\n",
       "      <td>71294.000000</td>\n",
       "      <td>71295.000000</td>\n",
       "      <td>71295.000000</td>\n",
       "      <td>71295.000000</td>\n",
       "      <td>71295.000000</td>\n",
       "      <td>71295.000000</td>\n",
       "      <td>71023.000000</td>\n",
       "      <td>7.102300e+04</td>\n",
       "      <td>71295.000000</td>\n",
       "      <td>71295.000000</td>\n",
       "      <td>69870.000000</td>\n",
       "    </tr>\n",
       "    <tr>\n",
       "      <th>mean</th>\n",
       "      <td>4.989601e+08</td>\n",
       "      <td>0.270313</td>\n",
       "      <td>0.430535</td>\n",
       "      <td>0.577207</td>\n",
       "      <td>0.450340</td>\n",
       "      <td>0.655488</td>\n",
       "      <td>0.800912</td>\n",
       "      <td>29.696926</td>\n",
       "      <td>2.298048</td>\n",
       "      <td>5.826888</td>\n",
       "      <td>1.206901</td>\n",
       "      <td>2.397447</td>\n",
       "      <td>1.763532</td>\n",
       "      <td>3.535241</td>\n",
       "      <td>0.256424</td>\n",
       "      <td>1.249163e+06</td>\n",
       "      <td>8.186633</td>\n",
       "      <td>0.084620</td>\n",
       "      <td>0.042193</td>\n",
       "    </tr>\n",
       "    <tr>\n",
       "      <th>std</th>\n",
       "      <td>2.885905e+08</td>\n",
       "      <td>0.534166</td>\n",
       "      <td>0.825334</td>\n",
       "      <td>1.074436</td>\n",
       "      <td>0.808387</td>\n",
       "      <td>1.089535</td>\n",
       "      <td>1.331940</td>\n",
       "      <td>29.533308</td>\n",
       "      <td>2.070191</td>\n",
       "      <td>5.065096</td>\n",
       "      <td>1.352936</td>\n",
       "      <td>2.420086</td>\n",
       "      <td>1.971294</td>\n",
       "      <td>3.582199</td>\n",
       "      <td>0.436662</td>\n",
       "      <td>1.278874e+06</td>\n",
       "      <td>7.090776</td>\n",
       "      <td>0.278318</td>\n",
       "      <td>0.201030</td>\n",
       "    </tr>\n",
       "    <tr>\n",
       "      <th>min</th>\n",
       "      <td>1.004500e+05</td>\n",
       "      <td>0.000000</td>\n",
       "      <td>0.000000</td>\n",
       "      <td>0.000000</td>\n",
       "      <td>0.000000</td>\n",
       "      <td>0.000000</td>\n",
       "      <td>0.000000</td>\n",
       "      <td>0.000000</td>\n",
       "      <td>0.000000</td>\n",
       "      <td>0.000000</td>\n",
       "      <td>0.000000</td>\n",
       "      <td>0.000000</td>\n",
       "      <td>0.000000</td>\n",
       "      <td>0.000000</td>\n",
       "      <td>0.000000</td>\n",
       "      <td>0.000000e+00</td>\n",
       "      <td>0.000000</td>\n",
       "      <td>0.000000</td>\n",
       "      <td>0.000000</td>\n",
       "    </tr>\n",
       "    <tr>\n",
       "      <th>25%</th>\n",
       "      <td>2.483719e+08</td>\n",
       "      <td>0.000000</td>\n",
       "      <td>0.000000</td>\n",
       "      <td>0.000000</td>\n",
       "      <td>0.000000</td>\n",
       "      <td>0.000000</td>\n",
       "      <td>0.000000</td>\n",
       "      <td>8.000000</td>\n",
       "      <td>1.000000</td>\n",
       "      <td>2.000000</td>\n",
       "      <td>0.000000</td>\n",
       "      <td>0.000000</td>\n",
       "      <td>0.000000</td>\n",
       "      <td>0.000000</td>\n",
       "      <td>0.000000</td>\n",
       "      <td>2.115320e+05</td>\n",
       "      <td>3.000000</td>\n",
       "      <td>0.000000</td>\n",
       "      <td>0.000000</td>\n",
       "    </tr>\n",
       "    <tr>\n",
       "      <th>50%</th>\n",
       "      <td>4.975698e+08</td>\n",
       "      <td>0.000000</td>\n",
       "      <td>0.000000</td>\n",
       "      <td>0.000000</td>\n",
       "      <td>0.000000</td>\n",
       "      <td>0.000000</td>\n",
       "      <td>0.000000</td>\n",
       "      <td>15.000000</td>\n",
       "      <td>2.000000</td>\n",
       "      <td>5.000000</td>\n",
       "      <td>1.000000</td>\n",
       "      <td>2.000000</td>\n",
       "      <td>1.000000</td>\n",
       "      <td>3.000000</td>\n",
       "      <td>0.000000</td>\n",
       "      <td>7.749920e+05</td>\n",
       "      <td>6.000000</td>\n",
       "      <td>0.000000</td>\n",
       "      <td>0.000000</td>\n",
       "    </tr>\n",
       "    <tr>\n",
       "      <th>75%</th>\n",
       "      <td>7.495868e+08</td>\n",
       "      <td>0.000000</td>\n",
       "      <td>1.000000</td>\n",
       "      <td>1.000000</td>\n",
       "      <td>1.000000</td>\n",
       "      <td>1.000000</td>\n",
       "      <td>1.000000</td>\n",
       "      <td>46.000000</td>\n",
       "      <td>3.000000</td>\n",
       "      <td>9.000000</td>\n",
       "      <td>2.000000</td>\n",
       "      <td>4.000000</td>\n",
       "      <td>3.000000</td>\n",
       "      <td>5.000000</td>\n",
       "      <td>1.000000</td>\n",
       "      <td>2.920796e+06</td>\n",
       "      <td>10.000000</td>\n",
       "      <td>0.000000</td>\n",
       "      <td>0.000000</td>\n",
       "    </tr>\n",
       "    <tr>\n",
       "      <th>max</th>\n",
       "      <td>1.000084e+09</td>\n",
       "      <td>3.000000</td>\n",
       "      <td>5.000000</td>\n",
       "      <td>7.000000</td>\n",
       "      <td>5.000000</td>\n",
       "      <td>7.000000</td>\n",
       "      <td>9.000000</td>\n",
       "      <td>113.000000</td>\n",
       "      <td>12.000000</td>\n",
       "      <td>28.000000</td>\n",
       "      <td>6.000000</td>\n",
       "      <td>12.000000</td>\n",
       "      <td>10.000000</td>\n",
       "      <td>20.000000</td>\n",
       "      <td>1.000000</td>\n",
       "      <td>5.218801e+06</td>\n",
       "      <td>44.000000</td>\n",
       "      <td>1.000000</td>\n",
       "      <td>1.000000</td>\n",
       "    </tr>\n",
       "  </tbody>\n",
       "</table>\n",
       "</div>"
      ],
      "text/plain": [
       "       Application ID  No of times 90 DPD or worse in last 6 months  \\\n",
       "count    7.129500e+04                                  71295.000000   \n",
       "mean     4.989601e+08                                      0.270313   \n",
       "std      2.885905e+08                                      0.534166   \n",
       "min      1.004500e+05                                      0.000000   \n",
       "25%      2.483719e+08                                      0.000000   \n",
       "50%      4.975698e+08                                      0.000000   \n",
       "75%      7.495868e+08                                      0.000000   \n",
       "max      1.000084e+09                                      3.000000   \n",
       "\n",
       "       No of times 60 DPD or worse in last 6 months  \\\n",
       "count                                  71295.000000   \n",
       "mean                                       0.430535   \n",
       "std                                        0.825334   \n",
       "min                                        0.000000   \n",
       "25%                                        0.000000   \n",
       "50%                                        0.000000   \n",
       "75%                                        1.000000   \n",
       "max                                        5.000000   \n",
       "\n",
       "       No of times 30 DPD or worse in last 6 months  \\\n",
       "count                                  71295.000000   \n",
       "mean                                       0.577207   \n",
       "std                                        1.074436   \n",
       "min                                        0.000000   \n",
       "25%                                        0.000000   \n",
       "50%                                        0.000000   \n",
       "75%                                        1.000000   \n",
       "max                                        7.000000   \n",
       "\n",
       "       No of times 90 DPD or worse in last 12 months  \\\n",
       "count                                   71295.000000   \n",
       "mean                                        0.450340   \n",
       "std                                         0.808387   \n",
       "min                                         0.000000   \n",
       "25%                                         0.000000   \n",
       "50%                                         0.000000   \n",
       "75%                                         1.000000   \n",
       "max                                         5.000000   \n",
       "\n",
       "       No of times 60 DPD or worse in last 12 months  \\\n",
       "count                                   71295.000000   \n",
       "mean                                        0.655488   \n",
       "std                                         1.089535   \n",
       "min                                         0.000000   \n",
       "25%                                         0.000000   \n",
       "50%                                         0.000000   \n",
       "75%                                         1.000000   \n",
       "max                                         7.000000   \n",
       "\n",
       "       No of times 30 DPD or worse in last 12 months  \\\n",
       "count                                   71295.000000   \n",
       "mean                                        0.800912   \n",
       "std                                         1.331940   \n",
       "min                                         0.000000   \n",
       "25%                                         0.000000   \n",
       "50%                                         0.000000   \n",
       "75%                                         1.000000   \n",
       "max                                         9.000000   \n",
       "\n",
       "       Avgas CC Utilization in last 12 months  \\\n",
       "count                            70237.000000   \n",
       "mean                                29.696926   \n",
       "std                                 29.533308   \n",
       "min                                  0.000000   \n",
       "25%                                  8.000000   \n",
       "50%                                 15.000000   \n",
       "75%                                 46.000000   \n",
       "max                                113.000000   \n",
       "\n",
       "       No of trades opened in last 6 months  \\\n",
       "count                          71294.000000   \n",
       "mean                               2.298048   \n",
       "std                                2.070191   \n",
       "min                                0.000000   \n",
       "25%                                1.000000   \n",
       "50%                                2.000000   \n",
       "75%                                3.000000   \n",
       "max                               12.000000   \n",
       "\n",
       "       No of trades opened in last 12 months  \\\n",
       "count                           71295.000000   \n",
       "mean                                5.826888   \n",
       "std                                 5.065096   \n",
       "min                                 0.000000   \n",
       "25%                                 2.000000   \n",
       "50%                                 5.000000   \n",
       "75%                                 9.000000   \n",
       "max                                28.000000   \n",
       "\n",
       "       No of PL trades opened in last 6 months  \\\n",
       "count                             71295.000000   \n",
       "mean                                  1.206901   \n",
       "std                                   1.352936   \n",
       "min                                   0.000000   \n",
       "25%                                   0.000000   \n",
       "50%                                   1.000000   \n",
       "75%                                   2.000000   \n",
       "max                                   6.000000   \n",
       "\n",
       "       No of PL trades opened in last 12 months  \\\n",
       "count                              71295.000000   \n",
       "mean                                   2.397447   \n",
       "std                                    2.420086   \n",
       "min                                    0.000000   \n",
       "25%                                    0.000000   \n",
       "50%                                    2.000000   \n",
       "75%                                    4.000000   \n",
       "max                                   12.000000   \n",
       "\n",
       "       No of Inquiries in last 6 months (excluding home & auto loans)  \\\n",
       "count                                       71295.000000                \n",
       "mean                                            1.763532                \n",
       "std                                             1.971294                \n",
       "min                                             0.000000                \n",
       "25%                                             0.000000                \n",
       "50%                                             1.000000                \n",
       "75%                                             3.000000                \n",
       "max                                            10.000000                \n",
       "\n",
       "       No of Inquiries in last 12 months (excluding home & auto loans)  \\\n",
       "count                                       71295.000000                 \n",
       "mean                                            3.535241                 \n",
       "std                                             3.582199                 \n",
       "min                                             0.000000                 \n",
       "25%                                             0.000000                 \n",
       "50%                                             3.000000                 \n",
       "75%                                             5.000000                 \n",
       "max                                            20.000000                 \n",
       "\n",
       "       Presence of open home loan  Outstanding Balance  Total No of Trades  \\\n",
       "count                71023.000000         7.102300e+04        71295.000000   \n",
       "mean                     0.256424         1.249163e+06            8.186633   \n",
       "std                      0.436662         1.278874e+06            7.090776   \n",
       "min                      0.000000         0.000000e+00            0.000000   \n",
       "25%                      0.000000         2.115320e+05            3.000000   \n",
       "50%                      0.000000         7.749920e+05            6.000000   \n",
       "75%                      1.000000         2.920796e+06           10.000000   \n",
       "max                      1.000000         5.218801e+06           44.000000   \n",
       "\n",
       "       Presence of open auto loan  Performance Tag  \n",
       "count                71295.000000     69870.000000  \n",
       "mean                     0.084620         0.042193  \n",
       "std                      0.278318         0.201030  \n",
       "min                      0.000000         0.000000  \n",
       "25%                      0.000000         0.000000  \n",
       "50%                      0.000000         0.000000  \n",
       "75%                      0.000000         0.000000  \n",
       "max                      1.000000         1.000000  "
      ]
     },
     "execution_count": 11,
     "metadata": {},
     "output_type": "execute_result"
    }
   ],
   "source": [
    "CreditBureau.describe()"
   ]
  },
  {
   "cell_type": "code",
   "execution_count": 12,
   "metadata": {},
   "outputs": [
    {
     "data": {
      "text/plain": [
       "False"
      ]
     },
     "execution_count": 12,
     "metadata": {},
     "output_type": "execute_result"
    }
   ],
   "source": [
    "# Checking if the key field - Application ID is unique in Demographics Dataset\n",
    "sum(Demographics.duplicated(subset = 'Application ID')) == 0\n"
   ]
  },
  {
   "cell_type": "markdown",
   "metadata": {},
   "source": [
    "There are some duplicate entries present."
   ]
  },
  {
   "cell_type": "code",
   "execution_count": 13,
   "metadata": {},
   "outputs": [
    {
     "data": {
      "text/html": [
       "<div>\n",
       "<style scoped>\n",
       "    .dataframe tbody tr th:only-of-type {\n",
       "        vertical-align: middle;\n",
       "    }\n",
       "\n",
       "    .dataframe tbody tr th {\n",
       "        vertical-align: top;\n",
       "    }\n",
       "\n",
       "    .dataframe thead th {\n",
       "        text-align: right;\n",
       "    }\n",
       "</style>\n",
       "<table border=\"1\" class=\"dataframe\">\n",
       "  <thead>\n",
       "    <tr style=\"text-align: right;\">\n",
       "      <th></th>\n",
       "      <th>Application ID</th>\n",
       "      <th>Age</th>\n",
       "      <th>Gender</th>\n",
       "      <th>Marital Status (at the time of application)</th>\n",
       "      <th>No of dependents</th>\n",
       "      <th>Income</th>\n",
       "      <th>Education</th>\n",
       "      <th>Profession</th>\n",
       "      <th>Type of residence</th>\n",
       "      <th>No of months in current residence</th>\n",
       "      <th>No of months in current company</th>\n",
       "      <th>Performance Tag</th>\n",
       "    </tr>\n",
       "  </thead>\n",
       "  <tbody>\n",
       "    <tr>\n",
       "      <th>27586</th>\n",
       "      <td>765011468</td>\n",
       "      <td>38</td>\n",
       "      <td>M</td>\n",
       "      <td>Married</td>\n",
       "      <td>4.0</td>\n",
       "      <td>4.5</td>\n",
       "      <td>Professional</td>\n",
       "      <td>SAL</td>\n",
       "      <td>Rented</td>\n",
       "      <td>6</td>\n",
       "      <td>72</td>\n",
       "      <td>0.0</td>\n",
       "    </tr>\n",
       "    <tr>\n",
       "      <th>42637</th>\n",
       "      <td>653287861</td>\n",
       "      <td>40</td>\n",
       "      <td>M</td>\n",
       "      <td>Married</td>\n",
       "      <td>5.0</td>\n",
       "      <td>32.0</td>\n",
       "      <td>Phd</td>\n",
       "      <td>SE</td>\n",
       "      <td>Rented</td>\n",
       "      <td>45</td>\n",
       "      <td>46</td>\n",
       "      <td>1.0</td>\n",
       "    </tr>\n",
       "    <tr>\n",
       "      <th>59022</th>\n",
       "      <td>671989187</td>\n",
       "      <td>57</td>\n",
       "      <td>M</td>\n",
       "      <td>Married</td>\n",
       "      <td>4.0</td>\n",
       "      <td>7.0</td>\n",
       "      <td>Professional</td>\n",
       "      <td>SE</td>\n",
       "      <td>Rented</td>\n",
       "      <td>42</td>\n",
       "      <td>3</td>\n",
       "      <td>0.0</td>\n",
       "    </tr>\n",
       "  </tbody>\n",
       "</table>\n",
       "</div>"
      ],
      "text/plain": [
       "       Application ID  Age Gender Marital Status (at the time of application)  \\\n",
       "27586       765011468   38      M                                     Married   \n",
       "42637       653287861   40      M                                     Married   \n",
       "59022       671989187   57      M                                     Married   \n",
       "\n",
       "       No of dependents  Income     Education Profession  Type of residence  \\\n",
       "27586               4.0     4.5  Professional         SAL            Rented   \n",
       "42637               5.0    32.0           Phd          SE            Rented   \n",
       "59022               4.0     7.0  Professional          SE            Rented   \n",
       "\n",
       "       No of months in current residence  No of months in current company  \\\n",
       "27586                                  6                               72   \n",
       "42637                                 45                               46   \n",
       "59022                                 42                                3   \n",
       "\n",
       "       Performance Tag  \n",
       "27586              0.0  \n",
       "42637              1.0  \n",
       "59022              0.0  "
      ]
     },
     "execution_count": 13,
     "metadata": {},
     "output_type": "execute_result"
    }
   ],
   "source": [
    "#Checing for duplicated Application ID\n",
    "Demographics[Demographics.duplicated(['Application ID'])]"
   ]
  },
  {
   "cell_type": "markdown",
   "metadata": {},
   "source": [
    "There are 3 duplicated Application Id"
   ]
  },
  {
   "cell_type": "code",
   "execution_count": 14,
   "metadata": {},
   "outputs": [
    {
     "data": {
      "text/plain": [
       "False"
      ]
     },
     "execution_count": 14,
     "metadata": {},
     "output_type": "execute_result"
    }
   ],
   "source": [
    "# Checking if the key field - Application ID is unique in CreditBureau Dataset\n",
    "sum(CreditBureau.duplicated(subset = 'Application ID')) == 0"
   ]
  },
  {
   "cell_type": "code",
   "execution_count": 15,
   "metadata": {},
   "outputs": [
    {
     "data": {
      "text/html": [
       "<div>\n",
       "<style scoped>\n",
       "    .dataframe tbody tr th:only-of-type {\n",
       "        vertical-align: middle;\n",
       "    }\n",
       "\n",
       "    .dataframe tbody tr th {\n",
       "        vertical-align: top;\n",
       "    }\n",
       "\n",
       "    .dataframe thead th {\n",
       "        text-align: right;\n",
       "    }\n",
       "</style>\n",
       "<table border=\"1\" class=\"dataframe\">\n",
       "  <thead>\n",
       "    <tr style=\"text-align: right;\">\n",
       "      <th></th>\n",
       "      <th>Application ID</th>\n",
       "      <th>No of times 90 DPD or worse in last 6 months</th>\n",
       "      <th>No of times 60 DPD or worse in last 6 months</th>\n",
       "      <th>No of times 30 DPD or worse in last 6 months</th>\n",
       "      <th>No of times 90 DPD or worse in last 12 months</th>\n",
       "      <th>No of times 60 DPD or worse in last 12 months</th>\n",
       "      <th>No of times 30 DPD or worse in last 12 months</th>\n",
       "      <th>Avgas CC Utilization in last 12 months</th>\n",
       "      <th>No of trades opened in last 6 months</th>\n",
       "      <th>No of trades opened in last 12 months</th>\n",
       "      <th>No of PL trades opened in last 6 months</th>\n",
       "      <th>No of PL trades opened in last 12 months</th>\n",
       "      <th>No of Inquiries in last 6 months (excluding home &amp; auto loans)</th>\n",
       "      <th>No of Inquiries in last 12 months (excluding home &amp; auto loans)</th>\n",
       "      <th>Presence of open home loan</th>\n",
       "      <th>Outstanding Balance</th>\n",
       "      <th>Total No of Trades</th>\n",
       "      <th>Presence of open auto loan</th>\n",
       "      <th>Performance Tag</th>\n",
       "    </tr>\n",
       "  </thead>\n",
       "  <tbody>\n",
       "    <tr>\n",
       "      <th>27586</th>\n",
       "      <td>765011468</td>\n",
       "      <td>0</td>\n",
       "      <td>0</td>\n",
       "      <td>0</td>\n",
       "      <td>0</td>\n",
       "      <td>0</td>\n",
       "      <td>0</td>\n",
       "      <td>11.0</td>\n",
       "      <td>1.0</td>\n",
       "      <td>3</td>\n",
       "      <td>0</td>\n",
       "      <td>0</td>\n",
       "      <td>1</td>\n",
       "      <td>3</td>\n",
       "      <td>0.0</td>\n",
       "      <td>29817.0</td>\n",
       "      <td>6</td>\n",
       "      <td>0</td>\n",
       "      <td>0.0</td>\n",
       "    </tr>\n",
       "    <tr>\n",
       "      <th>42637</th>\n",
       "      <td>653287861</td>\n",
       "      <td>1</td>\n",
       "      <td>1</td>\n",
       "      <td>1</td>\n",
       "      <td>2</td>\n",
       "      <td>2</td>\n",
       "      <td>2</td>\n",
       "      <td>113.0</td>\n",
       "      <td>2.0</td>\n",
       "      <td>5</td>\n",
       "      <td>1</td>\n",
       "      <td>3</td>\n",
       "      <td>1</td>\n",
       "      <td>3</td>\n",
       "      <td>0.0</td>\n",
       "      <td>628075.0</td>\n",
       "      <td>6</td>\n",
       "      <td>0</td>\n",
       "      <td>1.0</td>\n",
       "    </tr>\n",
       "    <tr>\n",
       "      <th>59022</th>\n",
       "      <td>671989187</td>\n",
       "      <td>0</td>\n",
       "      <td>1</td>\n",
       "      <td>2</td>\n",
       "      <td>0</td>\n",
       "      <td>2</td>\n",
       "      <td>3</td>\n",
       "      <td>76.0</td>\n",
       "      <td>3.0</td>\n",
       "      <td>7</td>\n",
       "      <td>1</td>\n",
       "      <td>4</td>\n",
       "      <td>2</td>\n",
       "      <td>6</td>\n",
       "      <td>0.0</td>\n",
       "      <td>822298.0</td>\n",
       "      <td>7</td>\n",
       "      <td>0</td>\n",
       "      <td>0.0</td>\n",
       "    </tr>\n",
       "  </tbody>\n",
       "</table>\n",
       "</div>"
      ],
      "text/plain": [
       "       Application ID  No of times 90 DPD or worse in last 6 months  \\\n",
       "27586       765011468                                             0   \n",
       "42637       653287861                                             1   \n",
       "59022       671989187                                             0   \n",
       "\n",
       "       No of times 60 DPD or worse in last 6 months  \\\n",
       "27586                                             0   \n",
       "42637                                             1   \n",
       "59022                                             1   \n",
       "\n",
       "       No of times 30 DPD or worse in last 6 months  \\\n",
       "27586                                             0   \n",
       "42637                                             1   \n",
       "59022                                             2   \n",
       "\n",
       "       No of times 90 DPD or worse in last 12 months  \\\n",
       "27586                                              0   \n",
       "42637                                              2   \n",
       "59022                                              0   \n",
       "\n",
       "       No of times 60 DPD or worse in last 12 months  \\\n",
       "27586                                              0   \n",
       "42637                                              2   \n",
       "59022                                              2   \n",
       "\n",
       "       No of times 30 DPD or worse in last 12 months  \\\n",
       "27586                                              0   \n",
       "42637                                              2   \n",
       "59022                                              3   \n",
       "\n",
       "       Avgas CC Utilization in last 12 months  \\\n",
       "27586                                    11.0   \n",
       "42637                                   113.0   \n",
       "59022                                    76.0   \n",
       "\n",
       "       No of trades opened in last 6 months  \\\n",
       "27586                                   1.0   \n",
       "42637                                   2.0   \n",
       "59022                                   3.0   \n",
       "\n",
       "       No of trades opened in last 12 months  \\\n",
       "27586                                      3   \n",
       "42637                                      5   \n",
       "59022                                      7   \n",
       "\n",
       "       No of PL trades opened in last 6 months  \\\n",
       "27586                                        0   \n",
       "42637                                        1   \n",
       "59022                                        1   \n",
       "\n",
       "       No of PL trades opened in last 12 months  \\\n",
       "27586                                         0   \n",
       "42637                                         3   \n",
       "59022                                         4   \n",
       "\n",
       "       No of Inquiries in last 6 months (excluding home & auto loans)  \\\n",
       "27586                                                  1                \n",
       "42637                                                  1                \n",
       "59022                                                  2                \n",
       "\n",
       "       No of Inquiries in last 12 months (excluding home & auto loans)  \\\n",
       "27586                                                  3                 \n",
       "42637                                                  3                 \n",
       "59022                                                  6                 \n",
       "\n",
       "       Presence of open home loan  Outstanding Balance  Total No of Trades  \\\n",
       "27586                         0.0              29817.0                   6   \n",
       "42637                         0.0             628075.0                   6   \n",
       "59022                         0.0             822298.0                   7   \n",
       "\n",
       "       Presence of open auto loan  Performance Tag  \n",
       "27586                           0              0.0  \n",
       "42637                           0              1.0  \n",
       "59022                           0              0.0  "
      ]
     },
     "execution_count": 15,
     "metadata": {},
     "output_type": "execute_result"
    }
   ],
   "source": [
    "CreditBureau[CreditBureau.duplicated(['Application ID'])]"
   ]
  },
  {
   "cell_type": "code",
   "execution_count": 16,
   "metadata": {},
   "outputs": [],
   "source": [
    "#Removing entries of duplicate application ids as it is not possible to identify the correct entry among duplicates\n",
    "Demographics.drop_duplicates(subset =\"Application ID\", \n",
    "                     keep = False, inplace = True) "
   ]
  },
  {
   "cell_type": "code",
   "execution_count": 17,
   "metadata": {},
   "outputs": [],
   "source": [
    "#Removingentrie s of duplicate application ids as it is not possible to identify the correct entry among duplicates\n",
    "CreditBureau.drop_duplicates(subset =\"Application ID\", \n",
    "                     keep = False, inplace = True) "
   ]
  },
  {
   "cell_type": "code",
   "execution_count": 18,
   "metadata": {},
   "outputs": [
    {
     "data": {
      "text/plain": [
       "True    71289\n",
       "Name: Application ID, dtype: int64"
      ]
     },
     "execution_count": 18,
     "metadata": {},
     "output_type": "execute_result"
    }
   ],
   "source": [
    "#Checking for all the entries present in both dataset because further we need to merge the datasets.\n",
    "Demographics['Application ID'].isin(CreditBureau['Application ID']).value_counts()"
   ]
  },
  {
   "cell_type": "code",
   "execution_count": 19,
   "metadata": {},
   "outputs": [
    {
     "data": {
      "text/plain": [
       "Application ID                                    0\n",
       "Age                                               0\n",
       "Gender                                            2\n",
       "Marital Status (at the time of application)       6\n",
       "No of dependents                                  3\n",
       "Income                                            0\n",
       "Education                                       119\n",
       "Profession                                       14\n",
       "Type of residence                                 8\n",
       "No of months in current residence                 0\n",
       "No of months in current company                   0\n",
       "Performance Tag                                1425\n",
       "dtype: int64"
      ]
     },
     "execution_count": 19,
     "metadata": {},
     "output_type": "execute_result"
    }
   ],
   "source": [
    "Demographics.isnull().sum()"
   ]
  },
  {
   "cell_type": "code",
   "execution_count": 20,
   "metadata": {},
   "outputs": [
    {
     "data": {
      "text/plain": [
       "Application ID                                                        0\n",
       "No of times 90 DPD or worse in last 6 months                          0\n",
       "No of times 60 DPD or worse in last 6 months                          0\n",
       "No of times 30 DPD or worse in last 6 months                          0\n",
       "No of times 90 DPD or worse in last 12 months                         0\n",
       "No of times 60 DPD or worse in last 12 months                         0\n",
       "No of times 30 DPD or worse in last 12 months                         0\n",
       "Avgas CC Utilization in last 12 months                             1058\n",
       "No of trades opened in last 6 months                                  1\n",
       "No of trades opened in last 12 months                                 0\n",
       "No of PL trades opened in last 6 months                               0\n",
       "No of PL trades opened in last 12 months                              0\n",
       "No of Inquiries in last 6 months (excluding home & auto loans)        0\n",
       "No of Inquiries in last 12 months (excluding home & auto loans)       0\n",
       "Presence of open home loan                                          272\n",
       "Outstanding Balance                                                 272\n",
       "Total No of Trades                                                    0\n",
       "Presence of open auto loan                                            0\n",
       "Performance Tag                                                    1425\n",
       "dtype: int64"
      ]
     },
     "execution_count": 20,
     "metadata": {},
     "output_type": "execute_result"
    }
   ],
   "source": [
    "CreditBureau.isnull().sum()"
   ]
  },
  {
   "cell_type": "markdown",
   "metadata": {},
   "source": [
    "There are 1425 records with no performance tag in both datasets which indicates that the applicant is not given credit card.\n",
    "Only 1.99 % of the obs has NA values for - 'perfromance.tag'. \n",
    "Since Performance.Tag is the target variables, rows with NA's are removed and saved separately for future use."
   ]
  },
  {
   "cell_type": "code",
   "execution_count": 21,
   "metadata": {},
   "outputs": [],
   "source": [
    "#Removing Rows with no performance tag and saving it seperately from both datasets.\n",
    "rejected_demographics = Demographics[Demographics['Performance Tag'].isna()]\n",
    "Demographics=Demographics[~Demographics['Performance Tag'].isna()]\n",
    "rejected_credit = CreditBureau[CreditBureau['Performance Tag'].isna()]\n",
    "CreditBureau = CreditBureau[~CreditBureau['Performance Tag'].isna()]"
   ]
  },
  {
   "cell_type": "code",
   "execution_count": 22,
   "metadata": {},
   "outputs": [],
   "source": [
    "# Taking backup of the Demograhics and creditBureau datasets\n",
    "Demographics_woe=Demographics.copy()\n",
    "CreditBureau_woe=CreditBureau.copy()"
   ]
  },
  {
   "cell_type": "code",
   "execution_count": 23,
   "metadata": {},
   "outputs": [],
   "source": [
    "# Merging Demographics and CreditBureau Data to build a Master file\n",
    "Master_Data=pd.merge(Demographics, CreditBureau, on=['Application ID'], how='inner')"
   ]
  },
  {
   "cell_type": "code",
   "execution_count": 24,
   "metadata": {},
   "outputs": [
    {
     "data": {
      "text/plain": [
       "(69864, 30)"
      ]
     },
     "execution_count": 24,
     "metadata": {},
     "output_type": "execute_result"
    }
   ],
   "source": [
    "Master_Data.shape"
   ]
  },
  {
   "cell_type": "code",
   "execution_count": 25,
   "metadata": {},
   "outputs": [
    {
     "data": {
      "text/plain": [
       "Application ID                                                        0\n",
       "Age                                                                   0\n",
       "Gender                                                                2\n",
       "Marital Status (at the time of application)                           6\n",
       "No of dependents                                                      3\n",
       "Income                                                                0\n",
       "Education                                                           118\n",
       "Profession                                                           13\n",
       "Type of residence                                                     8\n",
       "No of months in current residence                                     0\n",
       "No of months in current company                                       0\n",
       "Performance Tag_x                                                     0\n",
       "No of times 90 DPD or worse in last 6 months                          0\n",
       "No of times 60 DPD or worse in last 6 months                          0\n",
       "No of times 30 DPD or worse in last 6 months                          0\n",
       "No of times 90 DPD or worse in last 12 months                         0\n",
       "No of times 60 DPD or worse in last 12 months                         0\n",
       "No of times 30 DPD or worse in last 12 months                         0\n",
       "Avgas CC Utilization in last 12 months                             1023\n",
       "No of trades opened in last 6 months                                  1\n",
       "No of trades opened in last 12 months                                 0\n",
       "No of PL trades opened in last 6 months                               0\n",
       "No of PL trades opened in last 12 months                              0\n",
       "No of Inquiries in last 6 months (excluding home & auto loans)        0\n",
       "No of Inquiries in last 12 months (excluding home & auto loans)       0\n",
       "Presence of open home loan                                          272\n",
       "Outstanding Balance                                                 272\n",
       "Total No of Trades                                                    0\n",
       "Presence of open auto loan                                            0\n",
       "Performance Tag_y                                                     0\n",
       "dtype: int64"
      ]
     },
     "execution_count": 25,
     "metadata": {},
     "output_type": "execute_result"
    }
   ],
   "source": [
    "Master_Data.isnull().sum()"
   ]
  },
  {
   "cell_type": "code",
   "execution_count": 26,
   "metadata": {},
   "outputs": [
    {
     "data": {
      "text/html": [
       "<div>\n",
       "<style scoped>\n",
       "    .dataframe tbody tr th:only-of-type {\n",
       "        vertical-align: middle;\n",
       "    }\n",
       "\n",
       "    .dataframe tbody tr th {\n",
       "        vertical-align: top;\n",
       "    }\n",
       "\n",
       "    .dataframe thead th {\n",
       "        text-align: right;\n",
       "    }\n",
       "</style>\n",
       "<table border=\"1\" class=\"dataframe\">\n",
       "  <thead>\n",
       "    <tr style=\"text-align: right;\">\n",
       "      <th></th>\n",
       "      <th>Application ID</th>\n",
       "      <th>Age</th>\n",
       "      <th>Gender</th>\n",
       "      <th>Marital Status (at the time of application)</th>\n",
       "      <th>No of dependents</th>\n",
       "      <th>Income</th>\n",
       "      <th>Education</th>\n",
       "      <th>Profession</th>\n",
       "      <th>Type of residence</th>\n",
       "      <th>No of months in current residence</th>\n",
       "      <th>...</th>\n",
       "      <th>No of trades opened in last 12 months</th>\n",
       "      <th>No of PL trades opened in last 6 months</th>\n",
       "      <th>No of PL trades opened in last 12 months</th>\n",
       "      <th>No of Inquiries in last 6 months (excluding home &amp; auto loans)</th>\n",
       "      <th>No of Inquiries in last 12 months (excluding home &amp; auto loans)</th>\n",
       "      <th>Presence of open home loan</th>\n",
       "      <th>Outstanding Balance</th>\n",
       "      <th>Total No of Trades</th>\n",
       "      <th>Presence of open auto loan</th>\n",
       "      <th>Performance Tag_y</th>\n",
       "    </tr>\n",
       "  </thead>\n",
       "  <tbody>\n",
       "    <tr>\n",
       "      <th>0</th>\n",
       "      <td>954457215</td>\n",
       "      <td>48</td>\n",
       "      <td>F</td>\n",
       "      <td>Married</td>\n",
       "      <td>2.0</td>\n",
       "      <td>40.0</td>\n",
       "      <td>Bachelor</td>\n",
       "      <td>SAL</td>\n",
       "      <td>Rented</td>\n",
       "      <td>113</td>\n",
       "      <td>...</td>\n",
       "      <td>2</td>\n",
       "      <td>0</td>\n",
       "      <td>0</td>\n",
       "      <td>0</td>\n",
       "      <td>0</td>\n",
       "      <td>1.0</td>\n",
       "      <td>2999395.0</td>\n",
       "      <td>4</td>\n",
       "      <td>0</td>\n",
       "      <td>0.0</td>\n",
       "    </tr>\n",
       "    <tr>\n",
       "      <th>1</th>\n",
       "      <td>432830445</td>\n",
       "      <td>31</td>\n",
       "      <td>M</td>\n",
       "      <td>Married</td>\n",
       "      <td>4.0</td>\n",
       "      <td>55.0</td>\n",
       "      <td>Professional</td>\n",
       "      <td>SE_PROF</td>\n",
       "      <td>Rented</td>\n",
       "      <td>112</td>\n",
       "      <td>...</td>\n",
       "      <td>2</td>\n",
       "      <td>0</td>\n",
       "      <td>0</td>\n",
       "      <td>0</td>\n",
       "      <td>0</td>\n",
       "      <td>0.0</td>\n",
       "      <td>3078.0</td>\n",
       "      <td>5</td>\n",
       "      <td>0</td>\n",
       "      <td>0.0</td>\n",
       "    </tr>\n",
       "    <tr>\n",
       "      <th>2</th>\n",
       "      <td>941387308</td>\n",
       "      <td>32</td>\n",
       "      <td>M</td>\n",
       "      <td>Single</td>\n",
       "      <td>2.0</td>\n",
       "      <td>46.0</td>\n",
       "      <td>Bachelor</td>\n",
       "      <td>SE_PROF</td>\n",
       "      <td>Rented</td>\n",
       "      <td>104</td>\n",
       "      <td>...</td>\n",
       "      <td>0</td>\n",
       "      <td>0</td>\n",
       "      <td>0</td>\n",
       "      <td>0</td>\n",
       "      <td>0</td>\n",
       "      <td>1.0</td>\n",
       "      <td>3004972.0</td>\n",
       "      <td>2</td>\n",
       "      <td>0</td>\n",
       "      <td>0.0</td>\n",
       "    </tr>\n",
       "    <tr>\n",
       "      <th>3</th>\n",
       "      <td>392161677</td>\n",
       "      <td>43</td>\n",
       "      <td>M</td>\n",
       "      <td>Married</td>\n",
       "      <td>1.0</td>\n",
       "      <td>53.0</td>\n",
       "      <td>Bachelor</td>\n",
       "      <td>SE</td>\n",
       "      <td>Rented</td>\n",
       "      <td>94</td>\n",
       "      <td>...</td>\n",
       "      <td>1</td>\n",
       "      <td>0</td>\n",
       "      <td>0</td>\n",
       "      <td>0</td>\n",
       "      <td>0</td>\n",
       "      <td>1.0</td>\n",
       "      <td>3355373.0</td>\n",
       "      <td>4</td>\n",
       "      <td>1</td>\n",
       "      <td>0.0</td>\n",
       "    </tr>\n",
       "    <tr>\n",
       "      <th>4</th>\n",
       "      <td>182011211</td>\n",
       "      <td>35</td>\n",
       "      <td>F</td>\n",
       "      <td>Married</td>\n",
       "      <td>5.0</td>\n",
       "      <td>44.0</td>\n",
       "      <td>Professional</td>\n",
       "      <td>SAL</td>\n",
       "      <td>Rented</td>\n",
       "      <td>112</td>\n",
       "      <td>...</td>\n",
       "      <td>1</td>\n",
       "      <td>0</td>\n",
       "      <td>0</td>\n",
       "      <td>0</td>\n",
       "      <td>0</td>\n",
       "      <td>1.0</td>\n",
       "      <td>3014283.0</td>\n",
       "      <td>4</td>\n",
       "      <td>0</td>\n",
       "      <td>0.0</td>\n",
       "    </tr>\n",
       "  </tbody>\n",
       "</table>\n",
       "<p>5 rows × 30 columns</p>\n",
       "</div>"
      ],
      "text/plain": [
       "   Application ID  Age Gender Marital Status (at the time of application)  \\\n",
       "0       954457215   48      F                                     Married   \n",
       "1       432830445   31      M                                     Married   \n",
       "2       941387308   32      M                                      Single   \n",
       "3       392161677   43      M                                     Married   \n",
       "4       182011211   35      F                                     Married   \n",
       "\n",
       "   No of dependents  Income     Education Profession  Type of residence  \\\n",
       "0               2.0    40.0      Bachelor         SAL            Rented   \n",
       "1               4.0    55.0  Professional     SE_PROF            Rented   \n",
       "2               2.0    46.0      Bachelor     SE_PROF            Rented   \n",
       "3               1.0    53.0      Bachelor          SE            Rented   \n",
       "4               5.0    44.0  Professional         SAL            Rented   \n",
       "\n",
       "   No of months in current residence  ...  \\\n",
       "0                                113  ...   \n",
       "1                                112  ...   \n",
       "2                                104  ...   \n",
       "3                                 94  ...   \n",
       "4                                112  ...   \n",
       "\n",
       "   No of trades opened in last 12 months  \\\n",
       "0                                      2   \n",
       "1                                      2   \n",
       "2                                      0   \n",
       "3                                      1   \n",
       "4                                      1   \n",
       "\n",
       "   No of PL trades opened in last 6 months  \\\n",
       "0                                        0   \n",
       "1                                        0   \n",
       "2                                        0   \n",
       "3                                        0   \n",
       "4                                        0   \n",
       "\n",
       "   No of PL trades opened in last 12 months  \\\n",
       "0                                         0   \n",
       "1                                         0   \n",
       "2                                         0   \n",
       "3                                         0   \n",
       "4                                         0   \n",
       "\n",
       "   No of Inquiries in last 6 months (excluding home & auto loans)  \\\n",
       "0                                                  0                \n",
       "1                                                  0                \n",
       "2                                                  0                \n",
       "3                                                  0                \n",
       "4                                                  0                \n",
       "\n",
       "   No of Inquiries in last 12 months (excluding home & auto loans)  \\\n",
       "0                                                  0                 \n",
       "1                                                  0                 \n",
       "2                                                  0                 \n",
       "3                                                  0                 \n",
       "4                                                  0                 \n",
       "\n",
       "   Presence of open home loan  Outstanding Balance  Total No of Trades  \\\n",
       "0                         1.0            2999395.0                   4   \n",
       "1                         0.0               3078.0                   5   \n",
       "2                         1.0            3004972.0                   2   \n",
       "3                         1.0            3355373.0                   4   \n",
       "4                         1.0            3014283.0                   4   \n",
       "\n",
       "   Presence of open auto loan  Performance Tag_y  \n",
       "0                           0                0.0  \n",
       "1                           0                0.0  \n",
       "2                           0                0.0  \n",
       "3                           1                0.0  \n",
       "4                           0                0.0  \n",
       "\n",
       "[5 rows x 30 columns]"
      ]
     },
     "execution_count": 26,
     "metadata": {},
     "output_type": "execute_result"
    }
   ],
   "source": [
    "Master_Data.head()"
   ]
  },
  {
   "cell_type": "code",
   "execution_count": 27,
   "metadata": {},
   "outputs": [
    {
     "data": {
      "text/plain": [
       "True"
      ]
     },
     "execution_count": 27,
     "metadata": {},
     "output_type": "execute_result"
    }
   ],
   "source": [
    "#since both the datasets have performance tag field checking if values of both the field are same.\n",
    "Demographics['Performance Tag'].equals(CreditBureau['Performance Tag'])"
   ]
  },
  {
   "cell_type": "markdown",
   "metadata": {},
   "source": [
    "As both the dataset having equal perfomance tag field we can delete one field from Master_Data"
   ]
  },
  {
   "cell_type": "code",
   "execution_count": 28,
   "metadata": {},
   "outputs": [],
   "source": [
    "#deleting dulplicated Performance Tag field from Master_Data\n",
    "#Master_Data=Master_Data.drop('Performance Tag_x',axis=1)"
   ]
  },
  {
   "cell_type": "code",
   "execution_count": 29,
   "metadata": {},
   "outputs": [],
   "source": [
    "# Taking backup of the Master_Data datasets\n",
    "Master_Data_woe=Master_Data.copy()"
   ]
  },
  {
   "cell_type": "markdown",
   "metadata": {},
   "source": [
    "# WOE Analaysis and IV (Information Value)"
   ]
  },
  {
   "cell_type": "markdown",
   "metadata": {},
   "source": [
    "This method is used to replace the missing values with woe values and find significant variables."
   ]
  },
  {
   "cell_type": "code",
   "execution_count": 30,
   "metadata": {},
   "outputs": [],
   "source": [
    "# Function to create woe buckets for variables\n",
    "max_bin = 20\n",
    "force_bin = 3\n",
    "\n",
    "# define a binning function\n",
    "def mono_bin(Y, X, n = max_bin):\n",
    "    \n",
    "    df1 = pd.DataFrame({\"X\": X, \"Y\": Y})\n",
    "    justmiss = df1[['X','Y']][df1.X.isnull()]\n",
    "    notmiss = df1[['X','Y']][df1.X.notnull()]\n",
    "    r = 0\n",
    "    while np.abs(r) < 1:\n",
    "        try:\n",
    "            d1 = pd.DataFrame({\"X\": notmiss.X, \"Y\": notmiss.Y, \"Bucket\": pd.qcut(notmiss.X, n)})\n",
    "            d2 = d1.groupby('Bucket', as_index=True)\n",
    "            r, p = stats.spearmanr(d2.mean().X, d2.mean().Y)\n",
    "            n = n - 1 \n",
    "        except Exception as e:\n",
    "            n = n - 1\n",
    "\n",
    "    if len(d2) == 1:\n",
    "        n = force_bin         \n",
    "        bins = algos.quantile(notmiss.X, np.linspace(0, 1, n))\n",
    "        if len(np.unique(bins)) == 2:\n",
    "            bins = np.insert(bins, 0, 1)\n",
    "            bins[1] = bins[1]-(bins[1]/2)\n",
    "        d1 = pd.DataFrame({\"X\": notmiss.X, \"Y\": notmiss.Y, \"Bucket\": pd.cut(notmiss.X, np.unique(bins),include_lowest=True)}) \n",
    "        d2 = d1.groupby('Bucket', as_index=True)\n",
    "    \n",
    "    d3 = pd.DataFrame({},index=[])\n",
    "    d3[\"MIN_VALUE\"] = d2.min().X\n",
    "    d3[\"MAX_VALUE\"] = d2.max().X\n",
    "    d3[\"COUNT\"] = d2.count().Y\n",
    "    d3[\"EVENT\"] = d2.sum().Y\n",
    "    d3[\"NONEVENT\"] = d2.count().Y - d2.sum().Y\n",
    "    d3=d3.reset_index(drop=True)\n",
    "    \n",
    "    if len(justmiss.index) > 0:\n",
    "        d4 = pd.DataFrame({'MIN_VALUE':np.nan},index=[0])\n",
    "        d4[\"MAX_VALUE\"] = np.nan\n",
    "        d4[\"COUNT\"] = justmiss.count().Y\n",
    "        d4[\"EVENT\"] = justmiss.sum().Y\n",
    "        d4[\"NONEVENT\"] = justmiss.count().Y - justmiss.sum().Y\n",
    "        d3 = d3.append(d4,ignore_index=True)\n",
    "    \n",
    "    d3[\"EVENT_RATE\"] = d3.EVENT/d3.COUNT\n",
    "    d3[\"NON_EVENT_RATE\"] = d3.NONEVENT/d3.COUNT\n",
    "    d3[\"DIST_EVENT\"] = d3.EVENT/d3.sum().EVENT\n",
    "    d3[\"DIST_NON_EVENT\"] = d3.NONEVENT/d3.sum().NONEVENT\n",
    "    d3[\"WOE\"] = np.log(d3.DIST_EVENT/d3.DIST_NON_EVENT)\n",
    "    d3[\"IV\"] = (d3.DIST_EVENT-d3.DIST_NON_EVENT)*np.log(d3.DIST_EVENT/d3.DIST_NON_EVENT)\n",
    "    d3[\"VAR_NAME\"] = \"VAR\"\n",
    "    d3 = d3[['VAR_NAME','MIN_VALUE', 'MAX_VALUE', 'COUNT', 'EVENT', 'EVENT_RATE', 'NONEVENT', 'NON_EVENT_RATE', 'DIST_EVENT','DIST_NON_EVENT','WOE', 'IV']]       \n",
    "    d3 = d3.replace([np.inf, -np.inf], 0)\n",
    "    d3.IV = d3.IV.sum()\n",
    "    \n",
    "    return(d3)\n",
    "\n",
    "def char_bin(Y, X):\n",
    "        \n",
    "    df1 = pd.DataFrame({\"X\": X, \"Y\": Y})\n",
    "    justmiss = df1[['X','Y']][df1.X.isnull()]\n",
    "    notmiss = df1[['X','Y']][df1.X.notnull()]    \n",
    "    df2 = notmiss.groupby('X',as_index=True)\n",
    "    \n",
    "    d3 = pd.DataFrame({},index=[])\n",
    "    d3[\"COUNT\"] = df2.count().Y\n",
    "    d3[\"MIN_VALUE\"] = df2.sum().Y.index\n",
    "    d3[\"MAX_VALUE\"] = d3[\"MIN_VALUE\"]\n",
    "    d3[\"EVENT\"] = df2.sum().Y\n",
    "    d3[\"NONEVENT\"] = df2.count().Y - df2.sum().Y\n",
    "    \n",
    "    if len(justmiss.index) > 0:\n",
    "        d4 = pd.DataFrame({'MIN_VALUE':np.nan},index=[0])\n",
    "        d4[\"MAX_VALUE\"] = np.nan\n",
    "        d4[\"COUNT\"] = justmiss.count().Y\n",
    "        d4[\"EVENT\"] = justmiss.sum().Y\n",
    "        d4[\"NONEVENT\"] = justmiss.count().Y - justmiss.sum().Y\n",
    "        d3 = d3.append(d4,ignore_index=True)\n",
    "    \n",
    "    d3[\"EVENT_RATE\"] = d3.EVENT/d3.COUNT\n",
    "    d3[\"NON_EVENT_RATE\"] = d3.NONEVENT/d3.COUNT\n",
    "    d3[\"DIST_EVENT\"] = d3.EVENT/d3.sum().EVENT\n",
    "    d3[\"DIST_NON_EVENT\"] = d3.NONEVENT/d3.sum().NONEVENT\n",
    "    d3[\"WOE\"] = np.log(d3.DIST_EVENT/d3.DIST_NON_EVENT)\n",
    "    d3[\"IV\"] = (d3.DIST_EVENT-d3.DIST_NON_EVENT)*np.log(d3.DIST_EVENT/d3.DIST_NON_EVENT)\n",
    "    d3[\"VAR_NAME\"] = \"VAR\"\n",
    "    d3 = d3[['VAR_NAME','MIN_VALUE', 'MAX_VALUE', 'COUNT', 'EVENT', 'EVENT_RATE', 'NONEVENT', 'NON_EVENT_RATE', 'DIST_EVENT','DIST_NON_EVENT','WOE', 'IV']]      \n",
    "    d3 = d3.replace([np.inf, -np.inf], 0)\n",
    "    d3.IV = d3.IV.sum()\n",
    "    d3 = d3.reset_index(drop=True)\n",
    "    \n",
    "    return(d3)\n",
    "\n",
    "def data_vars(df1, target):\n",
    "    \n",
    "    stack = traceback.extract_stack()\n",
    "    filename, lineno, function_name, code = stack[-2]\n",
    "    vars_name = re.compile(r'\\((.*?)\\).*$').search(code).groups()[0]\n",
    "    final = (re.findall(r\"[\\w']+\", vars_name))[-1]\n",
    "    \n",
    "    x = df1.dtypes.index\n",
    "    count = -1\n",
    "    \n",
    "    for i in x:\n",
    "        if i.upper() not in (final.upper()):\n",
    "            if np.issubdtype(df1[i], np.number) and len(Series.unique(df1[i])) > 2:\n",
    "                conv = mono_bin(target, df1[i])\n",
    "                conv[\"VAR_NAME\"] = i\n",
    "                count = count + 1\n",
    "            else:\n",
    "                conv = char_bin(target, df1[i])\n",
    "                conv[\"VAR_NAME\"] = i            \n",
    "                count = count + 1\n",
    "                \n",
    "            if count == 0:\n",
    "                iv_df = conv\n",
    "            else:\n",
    "                iv_df = iv_df.append(conv,ignore_index=True)\n",
    "    \n",
    "    iv = pd.DataFrame({'IV':iv_df.groupby('VAR_NAME').IV.max()})\n",
    "    iv = iv.reset_index()\n",
    "    return(iv_df,iv)"
   ]
  },
  {
   "cell_type": "code",
   "execution_count": 31,
   "metadata": {},
   "outputs": [],
   "source": [
    "#applying binning function to Demographics Dataset\n",
    "final_iv, IV = data_vars(Demographics_woe,Demographics_woe['Performance Tag'])"
   ]
  },
  {
   "cell_type": "code",
   "execution_count": 32,
   "metadata": {},
   "outputs": [
    {
     "data": {
      "text/html": [
       "<div>\n",
       "<style scoped>\n",
       "    .dataframe tbody tr th:only-of-type {\n",
       "        vertical-align: middle;\n",
       "    }\n",
       "\n",
       "    .dataframe tbody tr th {\n",
       "        vertical-align: top;\n",
       "    }\n",
       "\n",
       "    .dataframe thead th {\n",
       "        text-align: right;\n",
       "    }\n",
       "</style>\n",
       "<table border=\"1\" class=\"dataframe\">\n",
       "  <thead>\n",
       "    <tr style=\"text-align: right;\">\n",
       "      <th></th>\n",
       "      <th>VAR_NAME</th>\n",
       "      <th>IV</th>\n",
       "    </tr>\n",
       "  </thead>\n",
       "  <tbody>\n",
       "    <tr>\n",
       "      <th>8</th>\n",
       "      <td>No of months in current residence</td>\n",
       "      <td>0.052060</td>\n",
       "    </tr>\n",
       "    <tr>\n",
       "      <th>4</th>\n",
       "      <td>Income</td>\n",
       "      <td>0.037624</td>\n",
       "    </tr>\n",
       "    <tr>\n",
       "      <th>7</th>\n",
       "      <td>No of months in current company</td>\n",
       "      <td>0.012735</td>\n",
       "    </tr>\n",
       "    <tr>\n",
       "      <th>10</th>\n",
       "      <td>Profession</td>\n",
       "      <td>0.002217</td>\n",
       "    </tr>\n",
       "    <tr>\n",
       "      <th>11</th>\n",
       "      <td>Type of residence</td>\n",
       "      <td>0.000924</td>\n",
       "    </tr>\n",
       "    <tr>\n",
       "      <th>2</th>\n",
       "      <td>Education</td>\n",
       "      <td>0.000783</td>\n",
       "    </tr>\n",
       "    <tr>\n",
       "      <th>0</th>\n",
       "      <td>Age</td>\n",
       "      <td>0.000625</td>\n",
       "    </tr>\n",
       "    <tr>\n",
       "      <th>3</th>\n",
       "      <td>Gender</td>\n",
       "      <td>0.000325</td>\n",
       "    </tr>\n",
       "    <tr>\n",
       "      <th>5</th>\n",
       "      <td>Marital Status (at the time of application)</td>\n",
       "      <td>0.000095</td>\n",
       "    </tr>\n",
       "    <tr>\n",
       "      <th>6</th>\n",
       "      <td>No of dependents</td>\n",
       "      <td>0.000056</td>\n",
       "    </tr>\n",
       "    <tr>\n",
       "      <th>1</th>\n",
       "      <td>Application ID</td>\n",
       "      <td>0.000021</td>\n",
       "    </tr>\n",
       "    <tr>\n",
       "      <th>9</th>\n",
       "      <td>Performance Tag</td>\n",
       "      <td>0.000000</td>\n",
       "    </tr>\n",
       "  </tbody>\n",
       "</table>\n",
       "</div>"
      ],
      "text/plain": [
       "                                       VAR_NAME        IV\n",
       "8             No of months in current residence  0.052060\n",
       "4                                        Income  0.037624\n",
       "7               No of months in current company  0.012735\n",
       "10                                  Profession   0.002217\n",
       "11                            Type of residence  0.000924\n",
       "2                                     Education  0.000783\n",
       "0                                           Age  0.000625\n",
       "3                                        Gender  0.000325\n",
       "5   Marital Status (at the time of application)  0.000095\n",
       "6                              No of dependents  0.000056\n",
       "1                                Application ID  0.000021\n",
       "9                               Performance Tag  0.000000"
      ]
     },
     "execution_count": 32,
     "metadata": {},
     "output_type": "execute_result"
    }
   ],
   "source": [
    "#Finding IV values of attributes in Demographics DAtaset.\n",
    "IV.sort_values('IV',ascending=False)"
   ]
  },
  {
   "cell_type": "markdown",
   "metadata": {},
   "source": [
    "Based on IV values, below are the top 3 significant variables from Demographics Datadet.\n",
    "\n",
    " \n",
    "  No.of.months.in.current.residence     0.04875\n",
    "  \n",
    "  Income                                0.03596\n",
    "  \n",
    "  No.of.months.in.current.company       0.01095\n"
   ]
  },
  {
   "cell_type": "code",
   "execution_count": 33,
   "metadata": {},
   "outputs": [],
   "source": [
    "transform_vars_list = (Demographics_woe.columns.difference(['Performance Tag']))\n",
    "#transform_prefix = ' ' # leave this value blank if you need replace the original column values"
   ]
  },
  {
   "cell_type": "code",
   "execution_count": 34,
   "metadata": {},
   "outputs": [
    {
     "data": {
      "text/plain": [
       "Index(['Age', 'Application ID', 'Education', 'Gender', 'Income',\n",
       "       'Marital Status (at the time of application)', 'No of dependents',\n",
       "       'No of months in current company', 'No of months in current residence',\n",
       "       'Profession ', 'Type of residence'],\n",
       "      dtype='object')"
      ]
     },
     "execution_count": 34,
     "metadata": {},
     "output_type": "execute_result"
    }
   ],
   "source": [
    "transform_vars_list\n"
   ]
  },
  {
   "cell_type": "code",
   "execution_count": 35,
   "metadata": {},
   "outputs": [],
   "source": [
    "#function to assign woe values to demographics dataset.\n",
    "for var in transform_vars_list:\n",
    "    small_df = final_iv[final_iv['VAR_NAME'] == var]\n",
    "    small_df = small_df[~(small_df.MIN_VALUE.isnull())]\n",
    "    small_df = small_df[~(small_df.MAX_VALUE.isnull())]\n",
    "    transform_dict = dict(zip(small_df.MAX_VALUE,small_df.WOE))\n",
    "    replace_cmd = ''\n",
    "    replace_cmd1 = ''\n",
    "    for i in sorted(transform_dict.items()):\n",
    "        replace_cmd = replace_cmd + str(i[1]) + str(' if x <= ') + str(i[0]) + ' else '\n",
    "        replace_cmd1 = replace_cmd1 + str(i[1]) + str(' if x == \"') + str(i[0]) + '\" else '\n",
    "    replace_cmd = replace_cmd + '0'\n",
    "    replace_cmd1 = replace_cmd1 + '0'\n",
    "    if replace_cmd != '0':\n",
    "        try:\n",
    "           Demographics_woe[var] = Demographics_woe[var].apply(lambda x: eval(replace_cmd))\n",
    "        except:\n",
    "           Demographics_woe[var] = Demographics_woe[var].apply(lambda x: eval(replace_cmd1))"
   ]
  },
  {
   "cell_type": "code",
   "execution_count": 36,
   "metadata": {},
   "outputs": [
    {
     "data": {
      "text/html": [
       "<div>\n",
       "<style scoped>\n",
       "    .dataframe tbody tr th:only-of-type {\n",
       "        vertical-align: middle;\n",
       "    }\n",
       "\n",
       "    .dataframe tbody tr th {\n",
       "        vertical-align: top;\n",
       "    }\n",
       "\n",
       "    .dataframe thead th {\n",
       "        text-align: right;\n",
       "    }\n",
       "</style>\n",
       "<table border=\"1\" class=\"dataframe\">\n",
       "  <thead>\n",
       "    <tr style=\"text-align: right;\">\n",
       "      <th></th>\n",
       "      <th>Application ID</th>\n",
       "      <th>Age</th>\n",
       "      <th>Gender</th>\n",
       "      <th>Marital Status (at the time of application)</th>\n",
       "      <th>No of dependents</th>\n",
       "      <th>Income</th>\n",
       "      <th>Education</th>\n",
       "      <th>Profession</th>\n",
       "      <th>Type of residence</th>\n",
       "      <th>No of months in current residence</th>\n",
       "      <th>No of months in current company</th>\n",
       "      <th>Performance Tag</th>\n",
       "    </tr>\n",
       "  </thead>\n",
       "  <tbody>\n",
       "    <tr>\n",
       "      <th>0</th>\n",
       "      <td>-0.004615</td>\n",
       "      <td>-0.007368</td>\n",
       "      <td>0.032129</td>\n",
       "      <td>-0.003997</td>\n",
       "      <td>0.005419</td>\n",
       "      <td>-0.243157</td>\n",
       "      <td>0.017390</td>\n",
       "      <td>-0.028033</td>\n",
       "      <td>-0.004319</td>\n",
       "      <td>0.206757</td>\n",
       "      <td>-0.122937</td>\n",
       "      <td>0.0</td>\n",
       "    </tr>\n",
       "    <tr>\n",
       "      <th>1</th>\n",
       "      <td>0.004596</td>\n",
       "      <td>0.031580</td>\n",
       "      <td>-0.010094</td>\n",
       "      <td>-0.003997</td>\n",
       "      <td>-0.010384</td>\n",
       "      <td>-0.262879</td>\n",
       "      <td>-0.017933</td>\n",
       "      <td>-0.013343</td>\n",
       "      <td>-0.004319</td>\n",
       "      <td>0.206757</td>\n",
       "      <td>-0.073182</td>\n",
       "      <td>0.0</td>\n",
       "    </tr>\n",
       "    <tr>\n",
       "      <th>2</th>\n",
       "      <td>-0.004615</td>\n",
       "      <td>0.031580</td>\n",
       "      <td>-0.010094</td>\n",
       "      <td>0.023383</td>\n",
       "      <td>0.005419</td>\n",
       "      <td>-0.262879</td>\n",
       "      <td>0.017390</td>\n",
       "      <td>-0.013343</td>\n",
       "      <td>-0.004319</td>\n",
       "      <td>0.206757</td>\n",
       "      <td>-0.073182</td>\n",
       "      <td>0.0</td>\n",
       "    </tr>\n",
       "    <tr>\n",
       "      <th>3</th>\n",
       "      <td>0.004596</td>\n",
       "      <td>-0.007368</td>\n",
       "      <td>-0.010094</td>\n",
       "      <td>-0.003997</td>\n",
       "      <td>0.005419</td>\n",
       "      <td>-0.262879</td>\n",
       "      <td>0.017390</td>\n",
       "      <td>0.091379</td>\n",
       "      <td>-0.004319</td>\n",
       "      <td>0.206757</td>\n",
       "      <td>-0.122937</td>\n",
       "      <td>0.0</td>\n",
       "    </tr>\n",
       "    <tr>\n",
       "      <th>4</th>\n",
       "      <td>0.004596</td>\n",
       "      <td>0.031580</td>\n",
       "      <td>0.032129</td>\n",
       "      <td>-0.003997</td>\n",
       "      <td>-0.010384</td>\n",
       "      <td>-0.243157</td>\n",
       "      <td>-0.017933</td>\n",
       "      <td>-0.028033</td>\n",
       "      <td>-0.004319</td>\n",
       "      <td>0.206757</td>\n",
       "      <td>-0.073182</td>\n",
       "      <td>0.0</td>\n",
       "    </tr>\n",
       "  </tbody>\n",
       "</table>\n",
       "</div>"
      ],
      "text/plain": [
       "   Application ID       Age    Gender  \\\n",
       "0       -0.004615 -0.007368  0.032129   \n",
       "1        0.004596  0.031580 -0.010094   \n",
       "2       -0.004615  0.031580 -0.010094   \n",
       "3        0.004596 -0.007368 -0.010094   \n",
       "4        0.004596  0.031580  0.032129   \n",
       "\n",
       "   Marital Status (at the time of application)  No of dependents    Income  \\\n",
       "0                                    -0.003997          0.005419 -0.243157   \n",
       "1                                    -0.003997         -0.010384 -0.262879   \n",
       "2                                     0.023383          0.005419 -0.262879   \n",
       "3                                    -0.003997          0.005419 -0.262879   \n",
       "4                                    -0.003997         -0.010384 -0.243157   \n",
       "\n",
       "   Education  Profession   Type of residence  \\\n",
       "0   0.017390    -0.028033          -0.004319   \n",
       "1  -0.017933    -0.013343          -0.004319   \n",
       "2   0.017390    -0.013343          -0.004319   \n",
       "3   0.017390     0.091379          -0.004319   \n",
       "4  -0.017933    -0.028033          -0.004319   \n",
       "\n",
       "   No of months in current residence  No of months in current company  \\\n",
       "0                           0.206757                        -0.122937   \n",
       "1                           0.206757                        -0.073182   \n",
       "2                           0.206757                        -0.073182   \n",
       "3                           0.206757                        -0.122937   \n",
       "4                           0.206757                        -0.073182   \n",
       "\n",
       "   Performance Tag  \n",
       "0              0.0  \n",
       "1              0.0  \n",
       "2              0.0  \n",
       "3              0.0  \n",
       "4              0.0  "
      ]
     },
     "execution_count": 36,
     "metadata": {},
     "output_type": "execute_result"
    }
   ],
   "source": [
    "Demographics_woe.head()"
   ]
  },
  {
   "cell_type": "code",
   "execution_count": 37,
   "metadata": {},
   "outputs": [],
   "source": [
    "#applying binning function to CreditBureau Dataset\n",
    "final_iv, IV = data_vars(CreditBureau_woe,CreditBureau_woe['Performance Tag'])"
   ]
  },
  {
   "cell_type": "code",
   "execution_count": 38,
   "metadata": {},
   "outputs": [
    {
     "data": {
      "text/html": [
       "<div>\n",
       "<style scoped>\n",
       "    .dataframe tbody tr th:only-of-type {\n",
       "        vertical-align: middle;\n",
       "    }\n",
       "\n",
       "    .dataframe tbody tr th {\n",
       "        vertical-align: top;\n",
       "    }\n",
       "\n",
       "    .dataframe thead th {\n",
       "        text-align: right;\n",
       "    }\n",
       "</style>\n",
       "<table border=\"1\" class=\"dataframe\">\n",
       "  <thead>\n",
       "    <tr style=\"text-align: right;\">\n",
       "      <th></th>\n",
       "      <th>VAR_NAME</th>\n",
       "      <th>IV</th>\n",
       "    </tr>\n",
       "  </thead>\n",
       "  <tbody>\n",
       "    <tr>\n",
       "      <th>1</th>\n",
       "      <td>Avgas CC Utilization in last 12 months</td>\n",
       "      <td>0.293831</td>\n",
       "    </tr>\n",
       "    <tr>\n",
       "      <th>12</th>\n",
       "      <td>No of trades opened in last 12 months</td>\n",
       "      <td>0.257429</td>\n",
       "    </tr>\n",
       "    <tr>\n",
       "      <th>2</th>\n",
       "      <td>No of Inquiries in last 12 months (excluding h...</td>\n",
       "      <td>0.229218</td>\n",
       "    </tr>\n",
       "    <tr>\n",
       "      <th>18</th>\n",
       "      <td>Total No of Trades</td>\n",
       "      <td>0.189907</td>\n",
       "    </tr>\n",
       "    <tr>\n",
       "      <th>6</th>\n",
       "      <td>No of times 30 DPD or worse in last 12 months</td>\n",
       "      <td>0.188045</td>\n",
       "    </tr>\n",
       "    <tr>\n",
       "      <th>4</th>\n",
       "      <td>No of PL trades opened in last 12 months</td>\n",
       "      <td>0.176644</td>\n",
       "    </tr>\n",
       "    <tr>\n",
       "      <th>7</th>\n",
       "      <td>No of times 30 DPD or worse in last 6 months</td>\n",
       "      <td>0.145708</td>\n",
       "    </tr>\n",
       "    <tr>\n",
       "      <th>8</th>\n",
       "      <td>No of times 60 DPD or worse in last 12 months</td>\n",
       "      <td>0.137676</td>\n",
       "    </tr>\n",
       "    <tr>\n",
       "      <th>5</th>\n",
       "      <td>No of PL trades opened in last 6 months</td>\n",
       "      <td>0.124744</td>\n",
       "    </tr>\n",
       "    <tr>\n",
       "      <th>10</th>\n",
       "      <td>No of times 90 DPD or worse in last 12 months</td>\n",
       "      <td>0.095714</td>\n",
       "    </tr>\n",
       "    <tr>\n",
       "      <th>13</th>\n",
       "      <td>No of trades opened in last 6 months</td>\n",
       "      <td>0.095329</td>\n",
       "    </tr>\n",
       "    <tr>\n",
       "      <th>3</th>\n",
       "      <td>No of Inquiries in last 6 months (excluding ho...</td>\n",
       "      <td>0.092939</td>\n",
       "    </tr>\n",
       "    <tr>\n",
       "      <th>9</th>\n",
       "      <td>No of times 60 DPD or worse in last 6 months</td>\n",
       "      <td>0.089574</td>\n",
       "    </tr>\n",
       "    <tr>\n",
       "      <th>11</th>\n",
       "      <td>No of times 90 DPD or worse in last 6 months</td>\n",
       "      <td>0.030711</td>\n",
       "    </tr>\n",
       "    <tr>\n",
       "      <th>14</th>\n",
       "      <td>Outstanding Balance</td>\n",
       "      <td>0.008661</td>\n",
       "    </tr>\n",
       "    <tr>\n",
       "      <th>16</th>\n",
       "      <td>Presence of open auto loan</td>\n",
       "      <td>0.001655</td>\n",
       "    </tr>\n",
       "    <tr>\n",
       "      <th>17</th>\n",
       "      <td>Presence of open home loan</td>\n",
       "      <td>0.000462</td>\n",
       "    </tr>\n",
       "    <tr>\n",
       "      <th>0</th>\n",
       "      <td>Application ID</td>\n",
       "      <td>0.000021</td>\n",
       "    </tr>\n",
       "    <tr>\n",
       "      <th>15</th>\n",
       "      <td>Performance Tag</td>\n",
       "      <td>0.000000</td>\n",
       "    </tr>\n",
       "  </tbody>\n",
       "</table>\n",
       "</div>"
      ],
      "text/plain": [
       "                                             VAR_NAME        IV\n",
       "1              Avgas CC Utilization in last 12 months  0.293831\n",
       "12              No of trades opened in last 12 months  0.257429\n",
       "2   No of Inquiries in last 12 months (excluding h...  0.229218\n",
       "18                                 Total No of Trades  0.189907\n",
       "6       No of times 30 DPD or worse in last 12 months  0.188045\n",
       "4            No of PL trades opened in last 12 months  0.176644\n",
       "7        No of times 30 DPD or worse in last 6 months  0.145708\n",
       "8       No of times 60 DPD or worse in last 12 months  0.137676\n",
       "5             No of PL trades opened in last 6 months  0.124744\n",
       "10      No of times 90 DPD or worse in last 12 months  0.095714\n",
       "13               No of trades opened in last 6 months  0.095329\n",
       "3   No of Inquiries in last 6 months (excluding ho...  0.092939\n",
       "9        No of times 60 DPD or worse in last 6 months  0.089574\n",
       "11       No of times 90 DPD or worse in last 6 months  0.030711\n",
       "14                                Outstanding Balance  0.008661\n",
       "16                         Presence of open auto loan  0.001655\n",
       "17                         Presence of open home loan  0.000462\n",
       "0                                      Application ID  0.000021\n",
       "15                                    Performance Tag  0.000000"
      ]
     },
     "execution_count": 38,
     "metadata": {},
     "output_type": "execute_result"
    }
   ],
   "source": [
    "#Finding IV values of attributes in CreditBureau Dataset.\n",
    "IV.sort_values('IV',ascending=False)"
   ]
  },
  {
   "cell_type": "markdown",
   "metadata": {},
   "source": [
    "Based on IV values, below are the top significant variables.\n",
    "\n",
    "  Avgas.CC.Utilization.in.last.12.months 0.2935\n",
    "  \n",
    "  No of trades opened in last 12 months  0.2574\n",
    "   \n",
    "  No of Inquiries in last 12 months (excluding h...  0.2292\n",
    "                                     \n",
    "  No of times 30 DPD or worse in last 12 months   0.188045\n",
    "  \n",
    "     "
   ]
  },
  {
   "cell_type": "code",
   "execution_count": 39,
   "metadata": {},
   "outputs": [],
   "source": [
    "#applying binning function to Master_Data_woe Dataset\n",
    "final_iv, IV = data_vars(Master_Data_woe,Master_Data_woe['Performance Tag_y'])"
   ]
  },
  {
   "cell_type": "code",
   "execution_count": 40,
   "metadata": {},
   "outputs": [
    {
     "data": {
      "text/html": [
       "<div>\n",
       "<style scoped>\n",
       "    .dataframe tbody tr th:only-of-type {\n",
       "        vertical-align: middle;\n",
       "    }\n",
       "\n",
       "    .dataframe tbody tr th {\n",
       "        vertical-align: top;\n",
       "    }\n",
       "\n",
       "    .dataframe thead th {\n",
       "        text-align: right;\n",
       "    }\n",
       "</style>\n",
       "<table border=\"1\" class=\"dataframe\">\n",
       "  <thead>\n",
       "    <tr style=\"text-align: right;\">\n",
       "      <th></th>\n",
       "      <th>VAR_NAME</th>\n",
       "      <th>IV</th>\n",
       "    </tr>\n",
       "  </thead>\n",
       "  <tbody>\n",
       "    <tr>\n",
       "      <th>2</th>\n",
       "      <td>Avgas CC Utilization in last 12 months</td>\n",
       "      <td>0.293831</td>\n",
       "    </tr>\n",
       "    <tr>\n",
       "      <th>20</th>\n",
       "      <td>No of trades opened in last 12 months</td>\n",
       "      <td>0.257429</td>\n",
       "    </tr>\n",
       "    <tr>\n",
       "      <th>7</th>\n",
       "      <td>No of Inquiries in last 12 months (excluding h...</td>\n",
       "      <td>0.229218</td>\n",
       "    </tr>\n",
       "    <tr>\n",
       "      <th>28</th>\n",
       "      <td>Total No of Trades</td>\n",
       "      <td>0.189907</td>\n",
       "    </tr>\n",
       "    <tr>\n",
       "      <th>14</th>\n",
       "      <td>No of times 30 DPD or worse in last 12 months</td>\n",
       "      <td>0.188045</td>\n",
       "    </tr>\n",
       "    <tr>\n",
       "      <th>9</th>\n",
       "      <td>No of PL trades opened in last 12 months</td>\n",
       "      <td>0.176644</td>\n",
       "    </tr>\n",
       "    <tr>\n",
       "      <th>15</th>\n",
       "      <td>No of times 30 DPD or worse in last 6 months</td>\n",
       "      <td>0.145708</td>\n",
       "    </tr>\n",
       "    <tr>\n",
       "      <th>16</th>\n",
       "      <td>No of times 60 DPD or worse in last 12 months</td>\n",
       "      <td>0.137676</td>\n",
       "    </tr>\n",
       "    <tr>\n",
       "      <th>10</th>\n",
       "      <td>No of PL trades opened in last 6 months</td>\n",
       "      <td>0.124744</td>\n",
       "    </tr>\n",
       "    <tr>\n",
       "      <th>18</th>\n",
       "      <td>No of times 90 DPD or worse in last 12 months</td>\n",
       "      <td>0.095714</td>\n",
       "    </tr>\n",
       "    <tr>\n",
       "      <th>21</th>\n",
       "      <td>No of trades opened in last 6 months</td>\n",
       "      <td>0.095329</td>\n",
       "    </tr>\n",
       "    <tr>\n",
       "      <th>8</th>\n",
       "      <td>No of Inquiries in last 6 months (excluding ho...</td>\n",
       "      <td>0.092939</td>\n",
       "    </tr>\n",
       "    <tr>\n",
       "      <th>17</th>\n",
       "      <td>No of times 60 DPD or worse in last 6 months</td>\n",
       "      <td>0.089574</td>\n",
       "    </tr>\n",
       "    <tr>\n",
       "      <th>13</th>\n",
       "      <td>No of months in current residence</td>\n",
       "      <td>0.052060</td>\n",
       "    </tr>\n",
       "    <tr>\n",
       "      <th>5</th>\n",
       "      <td>Income</td>\n",
       "      <td>0.037624</td>\n",
       "    </tr>\n",
       "    <tr>\n",
       "      <th>19</th>\n",
       "      <td>No of times 90 DPD or worse in last 6 months</td>\n",
       "      <td>0.030711</td>\n",
       "    </tr>\n",
       "    <tr>\n",
       "      <th>12</th>\n",
       "      <td>No of months in current company</td>\n",
       "      <td>0.012735</td>\n",
       "    </tr>\n",
       "    <tr>\n",
       "      <th>22</th>\n",
       "      <td>Outstanding Balance</td>\n",
       "      <td>0.008661</td>\n",
       "    </tr>\n",
       "    <tr>\n",
       "      <th>27</th>\n",
       "      <td>Profession</td>\n",
       "      <td>0.002217</td>\n",
       "    </tr>\n",
       "    <tr>\n",
       "      <th>25</th>\n",
       "      <td>Presence of open auto loan</td>\n",
       "      <td>0.001655</td>\n",
       "    </tr>\n",
       "    <tr>\n",
       "      <th>29</th>\n",
       "      <td>Type of residence</td>\n",
       "      <td>0.000924</td>\n",
       "    </tr>\n",
       "    <tr>\n",
       "      <th>3</th>\n",
       "      <td>Education</td>\n",
       "      <td>0.000783</td>\n",
       "    </tr>\n",
       "    <tr>\n",
       "      <th>0</th>\n",
       "      <td>Age</td>\n",
       "      <td>0.000625</td>\n",
       "    </tr>\n",
       "    <tr>\n",
       "      <th>26</th>\n",
       "      <td>Presence of open home loan</td>\n",
       "      <td>0.000462</td>\n",
       "    </tr>\n",
       "    <tr>\n",
       "      <th>4</th>\n",
       "      <td>Gender</td>\n",
       "      <td>0.000325</td>\n",
       "    </tr>\n",
       "    <tr>\n",
       "      <th>6</th>\n",
       "      <td>Marital Status (at the time of application)</td>\n",
       "      <td>0.000095</td>\n",
       "    </tr>\n",
       "    <tr>\n",
       "      <th>11</th>\n",
       "      <td>No of dependents</td>\n",
       "      <td>0.000056</td>\n",
       "    </tr>\n",
       "    <tr>\n",
       "      <th>1</th>\n",
       "      <td>Application ID</td>\n",
       "      <td>0.000021</td>\n",
       "    </tr>\n",
       "    <tr>\n",
       "      <th>23</th>\n",
       "      <td>Performance Tag_x</td>\n",
       "      <td>0.000000</td>\n",
       "    </tr>\n",
       "    <tr>\n",
       "      <th>24</th>\n",
       "      <td>Performance Tag_y</td>\n",
       "      <td>0.000000</td>\n",
       "    </tr>\n",
       "  </tbody>\n",
       "</table>\n",
       "</div>"
      ],
      "text/plain": [
       "                                             VAR_NAME        IV\n",
       "2              Avgas CC Utilization in last 12 months  0.293831\n",
       "20              No of trades opened in last 12 months  0.257429\n",
       "7   No of Inquiries in last 12 months (excluding h...  0.229218\n",
       "28                                 Total No of Trades  0.189907\n",
       "14      No of times 30 DPD or worse in last 12 months  0.188045\n",
       "9            No of PL trades opened in last 12 months  0.176644\n",
       "15       No of times 30 DPD or worse in last 6 months  0.145708\n",
       "16      No of times 60 DPD or worse in last 12 months  0.137676\n",
       "10            No of PL trades opened in last 6 months  0.124744\n",
       "18      No of times 90 DPD or worse in last 12 months  0.095714\n",
       "21               No of trades opened in last 6 months  0.095329\n",
       "8   No of Inquiries in last 6 months (excluding ho...  0.092939\n",
       "17       No of times 60 DPD or worse in last 6 months  0.089574\n",
       "13                  No of months in current residence  0.052060\n",
       "5                                              Income  0.037624\n",
       "19       No of times 90 DPD or worse in last 6 months  0.030711\n",
       "12                    No of months in current company  0.012735\n",
       "22                                Outstanding Balance  0.008661\n",
       "27                                        Profession   0.002217\n",
       "25                         Presence of open auto loan  0.001655\n",
       "29                                  Type of residence  0.000924\n",
       "3                                           Education  0.000783\n",
       "0                                                 Age  0.000625\n",
       "26                         Presence of open home loan  0.000462\n",
       "4                                              Gender  0.000325\n",
       "6         Marital Status (at the time of application)  0.000095\n",
       "11                                   No of dependents  0.000056\n",
       "1                                      Application ID  0.000021\n",
       "23                                  Performance Tag_x  0.000000\n",
       "24                                  Performance Tag_y  0.000000"
      ]
     },
     "execution_count": 40,
     "metadata": {},
     "output_type": "execute_result"
    }
   ],
   "source": [
    "#Finding IV values of attributes in Master_Data_woe Dataset.\n",
    "IV.sort_values('IV',ascending=False)"
   ]
  },
  {
   "cell_type": "markdown",
   "metadata": {},
   "source": [
    "On the combined Demographic and CreditBureau data i.e Master_data the IV values of Attributes of CreditBureau are higher than Attributes Demographics\n",
    "dataset.\n",
    "It shows that Attributes of CreditBureau data plays Significant role."
   ]
  },
  {
   "cell_type": "code",
   "execution_count": 41,
   "metadata": {},
   "outputs": [],
   "source": [
    "transform_vars_list = (Master_Data_woe.columns.difference(['Performance Tag_x']))"
   ]
  },
  {
   "cell_type": "code",
   "execution_count": 42,
   "metadata": {},
   "outputs": [
    {
     "data": {
      "text/plain": [
       "Index(['Age', 'Application ID', 'Avgas CC Utilization in last 12 months',\n",
       "       'Education', 'Gender', 'Income',\n",
       "       'Marital Status (at the time of application)',\n",
       "       'No of Inquiries in last 12 months (excluding home & auto loans)',\n",
       "       'No of Inquiries in last 6 months (excluding home & auto loans)',\n",
       "       'No of PL trades opened in last 12 months',\n",
       "       'No of PL trades opened in last 6 months', 'No of dependents',\n",
       "       'No of months in current company', 'No of months in current residence',\n",
       "       'No of times 30 DPD or worse in last 12 months',\n",
       "       'No of times 30 DPD or worse in last 6 months',\n",
       "       'No of times 60 DPD or worse in last 12 months',\n",
       "       'No of times 60 DPD or worse in last 6 months',\n",
       "       'No of times 90 DPD or worse in last 12 months',\n",
       "       'No of times 90 DPD or worse in last 6 months',\n",
       "       'No of trades opened in last 12 months',\n",
       "       'No of trades opened in last 6 months', 'Outstanding Balance',\n",
       "       'Performance Tag_y', 'Presence of open auto loan',\n",
       "       'Presence of open home loan', 'Profession ', 'Total No of Trades',\n",
       "       'Type of residence'],\n",
       "      dtype='object')"
      ]
     },
     "execution_count": 42,
     "metadata": {},
     "output_type": "execute_result"
    }
   ],
   "source": [
    "transform_vars_list"
   ]
  },
  {
   "cell_type": "code",
   "execution_count": 43,
   "metadata": {},
   "outputs": [],
   "source": [
    "#function to assign woe values to  Master_Data_woe dataset.\n",
    "for var in transform_vars_list:\n",
    "    small_df = final_iv[final_iv['VAR_NAME'] == var]\n",
    "    small_df = small_df[~(small_df.MIN_VALUE.isnull())]\n",
    "    small_df = small_df[~(small_df.MAX_VALUE.isnull())]\n",
    "    transform_dict = dict(zip(small_df.MAX_VALUE,small_df.WOE))\n",
    "    replace_cmd = ''\n",
    "    replace_cmd1 = ''\n",
    "    for i in sorted(transform_dict.items()):\n",
    "        replace_cmd = replace_cmd + str(i[1]) + str(' if x <= ') + str(i[0]) + ' else '\n",
    "        replace_cmd1 = replace_cmd1 + str(i[1]) + str(' if x == \"') + str(i[0]) + '\" else '\n",
    "    replace_cmd = replace_cmd + '0'\n",
    "    replace_cmd1 = replace_cmd1 + '0'\n",
    "    if replace_cmd != '0':\n",
    "        try:\n",
    "           Master_Data_woe[var] = Master_Data_woe[var].apply(lambda x: eval(replace_cmd))\n",
    "        except:\n",
    "           Master_Data_woe[var] = Master_Data_woe[var].apply(lambda x: eval(replace_cmd1))"
   ]
  },
  {
   "cell_type": "code",
   "execution_count": 44,
   "metadata": {},
   "outputs": [
    {
     "data": {
      "text/html": [
       "<div>\n",
       "<style scoped>\n",
       "    .dataframe tbody tr th:only-of-type {\n",
       "        vertical-align: middle;\n",
       "    }\n",
       "\n",
       "    .dataframe tbody tr th {\n",
       "        vertical-align: top;\n",
       "    }\n",
       "\n",
       "    .dataframe thead th {\n",
       "        text-align: right;\n",
       "    }\n",
       "</style>\n",
       "<table border=\"1\" class=\"dataframe\">\n",
       "  <thead>\n",
       "    <tr style=\"text-align: right;\">\n",
       "      <th></th>\n",
       "      <th>Application ID</th>\n",
       "      <th>Age</th>\n",
       "      <th>Gender</th>\n",
       "      <th>Marital Status (at the time of application)</th>\n",
       "      <th>No of dependents</th>\n",
       "      <th>Income</th>\n",
       "      <th>Education</th>\n",
       "      <th>Profession</th>\n",
       "      <th>Type of residence</th>\n",
       "      <th>No of months in current residence</th>\n",
       "      <th>...</th>\n",
       "      <th>No of trades opened in last 12 months</th>\n",
       "      <th>No of PL trades opened in last 6 months</th>\n",
       "      <th>No of PL trades opened in last 12 months</th>\n",
       "      <th>No of Inquiries in last 6 months (excluding home &amp; auto loans)</th>\n",
       "      <th>No of Inquiries in last 12 months (excluding home &amp; auto loans)</th>\n",
       "      <th>Presence of open home loan</th>\n",
       "      <th>Outstanding Balance</th>\n",
       "      <th>Total No of Trades</th>\n",
       "      <th>Presence of open auto loan</th>\n",
       "      <th>Performance Tag_y</th>\n",
       "    </tr>\n",
       "  </thead>\n",
       "  <tbody>\n",
       "    <tr>\n",
       "      <th>0</th>\n",
       "      <td>-0.004615</td>\n",
       "      <td>-0.007368</td>\n",
       "      <td>0.032129</td>\n",
       "      <td>-0.003997</td>\n",
       "      <td>0.005419</td>\n",
       "      <td>-0.243157</td>\n",
       "      <td>0.017390</td>\n",
       "      <td>-0.028033</td>\n",
       "      <td>-0.004319</td>\n",
       "      <td>0.206757</td>\n",
       "      <td>...</td>\n",
       "      <td>-0.865089</td>\n",
       "      <td>-0.314635</td>\n",
       "      <td>-0.453113</td>\n",
       "      <td>-0.320076</td>\n",
       "      <td>-0.828287</td>\n",
       "      <td>0.001235</td>\n",
       "      <td>0.088272</td>\n",
       "      <td>-0.686175</td>\n",
       "      <td>0.011973</td>\n",
       "      <td>0.0</td>\n",
       "    </tr>\n",
       "    <tr>\n",
       "      <th>1</th>\n",
       "      <td>0.004596</td>\n",
       "      <td>0.031580</td>\n",
       "      <td>-0.010094</td>\n",
       "      <td>-0.003997</td>\n",
       "      <td>-0.010384</td>\n",
       "      <td>-0.262879</td>\n",
       "      <td>-0.017933</td>\n",
       "      <td>-0.013343</td>\n",
       "      <td>-0.004319</td>\n",
       "      <td>0.206757</td>\n",
       "      <td>...</td>\n",
       "      <td>-0.865089</td>\n",
       "      <td>-0.314635</td>\n",
       "      <td>-0.453113</td>\n",
       "      <td>-0.320076</td>\n",
       "      <td>-0.828287</td>\n",
       "      <td>0.001235</td>\n",
       "      <td>-0.093345</td>\n",
       "      <td>0.210325</td>\n",
       "      <td>0.011973</td>\n",
       "      <td>0.0</td>\n",
       "    </tr>\n",
       "    <tr>\n",
       "      <th>2</th>\n",
       "      <td>-0.004615</td>\n",
       "      <td>0.031580</td>\n",
       "      <td>-0.010094</td>\n",
       "      <td>0.023383</td>\n",
       "      <td>0.005419</td>\n",
       "      <td>-0.262879</td>\n",
       "      <td>0.017390</td>\n",
       "      <td>-0.013343</td>\n",
       "      <td>-0.004319</td>\n",
       "      <td>0.206757</td>\n",
       "      <td>...</td>\n",
       "      <td>-0.865089</td>\n",
       "      <td>-0.314635</td>\n",
       "      <td>-0.453113</td>\n",
       "      <td>-0.320076</td>\n",
       "      <td>-0.828287</td>\n",
       "      <td>0.001235</td>\n",
       "      <td>0.088272</td>\n",
       "      <td>-0.686175</td>\n",
       "      <td>0.011973</td>\n",
       "      <td>0.0</td>\n",
       "    </tr>\n",
       "    <tr>\n",
       "      <th>3</th>\n",
       "      <td>0.004596</td>\n",
       "      <td>-0.007368</td>\n",
       "      <td>-0.010094</td>\n",
       "      <td>-0.003997</td>\n",
       "      <td>0.005419</td>\n",
       "      <td>-0.262879</td>\n",
       "      <td>0.017390</td>\n",
       "      <td>0.091379</td>\n",
       "      <td>-0.004319</td>\n",
       "      <td>0.206757</td>\n",
       "      <td>...</td>\n",
       "      <td>-0.865089</td>\n",
       "      <td>-0.314635</td>\n",
       "      <td>-0.453113</td>\n",
       "      <td>-0.320076</td>\n",
       "      <td>-0.828287</td>\n",
       "      <td>0.001235</td>\n",
       "      <td>0.088272</td>\n",
       "      <td>-0.686175</td>\n",
       "      <td>-0.138237</td>\n",
       "      <td>0.0</td>\n",
       "    </tr>\n",
       "    <tr>\n",
       "      <th>4</th>\n",
       "      <td>0.004596</td>\n",
       "      <td>0.031580</td>\n",
       "      <td>0.032129</td>\n",
       "      <td>-0.003997</td>\n",
       "      <td>-0.010384</td>\n",
       "      <td>-0.243157</td>\n",
       "      <td>-0.017933</td>\n",
       "      <td>-0.028033</td>\n",
       "      <td>-0.004319</td>\n",
       "      <td>0.206757</td>\n",
       "      <td>...</td>\n",
       "      <td>-0.865089</td>\n",
       "      <td>-0.314635</td>\n",
       "      <td>-0.453113</td>\n",
       "      <td>-0.320076</td>\n",
       "      <td>-0.828287</td>\n",
       "      <td>0.001235</td>\n",
       "      <td>0.088272</td>\n",
       "      <td>-0.686175</td>\n",
       "      <td>0.011973</td>\n",
       "      <td>0.0</td>\n",
       "    </tr>\n",
       "  </tbody>\n",
       "</table>\n",
       "<p>5 rows × 30 columns</p>\n",
       "</div>"
      ],
      "text/plain": [
       "   Application ID       Age    Gender  \\\n",
       "0       -0.004615 -0.007368  0.032129   \n",
       "1        0.004596  0.031580 -0.010094   \n",
       "2       -0.004615  0.031580 -0.010094   \n",
       "3        0.004596 -0.007368 -0.010094   \n",
       "4        0.004596  0.031580  0.032129   \n",
       "\n",
       "   Marital Status (at the time of application)  No of dependents    Income  \\\n",
       "0                                    -0.003997          0.005419 -0.243157   \n",
       "1                                    -0.003997         -0.010384 -0.262879   \n",
       "2                                     0.023383          0.005419 -0.262879   \n",
       "3                                    -0.003997          0.005419 -0.262879   \n",
       "4                                    -0.003997         -0.010384 -0.243157   \n",
       "\n",
       "   Education  Profession   Type of residence  \\\n",
       "0   0.017390    -0.028033          -0.004319   \n",
       "1  -0.017933    -0.013343          -0.004319   \n",
       "2   0.017390    -0.013343          -0.004319   \n",
       "3   0.017390     0.091379          -0.004319   \n",
       "4  -0.017933    -0.028033          -0.004319   \n",
       "\n",
       "   No of months in current residence  ...  \\\n",
       "0                           0.206757  ...   \n",
       "1                           0.206757  ...   \n",
       "2                           0.206757  ...   \n",
       "3                           0.206757  ...   \n",
       "4                           0.206757  ...   \n",
       "\n",
       "   No of trades opened in last 12 months  \\\n",
       "0                              -0.865089   \n",
       "1                              -0.865089   \n",
       "2                              -0.865089   \n",
       "3                              -0.865089   \n",
       "4                              -0.865089   \n",
       "\n",
       "   No of PL trades opened in last 6 months  \\\n",
       "0                                -0.314635   \n",
       "1                                -0.314635   \n",
       "2                                -0.314635   \n",
       "3                                -0.314635   \n",
       "4                                -0.314635   \n",
       "\n",
       "   No of PL trades opened in last 12 months  \\\n",
       "0                                 -0.453113   \n",
       "1                                 -0.453113   \n",
       "2                                 -0.453113   \n",
       "3                                 -0.453113   \n",
       "4                                 -0.453113   \n",
       "\n",
       "   No of Inquiries in last 6 months (excluding home & auto loans)  \\\n",
       "0                                          -0.320076                \n",
       "1                                          -0.320076                \n",
       "2                                          -0.320076                \n",
       "3                                          -0.320076                \n",
       "4                                          -0.320076                \n",
       "\n",
       "   No of Inquiries in last 12 months (excluding home & auto loans)  \\\n",
       "0                                          -0.828287                 \n",
       "1                                          -0.828287                 \n",
       "2                                          -0.828287                 \n",
       "3                                          -0.828287                 \n",
       "4                                          -0.828287                 \n",
       "\n",
       "   Presence of open home loan  Outstanding Balance  Total No of Trades  \\\n",
       "0                    0.001235             0.088272           -0.686175   \n",
       "1                    0.001235            -0.093345            0.210325   \n",
       "2                    0.001235             0.088272           -0.686175   \n",
       "3                    0.001235             0.088272           -0.686175   \n",
       "4                    0.001235             0.088272           -0.686175   \n",
       "\n",
       "   Presence of open auto loan  Performance Tag_y  \n",
       "0                    0.011973                0.0  \n",
       "1                    0.011973                0.0  \n",
       "2                    0.011973                0.0  \n",
       "3                   -0.138237                0.0  \n",
       "4                    0.011973                0.0  \n",
       "\n",
       "[5 rows x 30 columns]"
      ]
     },
     "execution_count": 44,
     "metadata": {},
     "output_type": "execute_result"
    }
   ],
   "source": [
    "Master_Data_woe.head()"
   ]
  },
  {
   "cell_type": "code",
   "execution_count": 45,
   "metadata": {},
   "outputs": [
    {
     "data": {
      "text/plain": [
       "0.042"
      ]
     },
     "execution_count": 45,
     "metadata": {},
     "output_type": "execute_result"
    }
   ],
   "source": [
    "#Overall default Rate\n",
    "round(np.mean(Master_Data_woe['Performance Tag_x']), 3)"
   ]
  },
  {
   "cell_type": "markdown",
   "metadata": {},
   "source": [
    "So the overall default rate is 4.2%.\n",
    "\n",
    "let's now visualise dafault rate across various categorical variables."
   ]
  },
  {
   "cell_type": "code",
   "execution_count": 46,
   "metadata": {},
   "outputs": [],
   "source": [
    "# function to plot categorical variables\n",
    "def plot_cat(cat_var):\n",
    "    sns.countplot(x=cat_var, data=Demographics)\n",
    "    plt.show()"
   ]
  },
  {
   "cell_type": "code",
   "execution_count": 47,
   "metadata": {},
   "outputs": [],
   "source": [
    "# function to plot performance tag across categorical variables\n",
    "def plot_cat_per(cat_var):\n",
    "    sns.countplot(x=cat_var,hue='Performance Tag', data=Demographics)\n",
    "    plt.show()"
   ]
  },
  {
   "cell_type": "code",
   "execution_count": 48,
   "metadata": {},
   "outputs": [
    {
     "data": {
      "text/plain": [
       "(array([-10.,   0.,  10.,  20.,  30.,  40.,  50.,  60.,  70.]),\n",
       " <a list of 9 Text xticklabel objects>)"
      ]
     },
     "execution_count": 48,
     "metadata": {},
     "output_type": "execute_result"
    },
    {
     "data": {
      "image/png": "[encoded data removed]",
      "text/plain": [
       "<Figure size 432x288 with 1 Axes>"
      ]
     },
     "metadata": {
      "needs_background": "light"
     },
     "output_type": "display_data"
    }
   ],
   "source": [
    "sns.boxplot(x = \"Age\", data = Demographics)\n",
    "xticks(rotation = 90)"
   ]
  },
  {
   "cell_type": "code",
   "execution_count": 49,
   "metadata": {},
   "outputs": [
    {
     "data": {
      "text/plain": [
       "(array([0, 1]), <a list of 2 Text xticklabel objects>)"
      ]
     },
     "execution_count": 49,
     "metadata": {},
     "output_type": "execute_result"
    },
    {
     "data": {
      "image/png": "[encoded data removed]",
      "text/plain": [
       "<Figure size 432x288 with 1 Axes>"
      ]
     },
     "metadata": {
      "needs_background": "light"
     },
     "output_type": "display_data"
    }
   ],
   "source": [
    "sns.boxplot(x = \"Performance Tag\",y=\"Age\", data = Demographics)\n",
    "xticks(rotation = 90)"
   ]
  },
  {
   "cell_type": "code",
   "execution_count": 50,
   "metadata": {},
   "outputs": [
    {
     "data": {
      "text/plain": [
       "(array([-10.,   0.,  10.,  20.,  30.,  40.,  50.,  60.,  70.]),\n",
       " <a list of 9 Text xticklabel objects>)"
      ]
     },
     "execution_count": 50,
     "metadata": {},
     "output_type": "execute_result"
    },
    {
     "data": {
      "image/png": "[encoded data removed]",
      "text/plain": [
       "<Figure size 432x288 with 1 Axes>"
      ]
     },
     "metadata": {
      "needs_background": "light"
     },
     "output_type": "display_data"
    }
   ],
   "source": [
    "sns.boxplot(x = \"Income\", data = Demographics)\n",
    "xticks(rotation = 90)\n"
   ]
  },
  {
   "cell_type": "code",
   "execution_count": 51,
   "metadata": {},
   "outputs": [
    {
     "data": {
      "text/plain": [
       "(array([0, 1]), <a list of 2 Text xticklabel objects>)"
      ]
     },
     "execution_count": 51,
     "metadata": {},
     "output_type": "execute_result"
    },
    {
     "data": {
      "image/png": "[encoded data removed]",
      "text/plain": [
       "<Figure size 432x288 with 1 Axes>"
      ]
     },
     "metadata": {
      "needs_background": "light"
     },
     "output_type": "display_data"
    }
   ],
   "source": [
    "sns.boxplot(x = \"Performance Tag\",y=\"Income\", data = Demographics)\n",
    "xticks(rotation = 90)"
   ]
  },
  {
   "cell_type": "code",
   "execution_count": 52,
   "metadata": {},
   "outputs": [
    {
     "data": {
      "text/plain": [
       "(array([  0.,  20.,  40.,  60.,  80., 100., 120., 140.]),\n",
       " <a list of 8 Text xticklabel objects>)"
      ]
     },
     "execution_count": 52,
     "metadata": {},
     "output_type": "execute_result"
    },
    {
     "data": {
      "image/png": "[encoded data removed]",
      "text/plain": [
       "<Figure size 432x288 with 1 Axes>"
      ]
     },
     "metadata": {
      "needs_background": "light"
     },
     "output_type": "display_data"
    }
   ],
   "source": [
    "sns.boxplot(x = \"No of months in current residence\", data = Demographics)\n",
    "xticks(rotation = 90)\n"
   ]
  },
  {
   "cell_type": "code",
   "execution_count": 53,
   "metadata": {},
   "outputs": [
    {
     "data": {
      "text/plain": [
       "(array([0, 1]), <a list of 2 Text xticklabel objects>)"
      ]
     },
     "execution_count": 53,
     "metadata": {},
     "output_type": "execute_result"
    },
    {
     "data": {
      "image/png": "[encoded data removed]",
      "text/plain": [
       "<Figure size 432x288 with 1 Axes>"
      ]
     },
     "metadata": {
      "needs_background": "light"
     },
     "output_type": "display_data"
    }
   ],
   "source": [
    "sns.boxplot(x = \"Performance Tag\",y=\"No of months in current residence\", data = Demographics)\n",
    "xticks(rotation = 90)"
   ]
  },
  {
   "cell_type": "code",
   "execution_count": 54,
   "metadata": {},
   "outputs": [
    {
     "data": {
      "text/plain": [
       "(array([-20.,   0.,  20.,  40.,  60.,  80., 100., 120., 140.]),\n",
       " <a list of 9 Text xticklabel objects>)"
      ]
     },
     "execution_count": 54,
     "metadata": {},
     "output_type": "execute_result"
    },
    {
     "data": {
      "image/png": "[encoded data removed]",
      "text/plain": [
       "<Figure size 432x288 with 1 Axes>"
      ]
     },
     "metadata": {
      "needs_background": "light"
     },
     "output_type": "display_data"
    }
   ],
   "source": [
    "sns.boxplot(x = \"No of months in current company\", data = Demographics)\n",
    "xticks(rotation = 90)"
   ]
  },
  {
   "cell_type": "code",
   "execution_count": 55,
   "metadata": {},
   "outputs": [
    {
     "data": {
      "text/plain": [
       "(array([0, 1]), <a list of 2 Text xticklabel objects>)"
      ]
     },
     "execution_count": 55,
     "metadata": {},
     "output_type": "execute_result"
    },
    {
     "data": {
      "image/png": "[encoded data removed]",
      "text/plain": [
       "<Figure size 432x288 with 1 Axes>"
      ]
     },
     "metadata": {
      "needs_background": "light"
     },
     "output_type": "display_data"
    }
   ],
   "source": [
    "sns.boxplot(x = \"Performance Tag\",y=\"No of months in current company\", data = Demographics)\n",
    "xticks(rotation = 90)"
   ]
  },
  {
   "cell_type": "code",
   "execution_count": 56,
   "metadata": {},
   "outputs": [
    {
     "data": {
      "image/png": "[encoded data removed]",
      "text/plain": [
       "<Figure size 432x288 with 1 Axes>"
      ]
     },
     "metadata": {
      "needs_background": "light"
     },
     "output_type": "display_data"
    }
   ],
   "source": [
    "#plotting default rates across term of loan\n",
    "plot_cat('Gender')"
   ]
  },
  {
   "cell_type": "code",
   "execution_count": 57,
   "metadata": {},
   "outputs": [
    {
     "data": {
      "image/png": "[encoded data removed]",
      "text/plain": [
       "<Figure size 432x288 with 1 Axes>"
      ]
     },
     "metadata": {
      "needs_background": "light"
     },
     "output_type": "display_data"
    }
   ],
   "source": [
    "plot_cat_per('Gender')"
   ]
  },
  {
   "cell_type": "code",
   "execution_count": 58,
   "metadata": {},
   "outputs": [
    {
     "data": {
      "image/png": "[encoded data removed]",
      "text/plain": [
       "<Figure size 432x288 with 1 Axes>"
      ]
     },
     "metadata": {
      "needs_background": "light"
     },
     "output_type": "display_data"
    }
   ],
   "source": [
    "plot_cat('Marital Status (at the time of application)')"
   ]
  },
  {
   "cell_type": "code",
   "execution_count": 59,
   "metadata": {},
   "outputs": [
    {
     "data": {
      "image/png": "[encoded data removed]",
      "text/plain": [
       "<Figure size 432x288 with 1 Axes>"
      ]
     },
     "metadata": {
      "needs_background": "light"
     },
     "output_type": "display_data"
    }
   ],
   "source": [
    "plot_cat_per('Marital Status (at the time of application)')"
   ]
  },
  {
   "cell_type": "code",
   "execution_count": 60,
   "metadata": {},
   "outputs": [
    {
     "data": {
      "image/png": "[encoded data removed]",
      "text/plain": [
       "<Figure size 432x288 with 1 Axes>"
      ]
     },
     "metadata": {
      "needs_background": "light"
     },
     "output_type": "display_data"
    }
   ],
   "source": [
    "plot_cat('No of dependents')"
   ]
  },
  {
   "cell_type": "code",
   "execution_count": 61,
   "metadata": {},
   "outputs": [
    {
     "data": {
      "image/png": "[encoded data removed]",
      "text/plain": [
       "<Figure size 432x288 with 1 Axes>"
      ]
     },
     "metadata": {
      "needs_background": "light"
     },
     "output_type": "display_data"
    }
   ],
   "source": [
    "plot_cat_per('No of dependents')"
   ]
  },
  {
   "cell_type": "code",
   "execution_count": 62,
   "metadata": {},
   "outputs": [
    {
     "data": {
      "image/png": "[encoded data removed]",
      "text/plain": [
       "<Figure size 432x288 with 1 Axes>"
      ]
     },
     "metadata": {
      "needs_background": "light"
     },
     "output_type": "display_data"
    }
   ],
   "source": [
    "plot_cat('Education')"
   ]
  },
  {
   "cell_type": "code",
   "execution_count": 63,
   "metadata": {},
   "outputs": [
    {
     "data": {
      "image/png": "[encoded data removed]",
      "text/plain": [
       "<Figure size 432x288 with 1 Axes>"
      ]
     },
     "metadata": {
      "needs_background": "light"
     },
     "output_type": "display_data"
    }
   ],
   "source": [
    "plot_cat_per('Education')"
   ]
  },
  {
   "cell_type": "code",
   "execution_count": 64,
   "metadata": {},
   "outputs": [
    {
     "data": {
      "image/png": "[encoded data removed]",
      "text/plain": [
       "<Figure size 432x288 with 1 Axes>"
      ]
     },
     "metadata": {
      "needs_background": "light"
     },
     "output_type": "display_data"
    }
   ],
   "source": [
    "plot_cat('Type of residence')"
   ]
  },
  {
   "cell_type": "code",
   "execution_count": 65,
   "metadata": {},
   "outputs": [
    {
     "data": {
      "image/png": "[encoded data removed]",
      "text/plain": [
       "<Figure size 432x288 with 1 Axes>"
      ]
     },
     "metadata": {
      "needs_background": "light"
     },
     "output_type": "display_data"
    }
   ],
   "source": [
    "plot_cat_per('Type of residence')"
   ]
  },
  {
   "cell_type": "code",
   "execution_count": 66,
   "metadata": {},
   "outputs": [
    {
     "data": {
      "text/plain": [
       "Application ID                                                        0\n",
       "Age                                                                   0\n",
       "Gender                                                                2\n",
       "Marital Status (at the time of application)                           6\n",
       "No of dependents                                                      3\n",
       "Income                                                                0\n",
       "Education                                                           118\n",
       "Profession                                                           13\n",
       "Type of residence                                                     8\n",
       "No of months in current residence                                     0\n",
       "No of months in current company                                       0\n",
       "Performance Tag_x                                                     0\n",
       "No of times 90 DPD or worse in last 6 months                          0\n",
       "No of times 60 DPD or worse in last 6 months                          0\n",
       "No of times 30 DPD or worse in last 6 months                          0\n",
       "No of times 90 DPD or worse in last 12 months                         0\n",
       "No of times 60 DPD or worse in last 12 months                         0\n",
       "No of times 30 DPD or worse in last 12 months                         0\n",
       "Avgas CC Utilization in last 12 months                             1023\n",
       "No of trades opened in last 6 months                                  1\n",
       "No of trades opened in last 12 months                                 0\n",
       "No of PL trades opened in last 6 months                               0\n",
       "No of PL trades opened in last 12 months                              0\n",
       "No of Inquiries in last 6 months (excluding home & auto loans)        0\n",
       "No of Inquiries in last 12 months (excluding home & auto loans)       0\n",
       "Presence of open home loan                                          272\n",
       "Outstanding Balance                                                 272\n",
       "Total No of Trades                                                    0\n",
       "Presence of open auto loan                                            0\n",
       "Performance Tag_y                                                     0\n",
       "dtype: int64"
      ]
     },
     "execution_count": 66,
     "metadata": {},
     "output_type": "execute_result"
    }
   ],
   "source": [
    "Master_Data.isnull().sum()"
   ]
  },
  {
   "cell_type": "code",
   "execution_count": 67,
   "metadata": {},
   "outputs": [],
   "source": [
    "# function to plot performance tag across all attributes in CreditBureau Dataset\n",
    "def plot_cat_credit(cat_var):\n",
    "    sns.countplot(x=cat_var,hue='Performance Tag', data=CreditBureau)\n",
    "    plt.show()"
   ]
  },
  {
   "cell_type": "code",
   "execution_count": 68,
   "metadata": {},
   "outputs": [
    {
     "data": {
      "image/png": "[encoded data removed]",
      "text/plain": [
       "<Figure size 432x288 with 1 Axes>"
      ]
     },
     "metadata": {
      "needs_background": "light"
     },
     "output_type": "display_data"
    }
   ],
   "source": [
    "plot_cat_credit('No of times 90 DPD or worse in last 6 months')"
   ]
  },
  {
   "cell_type": "code",
   "execution_count": 69,
   "metadata": {},
   "outputs": [
    {
     "data": {
      "image/png": "[encoded data removed]",
      "text/plain": [
       "<Figure size 432x288 with 1 Axes>"
      ]
     },
     "metadata": {
      "needs_background": "light"
     },
     "output_type": "display_data"
    }
   ],
   "source": [
    "plot_cat_credit('No of times 60 DPD or worse in last 6 months')"
   ]
  },
  {
   "cell_type": "code",
   "execution_count": 70,
   "metadata": {},
   "outputs": [
    {
     "data": {
      "image/png": "[encoded data removed]",
      "text/plain": [
       "<Figure size 432x288 with 1 Axes>"
      ]
     },
     "metadata": {
      "needs_background": "light"
     },
     "output_type": "display_data"
    }
   ],
   "source": [
    "plot_cat_credit('No of times 30 DPD or worse in last 6 months')"
   ]
  },
  {
   "cell_type": "code",
   "execution_count": 71,
   "metadata": {},
   "outputs": [
    {
     "data": {
      "image/png": "[encoded data removed]",
      "text/plain": [
       "<Figure size 432x288 with 1 Axes>"
      ]
     },
     "metadata": {
      "needs_background": "light"
     },
     "output_type": "display_data"
    }
   ],
   "source": [
    "plot_cat_credit('No of times 90 DPD or worse in last 12 months')"
   ]
  },
  {
   "cell_type": "code",
   "execution_count": 72,
   "metadata": {},
   "outputs": [
    {
     "data": {
      "image/png": "[encoded data removed]",
      "text/plain": [
       "<Figure size 432x288 with 1 Axes>"
      ]
     },
     "metadata": {
      "needs_background": "light"
     },
     "output_type": "display_data"
    }
   ],
   "source": [
    "plot_cat_credit('No of times 60 DPD or worse in last 12 months')"
   ]
  },
  {
   "cell_type": "code",
   "execution_count": 73,
   "metadata": {},
   "outputs": [
    {
     "data": {
      "image/png": "[encoded data removed]",
      "text/plain": [
       "<Figure size 432x288 with 1 Axes>"
      ]
     },
     "metadata": {
      "needs_background": "light"
     },
     "output_type": "display_data"
    }
   ],
   "source": [
    "plot_cat_credit('No of times 30 DPD or worse in last 12 months')"
   ]
  },
  {
   "cell_type": "code",
   "execution_count": 74,
   "metadata": {},
   "outputs": [
    {
     "data": {
      "image/png": "[encoded data removed]",
      "text/plain": [
       "<Figure size 432x288 with 1 Axes>"
      ]
     },
     "metadata": {
      "needs_background": "light"
     },
     "output_type": "display_data"
    }
   ],
   "source": [
    "plot_cat_credit('No of trades opened in last 6 months')"
   ]
  },
  {
   "cell_type": "code",
   "execution_count": 75,
   "metadata": {},
   "outputs": [
    {
     "data": {
      "image/png": "[encoded data removed]",
      "text/plain": [
       "<Figure size 432x288 with 1 Axes>"
      ]
     },
     "metadata": {
      "needs_background": "light"
     },
     "output_type": "display_data"
    }
   ],
   "source": [
    "plot_cat_credit('No of trades opened in last 12 months')"
   ]
  },
  {
   "cell_type": "code",
   "execution_count": 76,
   "metadata": {},
   "outputs": [
    {
     "data": {
      "image/png": "[encoded data removed]",
      "text/plain": [
       "<Figure size 432x288 with 1 Axes>"
      ]
     },
     "metadata": {
      "needs_background": "light"
     },
     "output_type": "display_data"
    }
   ],
   "source": [
    "plot_cat_credit('No of PL trades opened in last 6 months')"
   ]
  },
  {
   "cell_type": "code",
   "execution_count": 77,
   "metadata": {},
   "outputs": [
    {
     "data": {
      "image/png": "[encoded data removed]",
      "text/plain": [
       "<Figure size 432x288 with 1 Axes>"
      ]
     },
     "metadata": {
      "needs_background": "light"
     },
     "output_type": "display_data"
    }
   ],
   "source": [
    "plot_cat_credit('No of PL trades opened in last 12 months')"
   ]
  },
  {
   "cell_type": "code",
   "execution_count": 78,
   "metadata": {},
   "outputs": [
    {
     "data": {
      "image/png": "[encoded data removed]",
      "text/plain": [
       "<Figure size 432x288 with 1 Axes>"
      ]
     },
     "metadata": {
      "needs_background": "light"
     },
     "output_type": "display_data"
    }
   ],
   "source": [
    "plot_cat_credit('No of Inquiries in last 6 months (excluding home & auto loans)')"
   ]
  },
  {
   "cell_type": "code",
   "execution_count": 79,
   "metadata": {},
   "outputs": [
    {
     "data": {
      "image/png": "[encoded data removed]",
      "text/plain": [
       "<Figure size 432x288 with 1 Axes>"
      ]
     },
     "metadata": {
      "needs_background": "light"
     },
     "output_type": "display_data"
    }
   ],
   "source": [
    "plot_cat_credit('No of Inquiries in last 12 months (excluding home & auto loans)')"
   ]
  },
  {
   "cell_type": "code",
   "execution_count": 80,
   "metadata": {},
   "outputs": [
    {
     "data": {
      "image/png": "[encoded data removed]",
      "text/plain": [
       "<Figure size 432x288 with 1 Axes>"
      ]
     },
     "metadata": {
      "needs_background": "light"
     },
     "output_type": "display_data"
    }
   ],
   "source": [
    "plot_cat_credit('Presence of open home loan')"
   ]
  },
  {
   "cell_type": "code",
   "execution_count": 81,
   "metadata": {},
   "outputs": [
    {
     "data": {
      "image/png": "[encoded data removed]",
      "text/plain": [
       "<Figure size 1008x432 with 1 Axes>"
      ]
     },
     "metadata": {
      "needs_background": "light"
     },
     "output_type": "display_data"
    }
   ],
   "source": [
    "plt.figure(figsize=(14, 6))\n",
    "plot_cat_credit('Total No of Trades')"
   ]
  },
  {
   "cell_type": "code",
   "execution_count": 82,
   "metadata": {},
   "outputs": [
    {
     "data": {
      "image/png": "[encoded data removed]",
      "text/plain": [
       "<Figure size 432x288 with 1 Axes>"
      ]
     },
     "metadata": {
      "needs_background": "light"
     },
     "output_type": "display_data"
    }
   ],
   "source": [
    "plot_cat_credit('Presence of open auto loan')"
   ]
  },
  {
   "cell_type": "code",
   "execution_count": 83,
   "metadata": {},
   "outputs": [
    {
     "data": {
      "text/plain": [
       "<matplotlib.axes._subplots.AxesSubplot at 0x28909f16be0>"
      ]
     },
     "execution_count": 83,
     "metadata": {},
     "output_type": "execute_result"
    },
    {
     "data": {
      "image/png": "[encoded data removed]",
      "text/plain": [
       "<Figure size 432x288 with 1 Axes>"
      ]
     },
     "metadata": {
      "needs_background": "light"
     },
     "output_type": "display_data"
    }
   ],
   "source": [
    "sns.distplot(CreditBureau['Outstanding Balance'], bins=10, kde=False)"
   ]
  },
  {
   "cell_type": "code",
   "execution_count": 84,
   "metadata": {},
   "outputs": [
    {
     "data": {
      "text/plain": [
       "<matplotlib.axes._subplots.AxesSubplot at 0x28907ea5da0>"
      ]
     },
     "execution_count": 84,
     "metadata": {},
     "output_type": "execute_result"
    },
    {
     "data": {
      "image/png": "[encoded data removed]",
      "text/plain": [
       "<Figure size 432x288 with 1 Axes>"
      ]
     },
     "metadata": {
      "needs_background": "light"
     },
     "output_type": "display_data"
    }
   ],
   "source": [
    "sns.distplot(CreditBureau['Avgas CC Utilization in last 12 months'], bins=10, kde=False)"
   ]
  },
  {
   "cell_type": "markdown",
   "metadata": {},
   "source": [
    "# Model Building"
   ]
  },
  {
   "cell_type": "markdown",
   "metadata": {},
   "source": [
    "# 1.Demographics_woe:Logistic Regression"
   ]
  },
  {
   "cell_type": "code",
   "execution_count": 85,
   "metadata": {},
   "outputs": [
    {
     "data": {
      "text/html": [
       "<div>\n",
       "<style scoped>\n",
       "    .dataframe tbody tr th:only-of-type {\n",
       "        vertical-align: middle;\n",
       "    }\n",
       "\n",
       "    .dataframe tbody tr th {\n",
       "        vertical-align: top;\n",
       "    }\n",
       "\n",
       "    .dataframe thead th {\n",
       "        text-align: right;\n",
       "    }\n",
       "</style>\n",
       "<table border=\"1\" class=\"dataframe\">\n",
       "  <thead>\n",
       "    <tr style=\"text-align: right;\">\n",
       "      <th></th>\n",
       "      <th>Age</th>\n",
       "      <th>Gender</th>\n",
       "      <th>Marital Status (at the time of application)</th>\n",
       "      <th>No of dependents</th>\n",
       "      <th>Income</th>\n",
       "      <th>Education</th>\n",
       "      <th>Profession</th>\n",
       "      <th>Type of residence</th>\n",
       "      <th>No of months in current residence</th>\n",
       "      <th>No of months in current company</th>\n",
       "    </tr>\n",
       "  </thead>\n",
       "  <tbody>\n",
       "    <tr>\n",
       "      <th>0</th>\n",
       "      <td>-0.007368</td>\n",
       "      <td>0.032129</td>\n",
       "      <td>-0.003997</td>\n",
       "      <td>0.005419</td>\n",
       "      <td>-0.243157</td>\n",
       "      <td>0.017390</td>\n",
       "      <td>-0.028033</td>\n",
       "      <td>-0.004319</td>\n",
       "      <td>0.206757</td>\n",
       "      <td>-0.122937</td>\n",
       "    </tr>\n",
       "    <tr>\n",
       "      <th>1</th>\n",
       "      <td>0.031580</td>\n",
       "      <td>-0.010094</td>\n",
       "      <td>-0.003997</td>\n",
       "      <td>-0.010384</td>\n",
       "      <td>-0.262879</td>\n",
       "      <td>-0.017933</td>\n",
       "      <td>-0.013343</td>\n",
       "      <td>-0.004319</td>\n",
       "      <td>0.206757</td>\n",
       "      <td>-0.073182</td>\n",
       "    </tr>\n",
       "    <tr>\n",
       "      <th>2</th>\n",
       "      <td>0.031580</td>\n",
       "      <td>-0.010094</td>\n",
       "      <td>0.023383</td>\n",
       "      <td>0.005419</td>\n",
       "      <td>-0.262879</td>\n",
       "      <td>0.017390</td>\n",
       "      <td>-0.013343</td>\n",
       "      <td>-0.004319</td>\n",
       "      <td>0.206757</td>\n",
       "      <td>-0.073182</td>\n",
       "    </tr>\n",
       "    <tr>\n",
       "      <th>3</th>\n",
       "      <td>-0.007368</td>\n",
       "      <td>-0.010094</td>\n",
       "      <td>-0.003997</td>\n",
       "      <td>0.005419</td>\n",
       "      <td>-0.262879</td>\n",
       "      <td>0.017390</td>\n",
       "      <td>0.091379</td>\n",
       "      <td>-0.004319</td>\n",
       "      <td>0.206757</td>\n",
       "      <td>-0.122937</td>\n",
       "    </tr>\n",
       "    <tr>\n",
       "      <th>4</th>\n",
       "      <td>0.031580</td>\n",
       "      <td>0.032129</td>\n",
       "      <td>-0.003997</td>\n",
       "      <td>-0.010384</td>\n",
       "      <td>-0.243157</td>\n",
       "      <td>-0.017933</td>\n",
       "      <td>-0.028033</td>\n",
       "      <td>-0.004319</td>\n",
       "      <td>0.206757</td>\n",
       "      <td>-0.073182</td>\n",
       "    </tr>\n",
       "  </tbody>\n",
       "</table>\n",
       "</div>"
      ],
      "text/plain": [
       "        Age    Gender  Marital Status (at the time of application)  \\\n",
       "0 -0.007368  0.032129                                    -0.003997   \n",
       "1  0.031580 -0.010094                                    -0.003997   \n",
       "2  0.031580 -0.010094                                     0.023383   \n",
       "3 -0.007368 -0.010094                                    -0.003997   \n",
       "4  0.031580  0.032129                                    -0.003997   \n",
       "\n",
       "   No of dependents    Income  Education  Profession   Type of residence  \\\n",
       "0          0.005419 -0.243157   0.017390    -0.028033          -0.004319   \n",
       "1         -0.010384 -0.262879  -0.017933    -0.013343          -0.004319   \n",
       "2          0.005419 -0.262879   0.017390    -0.013343          -0.004319   \n",
       "3          0.005419 -0.262879   0.017390     0.091379          -0.004319   \n",
       "4         -0.010384 -0.243157  -0.017933    -0.028033          -0.004319   \n",
       "\n",
       "   No of months in current residence  No of months in current company  \n",
       "0                           0.206757                        -0.122937  \n",
       "1                           0.206757                        -0.073182  \n",
       "2                           0.206757                        -0.073182  \n",
       "3                           0.206757                        -0.122937  \n",
       "4                           0.206757                        -0.073182  "
      ]
     },
     "execution_count": 85,
     "metadata": {},
     "output_type": "execute_result"
    }
   ],
   "source": [
    "# Putting feature variable to X\n",
    "X = Demographics_woe.drop(['Performance Tag','Application ID'],axis=1)\n",
    "\n",
    "X.head()"
   ]
  },
  {
   "cell_type": "code",
   "execution_count": 86,
   "metadata": {},
   "outputs": [
    {
     "data": {
      "text/plain": [
       "0    0.0\n",
       "1    0.0\n",
       "2    0.0\n",
       "3    0.0\n",
       "4    0.0\n",
       "Name: Performance Tag, dtype: float64"
      ]
     },
     "execution_count": 86,
     "metadata": {},
     "output_type": "execute_result"
    }
   ],
   "source": [
    "# Putting response variable to y\n",
    "y = Demographics_woe['Performance Tag']\n",
    "\n",
    "y.head()"
   ]
  },
  {
   "cell_type": "code",
   "execution_count": 87,
   "metadata": {},
   "outputs": [
    {
     "data": {
      "text/html": [
       "<div>\n",
       "<style scoped>\n",
       "    .dataframe tbody tr th:only-of-type {\n",
       "        vertical-align: middle;\n",
       "    }\n",
       "\n",
       "    .dataframe tbody tr th {\n",
       "        vertical-align: top;\n",
       "    }\n",
       "\n",
       "    .dataframe thead th {\n",
       "        text-align: right;\n",
       "    }\n",
       "</style>\n",
       "<table border=\"1\" class=\"dataframe\">\n",
       "  <thead>\n",
       "    <tr style=\"text-align: right;\">\n",
       "      <th></th>\n",
       "      <th>Age</th>\n",
       "      <th>Gender</th>\n",
       "      <th>Marital Status (at the time of application)</th>\n",
       "      <th>No of dependents</th>\n",
       "      <th>Income</th>\n",
       "      <th>Education</th>\n",
       "      <th>Profession</th>\n",
       "      <th>Type of residence</th>\n",
       "      <th>No of months in current residence</th>\n",
       "      <th>No of months in current company</th>\n",
       "    </tr>\n",
       "  </thead>\n",
       "  <tbody>\n",
       "    <tr>\n",
       "      <th>0</th>\n",
       "      <td>-0.283750</td>\n",
       "      <td>1.797947</td>\n",
       "      <td>-0.416258</td>\n",
       "      <td>0.005419</td>\n",
       "      <td>-1.168477</td>\n",
       "      <td>0.017390</td>\n",
       "      <td>-0.028033</td>\n",
       "      <td>-0.004319</td>\n",
       "      <td>0.206757</td>\n",
       "      <td>-0.122937</td>\n",
       "    </tr>\n",
       "    <tr>\n",
       "      <th>1</th>\n",
       "      <td>1.276738</td>\n",
       "      <td>-0.556206</td>\n",
       "      <td>-0.416258</td>\n",
       "      <td>-0.010384</td>\n",
       "      <td>-1.270465</td>\n",
       "      <td>-0.017933</td>\n",
       "      <td>-0.013343</td>\n",
       "      <td>-0.004319</td>\n",
       "      <td>0.206757</td>\n",
       "      <td>-0.073182</td>\n",
       "    </tr>\n",
       "    <tr>\n",
       "      <th>2</th>\n",
       "      <td>1.276738</td>\n",
       "      <td>-0.556206</td>\n",
       "      <td>2.402563</td>\n",
       "      <td>0.005419</td>\n",
       "      <td>-1.270465</td>\n",
       "      <td>0.017390</td>\n",
       "      <td>-0.013343</td>\n",
       "      <td>-0.004319</td>\n",
       "      <td>0.206757</td>\n",
       "      <td>-0.073182</td>\n",
       "    </tr>\n",
       "    <tr>\n",
       "      <th>3</th>\n",
       "      <td>-0.283750</td>\n",
       "      <td>-0.556206</td>\n",
       "      <td>-0.416258</td>\n",
       "      <td>0.005419</td>\n",
       "      <td>-1.270465</td>\n",
       "      <td>0.017390</td>\n",
       "      <td>0.091379</td>\n",
       "      <td>-0.004319</td>\n",
       "      <td>0.206757</td>\n",
       "      <td>-0.122937</td>\n",
       "    </tr>\n",
       "    <tr>\n",
       "      <th>4</th>\n",
       "      <td>1.276738</td>\n",
       "      <td>1.797947</td>\n",
       "      <td>-0.416258</td>\n",
       "      <td>-0.010384</td>\n",
       "      <td>-1.168477</td>\n",
       "      <td>-0.017933</td>\n",
       "      <td>-0.028033</td>\n",
       "      <td>-0.004319</td>\n",
       "      <td>0.206757</td>\n",
       "      <td>-0.073182</td>\n",
       "    </tr>\n",
       "  </tbody>\n",
       "</table>\n",
       "</div>"
      ],
      "text/plain": [
       "        Age    Gender  Marital Status (at the time of application)  \\\n",
       "0 -0.283750  1.797947                                    -0.416258   \n",
       "1  1.276738 -0.556206                                    -0.416258   \n",
       "2  1.276738 -0.556206                                     2.402563   \n",
       "3 -0.283750 -0.556206                                    -0.416258   \n",
       "4  1.276738  1.797947                                    -0.416258   \n",
       "\n",
       "   No of dependents    Income  Education  Profession   Type of residence  \\\n",
       "0          0.005419 -1.168477   0.017390    -0.028033          -0.004319   \n",
       "1         -0.010384 -1.270465  -0.017933    -0.013343          -0.004319   \n",
       "2          0.005419 -1.270465   0.017390    -0.013343          -0.004319   \n",
       "3          0.005419 -1.270465   0.017390     0.091379          -0.004319   \n",
       "4         -0.010384 -1.168477  -0.017933    -0.028033          -0.004319   \n",
       "\n",
       "   No of months in current residence  No of months in current company  \n",
       "0                           0.206757                        -0.122937  \n",
       "1                           0.206757                        -0.073182  \n",
       "2                           0.206757                        -0.073182  \n",
       "3                           0.206757                        -0.122937  \n",
       "4                           0.206757                        -0.073182  "
      ]
     },
     "execution_count": 87,
     "metadata": {},
     "output_type": "execute_result"
    }
   ],
   "source": [
    "#Scaling the features with standard scalar\n",
    "from sklearn.preprocessing import StandardScaler\n",
    "scaler = StandardScaler()\n",
    "\n",
    "X[['Age','Gender','Marital Status (at the time of application)','Income']] = scaler.fit_transform(X[['Age','Gender','Marital Status (at the time of application)','Income']])\n",
    "\n",
    "X.head()"
   ]
  },
  {
   "cell_type": "code",
   "execution_count": 88,
   "metadata": {},
   "outputs": [],
   "source": [
    "# Splitting the data into train and test\n",
    "from sklearn.model_selection import train_test_split\n",
    "X_train, X_test, y_train, y_test = train_test_split(X,y, train_size=0.7,test_size=0.3,random_state=100)"
   ]
  },
  {
   "cell_type": "code",
   "execution_count": 89,
   "metadata": {},
   "outputs": [
    {
     "name": "stdout",
     "output_type": "stream",
     "text": [
      "X_train Shape: (48904, 10)\n",
      "X_test Shape: (20960, 10)\n",
      "Imbalance in Train Data : 0.04406490179333902\n",
      "Imbalance in Test Data : 0.043980674403546346\n"
     ]
    }
   ],
   "source": [
    "#Imbalance in dataset\n",
    "print(\"X_train Shape:\",X_train.shape)\n",
    "print(\"X_test Shape:\",X_test.shape)\n",
    "\n",
    "y_train_imb=(y_train !=0).sum()/(y_train==0).sum()\n",
    "y_test_imb=(y_test !=0).sum()/(y_test==0).sum()\n",
    "\n",
    "print(\"Imbalance in Train Data :\",y_train_imb)\n",
    "print(\"Imbalance in Test Data :\",y_test_imb)\n"
   ]
  },
  {
   "cell_type": "code",
   "execution_count": 90,
   "metadata": {},
   "outputs": [],
   "source": [
    "#Balancing Dataset\n",
    "\n",
    "from imblearn.over_sampling import SMOTE\n",
    "\n",
    "sm=SMOTE(kind=\"regular\")\n",
    "X_tr,y_tr=sm.fit_sample(X_train,y_train)"
   ]
  },
  {
   "cell_type": "code",
   "execution_count": 91,
   "metadata": {},
   "outputs": [
    {
     "name": "stdout",
     "output_type": "stream",
     "text": [
      "X_tr Shape (93680, 10)\n",
      "y_tr Shape (93680,)\n",
      "Imbalance in Train Data : 1.0\n"
     ]
    }
   ],
   "source": [
    "print(\"X_tr Shape\",X_tr.shape)\n",
    "print(\"y_tr Shape\",y_tr.shape)\n",
    "\n",
    "imb=(y_tr!=0).sum()/(y_tr==0).sum()\n",
    "print(\"Imbalance in Train Data :\",imb)"
   ]
  },
  {
   "cell_type": "markdown",
   "metadata": {},
   "source": [
    "RFE"
   ]
  },
  {
   "cell_type": "code",
   "execution_count": 92,
   "metadata": {},
   "outputs": [],
   "source": [
    "# Feature reduction using RFE\n",
    "from sklearn.linear_model import LogisticRegression\n",
    "lr = LogisticRegression()\n",
    "from sklearn.feature_selection import RFE\n",
    "\n",
    "# running RFE with 15 variables as output\n",
    "rfe = RFE(lr, 5)   \n",
    "rfe = rfe.fit(X_tr, y_tr)"
   ]
  },
  {
   "cell_type": "code",
   "execution_count": 93,
   "metadata": {},
   "outputs": [
    {
     "data": {
      "text/plain": [
       "array([False, False, False,  True, False,  True,  True, False,  True,\n",
       "        True])"
      ]
     },
     "execution_count": 93,
     "metadata": {},
     "output_type": "execute_result"
    }
   ],
   "source": [
    "rfe.support_"
   ]
  },
  {
   "cell_type": "code",
   "execution_count": 94,
   "metadata": {},
   "outputs": [
    {
     "data": {
      "text/plain": [
       "[('Age', False, 6),\n",
       " ('Gender', False, 4),\n",
       " ('Marital Status (at the time of application)', False, 5),\n",
       " ('No of dependents', True, 1),\n",
       " ('Income', False, 2),\n",
       " ('Education', True, 1),\n",
       " ('Profession ', True, 1),\n",
       " ('Type of residence', False, 3),\n",
       " ('No of months in current residence', True, 1),\n",
       " ('No of months in current company', True, 1)]"
      ]
     },
     "execution_count": 94,
     "metadata": {},
     "output_type": "execute_result"
    }
   ],
   "source": [
    "list(zip(X_train.columns, rfe.support_, rfe.ranking_))"
   ]
  },
  {
   "cell_type": "code",
   "execution_count": 95,
   "metadata": {},
   "outputs": [],
   "source": [
    "X_rfe = pd.DataFrame(data=X_tr).iloc[:, rfe.support_]\n",
    "y_rfe = y_tr"
   ]
  },
  {
   "cell_type": "markdown",
   "metadata": {},
   "source": [
    "Logistic Regression"
   ]
  },
  {
   "cell_type": "code",
   "execution_count": 96,
   "metadata": {},
   "outputs": [
    {
     "data": {
      "text/plain": [
       "LogisticRegression(C=1.0, class_weight=None, dual=False, fit_intercept=True,\n",
       "                   intercept_scaling=1, l1_ratio=None, max_iter=100,\n",
       "                   multi_class='warn', n_jobs=None, penalty='l2',\n",
       "                   random_state=1, solver='warn', tol=0.0001, verbose=0,\n",
       "                   warm_start=False)"
      ]
     },
     "execution_count": 96,
     "metadata": {},
     "output_type": "execute_result"
    }
   ],
   "source": [
    "from sklearn.linear_model import LogisticRegression\n",
    "lr = LogisticRegression(random_state=1)\n",
    "lr.fit(X_rfe, y_rfe)"
   ]
  },
  {
   "cell_type": "code",
   "execution_count": 97,
   "metadata": {},
   "outputs": [
    {
     "name": "stdout",
     "output_type": "stream",
     "text": [
      "[[10131  9946]\n",
      " [  333   550]]\n"
     ]
    }
   ],
   "source": [
    "#Confusion Matrix\n",
    "X_test_rfe = pd.DataFrame(data=X_test).iloc[:, rfe.support_]\n",
    "\n",
    "y_pred = lr.predict(X_test_rfe)\n",
    "\n",
    "from sklearn.metrics import confusion_matrix\n",
    "confusion_matrix = confusion_matrix(y_test, y_pred)\n",
    "print(confusion_matrix)"
   ]
  },
  {
   "cell_type": "code",
   "execution_count": 98,
   "metadata": {},
   "outputs": [
    {
     "name": "stdout",
     "output_type": "stream",
     "text": [
      "Accuracy of Logistic Regression Model on test set is  0.5095896946564885\n"
     ]
    }
   ],
   "source": [
    "#Accuracy of Logistic Regression Model on test set \n",
    "print('Accuracy of Logistic Regression Model on test set is ',lr.score(X_test_rfe, y_test))"
   ]
  },
  {
   "cell_type": "code",
   "execution_count": 99,
   "metadata": {},
   "outputs": [
    {
     "name": "stdout",
     "output_type": "stream",
     "text": [
      "              precision    recall  f1-score   support\n",
      "\n",
      "         0.0       0.97      0.50      0.66     20077\n",
      "         1.0       0.05      0.62      0.10       883\n",
      "\n",
      "    accuracy                           0.51     20960\n",
      "   macro avg       0.51      0.56      0.38     20960\n",
      "weighted avg       0.93      0.51      0.64     20960\n",
      "\n"
     ]
    }
   ],
   "source": [
    "from sklearn.metrics import classification_report\n",
    "print(classification_report(y_test, y_pred))"
   ]
  },
  {
   "cell_type": "markdown",
   "metadata": {},
   "source": [
    "# 2.Demographics_woe: Random Forest"
   ]
  },
  {
   "cell_type": "markdown",
   "metadata": {},
   "source": [
    "Random Forest with Default Hyperparameters"
   ]
  },
  {
   "cell_type": "code",
   "execution_count": 100,
   "metadata": {},
   "outputs": [],
   "source": [
    "from imblearn.metrics import sensitivity_specificity_support\n",
    "from sklearn.model_selection import StratifiedKFold\n",
    "from sklearn.model_selection import cross_val_score\n",
    "from sklearn.metrics import confusion_matrix\n",
    "from sklearn.model_selection import GridSearchCV\n",
    "from sklearn.metrics import roc_auc_score"
   ]
  },
  {
   "cell_type": "code",
   "execution_count": 101,
   "metadata": {},
   "outputs": [
    {
     "name": "stdout",
     "output_type": "stream",
     "text": [
      "Random Forest Accuracy with Default Hyperparameter 0.9294847328244275\n"
     ]
    }
   ],
   "source": [
    "from sklearn.ensemble import RandomForestClassifier\n",
    "from sklearn import metrics\n",
    "\n",
    "model_rf = RandomForestClassifier()\n",
    "model_rf.fit(X_tr, y_tr)\n",
    "\n",
    "# Make predictions\n",
    "prediction_test = model_rf.predict(X_test)\n",
    "print ('Random Forest Accuracy with Default Hyperparameter',metrics.accuracy_score(y_test, prediction_test))"
   ]
  },
  {
   "cell_type": "code",
   "execution_count": 102,
   "metadata": {},
   "outputs": [
    {
     "name": "stdout",
     "output_type": "stream",
     "text": [
      "              precision    recall  f1-score   support\n",
      "\n",
      "         0.0       0.96      0.97      0.96     20077\n",
      "         1.0       0.05      0.04      0.04       883\n",
      "\n",
      "    accuracy                           0.93     20960\n",
      "   macro avg       0.50      0.50      0.50     20960\n",
      "weighted avg       0.92      0.93      0.92     20960\n",
      "\n"
     ]
    }
   ],
   "source": [
    "print(classification_report(y_test,prediction_test))"
   ]
  },
  {
   "cell_type": "code",
   "execution_count": 103,
   "metadata": {},
   "outputs": [],
   "source": [
    "# random forest - the class weight is used to handle class imbalance - it adjusts the cost function\n",
    "forest = RandomForestClassifier(class_weight={0:0.1, 1: 0.9}, n_jobs = -1)\n",
    "\n",
    "# hyperparameter space\n",
    "params = {\"criterion\": ['gini', 'entropy'], \"max_features\": ['auto', 0.4]}\n",
    "\n",
    "# create 5 folds\n",
    "folds = StratifiedKFold(n_splits = 5, shuffle = True, random_state = 4)\n",
    "\n",
    "# create gridsearch object\n",
    "model = GridSearchCV(estimator=forest, cv=folds, param_grid=params, scoring='roc_auc', n_jobs=-1, verbose=1)"
   ]
  },
  {
   "cell_type": "code",
   "execution_count": 104,
   "metadata": {},
   "outputs": [
    {
     "name": "stdout",
     "output_type": "stream",
     "text": [
      "Fitting 5 folds for each of 4 candidates, totalling 20 fits\n"
     ]
    },
    {
     "name": "stderr",
     "output_type": "stream",
     "text": [
      "[Parallel(n_jobs=-1)]: Using backend LokyBackend with 4 concurrent workers.\n",
      "[Parallel(n_jobs=-1)]: Done  20 out of  20 | elapsed:    8.5s finished\n"
     ]
    },
    {
     "data": {
      "text/plain": [
       "GridSearchCV(cv=StratifiedKFold(n_splits=5, random_state=4, shuffle=True),\n",
       "             error_score='raise-deprecating',\n",
       "             estimator=RandomForestClassifier(bootstrap=True,\n",
       "                                              class_weight={0: 0.1, 1: 0.9},\n",
       "                                              criterion='gini', max_depth=None,\n",
       "                                              max_features='auto',\n",
       "                                              max_leaf_nodes=None,\n",
       "                                              min_impurity_decrease=0.0,\n",
       "                                              min_impurity_split=None,\n",
       "                                              min_samples_leaf=1,\n",
       "                                              min_samples_split=2,\n",
       "                                              min_weight_fraction_leaf=0.0,\n",
       "                                              n_estimators='warn', n_jobs=-1,\n",
       "                                              oob_score=False,\n",
       "                                              random_state=None, verbose=0,\n",
       "                                              warm_start=False),\n",
       "             iid='warn', n_jobs=-1,\n",
       "             param_grid={'criterion': ['gini', 'entropy'],\n",
       "                         'max_features': ['auto', 0.4]},\n",
       "             pre_dispatch='2*n_jobs', refit=True, return_train_score=False,\n",
       "             scoring='roc_auc', verbose=1)"
      ]
     },
     "execution_count": 104,
     "metadata": {},
     "output_type": "execute_result"
    }
   ],
   "source": [
    "# fit model\n",
    "model.fit(X_train, y_train)"
   ]
  },
  {
   "cell_type": "code",
   "execution_count": 105,
   "metadata": {},
   "outputs": [
    {
     "name": "stdout",
     "output_type": "stream",
     "text": [
      "Best AUC:  0.5188128121306884\n",
      "Best hyperparameters:  {'criterion': 'gini', 'max_features': 'auto'}\n"
     ]
    }
   ],
   "source": [
    "# print best hyperparameters\n",
    "print(\"Best AUC: \", model.best_score_)\n",
    "print(\"Best hyperparameters: \", model.best_params_)"
   ]
  },
  {
   "cell_type": "code",
   "execution_count": 106,
   "metadata": {},
   "outputs": [
    {
     "name": "stdout",
     "output_type": "stream",
     "text": [
      "[[18737  1340]\n",
      " [  807    76]]\n",
      "Sensitivity: \t0.09\n",
      "Specificity: \t0.93\n",
      "AUC:    \t 0.51\n"
     ]
    }
   ],
   "source": [
    "# predict churn on test data\n",
    "y_pred = model.predict(X_test)\n",
    "\n",
    "# create onfusion matrix\n",
    "cm = confusion_matrix(y_test, y_pred)\n",
    "print(cm)\n",
    "\n",
    "# check sensitivity and specificity\n",
    "sensitivity, specificity, _ = sensitivity_specificity_support(y_test, y_pred, average='binary')\n",
    "print(\"Sensitivity: \\t\", round(sensitivity, 2), \"\\n\", \"Specificity: \\t\", round(specificity, 2), sep='')\n",
    "\n",
    "# check area under curve\n",
    "y_pred_prob = model.predict_proba(X_test)[:, 1]\n",
    "print(\"AUC:    \\t\", round(roc_auc_score(y_test, y_pred_prob),2))"
   ]
  },
  {
   "cell_type": "markdown",
   "metadata": {},
   "source": [
    "# Master_Data_woe:Logistic Regression"
   ]
  },
  {
   "cell_type": "code",
   "execution_count": 107,
   "metadata": {},
   "outputs": [
    {
     "data": {
      "text/html": [
       "<div>\n",
       "<style scoped>\n",
       "    .dataframe tbody tr th:only-of-type {\n",
       "        vertical-align: middle;\n",
       "    }\n",
       "\n",
       "    .dataframe tbody tr th {\n",
       "        vertical-align: top;\n",
       "    }\n",
       "\n",
       "    .dataframe thead th {\n",
       "        text-align: right;\n",
       "    }\n",
       "</style>\n",
       "<table border=\"1\" class=\"dataframe\">\n",
       "  <thead>\n",
       "    <tr style=\"text-align: right;\">\n",
       "      <th></th>\n",
       "      <th>Age</th>\n",
       "      <th>Gender</th>\n",
       "      <th>Marital Status (at the time of application)</th>\n",
       "      <th>No of dependents</th>\n",
       "      <th>Income</th>\n",
       "      <th>Education</th>\n",
       "      <th>Profession</th>\n",
       "      <th>Type of residence</th>\n",
       "      <th>No of months in current residence</th>\n",
       "      <th>No of months in current company</th>\n",
       "      <th>...</th>\n",
       "      <th>No of trades opened in last 6 months</th>\n",
       "      <th>No of trades opened in last 12 months</th>\n",
       "      <th>No of PL trades opened in last 6 months</th>\n",
       "      <th>No of PL trades opened in last 12 months</th>\n",
       "      <th>No of Inquiries in last 6 months (excluding home &amp; auto loans)</th>\n",
       "      <th>No of Inquiries in last 12 months (excluding home &amp; auto loans)</th>\n",
       "      <th>Presence of open home loan</th>\n",
       "      <th>Outstanding Balance</th>\n",
       "      <th>Total No of Trades</th>\n",
       "      <th>Presence of open auto loan</th>\n",
       "    </tr>\n",
       "  </thead>\n",
       "  <tbody>\n",
       "    <tr>\n",
       "      <th>0</th>\n",
       "      <td>-0.007368</td>\n",
       "      <td>0.032129</td>\n",
       "      <td>-0.003997</td>\n",
       "      <td>0.005419</td>\n",
       "      <td>-0.243157</td>\n",
       "      <td>0.017390</td>\n",
       "      <td>-0.028033</td>\n",
       "      <td>-0.004319</td>\n",
       "      <td>0.206757</td>\n",
       "      <td>-0.122937</td>\n",
       "      <td>...</td>\n",
       "      <td>-0.270746</td>\n",
       "      <td>-0.865089</td>\n",
       "      <td>-0.314635</td>\n",
       "      <td>-0.453113</td>\n",
       "      <td>-0.320076</td>\n",
       "      <td>-0.828287</td>\n",
       "      <td>0.001235</td>\n",
       "      <td>0.088272</td>\n",
       "      <td>-0.686175</td>\n",
       "      <td>0.011973</td>\n",
       "    </tr>\n",
       "    <tr>\n",
       "      <th>1</th>\n",
       "      <td>0.031580</td>\n",
       "      <td>-0.010094</td>\n",
       "      <td>-0.003997</td>\n",
       "      <td>-0.010384</td>\n",
       "      <td>-0.262879</td>\n",
       "      <td>-0.017933</td>\n",
       "      <td>-0.013343</td>\n",
       "      <td>-0.004319</td>\n",
       "      <td>0.206757</td>\n",
       "      <td>-0.073182</td>\n",
       "      <td>...</td>\n",
       "      <td>-0.270746</td>\n",
       "      <td>-0.865089</td>\n",
       "      <td>-0.314635</td>\n",
       "      <td>-0.453113</td>\n",
       "      <td>-0.320076</td>\n",
       "      <td>-0.828287</td>\n",
       "      <td>0.001235</td>\n",
       "      <td>-0.093345</td>\n",
       "      <td>0.210325</td>\n",
       "      <td>0.011973</td>\n",
       "    </tr>\n",
       "    <tr>\n",
       "      <th>2</th>\n",
       "      <td>0.031580</td>\n",
       "      <td>-0.010094</td>\n",
       "      <td>0.023383</td>\n",
       "      <td>0.005419</td>\n",
       "      <td>-0.262879</td>\n",
       "      <td>0.017390</td>\n",
       "      <td>-0.013343</td>\n",
       "      <td>-0.004319</td>\n",
       "      <td>0.206757</td>\n",
       "      <td>-0.073182</td>\n",
       "      <td>...</td>\n",
       "      <td>-0.270746</td>\n",
       "      <td>-0.865089</td>\n",
       "      <td>-0.314635</td>\n",
       "      <td>-0.453113</td>\n",
       "      <td>-0.320076</td>\n",
       "      <td>-0.828287</td>\n",
       "      <td>0.001235</td>\n",
       "      <td>0.088272</td>\n",
       "      <td>-0.686175</td>\n",
       "      <td>0.011973</td>\n",
       "    </tr>\n",
       "    <tr>\n",
       "      <th>3</th>\n",
       "      <td>-0.007368</td>\n",
       "      <td>-0.010094</td>\n",
       "      <td>-0.003997</td>\n",
       "      <td>0.005419</td>\n",
       "      <td>-0.262879</td>\n",
       "      <td>0.017390</td>\n",
       "      <td>0.091379</td>\n",
       "      <td>-0.004319</td>\n",
       "      <td>0.206757</td>\n",
       "      <td>-0.122937</td>\n",
       "      <td>...</td>\n",
       "      <td>-0.270746</td>\n",
       "      <td>-0.865089</td>\n",
       "      <td>-0.314635</td>\n",
       "      <td>-0.453113</td>\n",
       "      <td>-0.320076</td>\n",
       "      <td>-0.828287</td>\n",
       "      <td>0.001235</td>\n",
       "      <td>0.088272</td>\n",
       "      <td>-0.686175</td>\n",
       "      <td>-0.138237</td>\n",
       "    </tr>\n",
       "    <tr>\n",
       "      <th>4</th>\n",
       "      <td>0.031580</td>\n",
       "      <td>0.032129</td>\n",
       "      <td>-0.003997</td>\n",
       "      <td>-0.010384</td>\n",
       "      <td>-0.243157</td>\n",
       "      <td>-0.017933</td>\n",
       "      <td>-0.028033</td>\n",
       "      <td>-0.004319</td>\n",
       "      <td>0.206757</td>\n",
       "      <td>-0.073182</td>\n",
       "      <td>...</td>\n",
       "      <td>-0.270746</td>\n",
       "      <td>-0.865089</td>\n",
       "      <td>-0.314635</td>\n",
       "      <td>-0.453113</td>\n",
       "      <td>-0.320076</td>\n",
       "      <td>-0.828287</td>\n",
       "      <td>0.001235</td>\n",
       "      <td>0.088272</td>\n",
       "      <td>-0.686175</td>\n",
       "      <td>0.011973</td>\n",
       "    </tr>\n",
       "  </tbody>\n",
       "</table>\n",
       "<p>5 rows × 27 columns</p>\n",
       "</div>"
      ],
      "text/plain": [
       "        Age    Gender  Marital Status (at the time of application)  \\\n",
       "0 -0.007368  0.032129                                    -0.003997   \n",
       "1  0.031580 -0.010094                                    -0.003997   \n",
       "2  0.031580 -0.010094                                     0.023383   \n",
       "3 -0.007368 -0.010094                                    -0.003997   \n",
       "4  0.031580  0.032129                                    -0.003997   \n",
       "\n",
       "   No of dependents    Income  Education  Profession   Type of residence  \\\n",
       "0          0.005419 -0.243157   0.017390    -0.028033          -0.004319   \n",
       "1         -0.010384 -0.262879  -0.017933    -0.013343          -0.004319   \n",
       "2          0.005419 -0.262879   0.017390    -0.013343          -0.004319   \n",
       "3          0.005419 -0.262879   0.017390     0.091379          -0.004319   \n",
       "4         -0.010384 -0.243157  -0.017933    -0.028033          -0.004319   \n",
       "\n",
       "   No of months in current residence  No of months in current company  ...  \\\n",
       "0                           0.206757                        -0.122937  ...   \n",
       "1                           0.206757                        -0.073182  ...   \n",
       "2                           0.206757                        -0.073182  ...   \n",
       "3                           0.206757                        -0.122937  ...   \n",
       "4                           0.206757                        -0.073182  ...   \n",
       "\n",
       "   No of trades opened in last 6 months  \\\n",
       "0                             -0.270746   \n",
       "1                             -0.270746   \n",
       "2                             -0.270746   \n",
       "3                             -0.270746   \n",
       "4                             -0.270746   \n",
       "\n",
       "   No of trades opened in last 12 months  \\\n",
       "0                              -0.865089   \n",
       "1                              -0.865089   \n",
       "2                              -0.865089   \n",
       "3                              -0.865089   \n",
       "4                              -0.865089   \n",
       "\n",
       "   No of PL trades opened in last 6 months  \\\n",
       "0                                -0.314635   \n",
       "1                                -0.314635   \n",
       "2                                -0.314635   \n",
       "3                                -0.314635   \n",
       "4                                -0.314635   \n",
       "\n",
       "   No of PL trades opened in last 12 months  \\\n",
       "0                                 -0.453113   \n",
       "1                                 -0.453113   \n",
       "2                                 -0.453113   \n",
       "3                                 -0.453113   \n",
       "4                                 -0.453113   \n",
       "\n",
       "   No of Inquiries in last 6 months (excluding home & auto loans)  \\\n",
       "0                                          -0.320076                \n",
       "1                                          -0.320076                \n",
       "2                                          -0.320076                \n",
       "3                                          -0.320076                \n",
       "4                                          -0.320076                \n",
       "\n",
       "   No of Inquiries in last 12 months (excluding home & auto loans)  \\\n",
       "0                                          -0.828287                 \n",
       "1                                          -0.828287                 \n",
       "2                                          -0.828287                 \n",
       "3                                          -0.828287                 \n",
       "4                                          -0.828287                 \n",
       "\n",
       "   Presence of open home loan  Outstanding Balance  Total No of Trades  \\\n",
       "0                    0.001235             0.088272           -0.686175   \n",
       "1                    0.001235            -0.093345            0.210325   \n",
       "2                    0.001235             0.088272           -0.686175   \n",
       "3                    0.001235             0.088272           -0.686175   \n",
       "4                    0.001235             0.088272           -0.686175   \n",
       "\n",
       "   Presence of open auto loan  \n",
       "0                    0.011973  \n",
       "1                    0.011973  \n",
       "2                    0.011973  \n",
       "3                   -0.138237  \n",
       "4                    0.011973  \n",
       "\n",
       "[5 rows x 27 columns]"
      ]
     },
     "execution_count": 107,
     "metadata": {},
     "output_type": "execute_result"
    }
   ],
   "source": [
    "# Putting feature variable to X\n",
    "X = Master_Data_woe.drop(['Performance Tag_x','Performance Tag_y','Application ID'],axis=1)\n",
    "\n",
    "X.head()"
   ]
  },
  {
   "cell_type": "code",
   "execution_count": 108,
   "metadata": {},
   "outputs": [
    {
     "data": {
      "text/plain": [
       "0    0.0\n",
       "1    0.0\n",
       "2    0.0\n",
       "3    0.0\n",
       "4    0.0\n",
       "Name: Performance Tag_x, dtype: float64"
      ]
     },
     "execution_count": 108,
     "metadata": {},
     "output_type": "execute_result"
    }
   ],
   "source": [
    "# Putting response variable to y\n",
    "y = Master_Data_woe['Performance Tag_x']\n",
    "\n",
    "y.head()"
   ]
  },
  {
   "cell_type": "code",
   "execution_count": 109,
   "metadata": {},
   "outputs": [],
   "source": [
    "# Splitting the data into train and test\n",
    "from sklearn.model_selection import train_test_split\n",
    "X_train, X_test, y_train, y_test = train_test_split(X,y, train_size=0.7,test_size=0.3,random_state=100)"
   ]
  },
  {
   "cell_type": "code",
   "execution_count": 110,
   "metadata": {},
   "outputs": [
    {
     "name": "stdout",
     "output_type": "stream",
     "text": [
      "Fitting 5 folds for each of 14 candidates, totalling 70 fits\n"
     ]
    },
    {
     "name": "stderr",
     "output_type": "stream",
     "text": [
      "[Parallel(n_jobs=1)]: Using backend SequentialBackend with 1 concurrent workers.\n",
      "[Parallel(n_jobs=1)]: Done  70 out of  70 | elapsed:   56.3s finished\n"
     ]
    },
    {
     "data": {
      "text/plain": [
       "GridSearchCV(cv=StratifiedKFold(n_splits=5, random_state=4, shuffle=True),\n",
       "             error_score='raise-deprecating',\n",
       "             estimator=LogisticRegression(C=1.0, class_weight='balanced',\n",
       "                                          dual=False, fit_intercept=True,\n",
       "                                          intercept_scaling=1, l1_ratio=None,\n",
       "                                          max_iter=100, multi_class='warn',\n",
       "                                          n_jobs=None, penalty='l2',\n",
       "                                          random_state=None, solver='warn',\n",
       "                                          tol=0.0001, verbose=0,\n",
       "                                          warm_start=False),\n",
       "             iid='warn', n_jobs=None,\n",
       "             param_grid={'C': array([1.e-03, 1.e-02, 1.e-01, 1.e+00, 1.e+01, 1.e+02, 1.e+03]),\n",
       "                         'penalty': ['l1', 'l2']},\n",
       "             pre_dispatch='2*n_jobs', refit=True, return_train_score=True,\n",
       "             scoring='recall', verbose=1)"
      ]
     },
     "execution_count": 110,
     "metadata": {},
     "output_type": "execute_result"
    }
   ],
   "source": [
    "# Grid search cross validation\n",
    "from sklearn.linear_model import LogisticRegression\n",
    "\n",
    "# grid search CV\n",
    "from sklearn.model_selection import StratifiedKFold\n",
    "from sklearn.model_selection import GridSearchCV\n",
    "\n",
    "\n",
    "# set up cross validation scheme\n",
    "folds = StratifiedKFold(n_splits = 5, shuffle = True, random_state = 4)\n",
    "\n",
    "# specify range of hyperparameters\n",
    "params = {\"C\":np.logspace(-3,3,7), \"penalty\":[\"l1\",\"l2\"]}# l1 lasso l2 ridge\n",
    "\n",
    "## using Logistic regression for class imbalance\n",
    "model = LogisticRegression(class_weight='balanced')\n",
    "model_cv = GridSearchCV(estimator = model, param_grid = params, \n",
    "                        scoring= 'recall', \n",
    "                        cv = folds, \n",
    "                        return_train_score=True, verbose = 1)            \n",
    "model_cv.fit(X_train, y_train)"
   ]
  },
  {
   "cell_type": "code",
   "execution_count": 111,
   "metadata": {},
   "outputs": [
    {
     "data": {
      "text/html": [
       "<div>\n",
       "<style scoped>\n",
       "    .dataframe tbody tr th:only-of-type {\n",
       "        vertical-align: middle;\n",
       "    }\n",
       "\n",
       "    .dataframe tbody tr th {\n",
       "        vertical-align: top;\n",
       "    }\n",
       "\n",
       "    .dataframe thead th {\n",
       "        text-align: right;\n",
       "    }\n",
       "</style>\n",
       "<table border=\"1\" class=\"dataframe\">\n",
       "  <thead>\n",
       "    <tr style=\"text-align: right;\">\n",
       "      <th></th>\n",
       "      <th>mean_fit_time</th>\n",
       "      <th>std_fit_time</th>\n",
       "      <th>mean_score_time</th>\n",
       "      <th>std_score_time</th>\n",
       "      <th>param_C</th>\n",
       "      <th>param_penalty</th>\n",
       "      <th>params</th>\n",
       "      <th>split0_test_score</th>\n",
       "      <th>split1_test_score</th>\n",
       "      <th>split2_test_score</th>\n",
       "      <th>...</th>\n",
       "      <th>mean_test_score</th>\n",
       "      <th>std_test_score</th>\n",
       "      <th>rank_test_score</th>\n",
       "      <th>split0_train_score</th>\n",
       "      <th>split1_train_score</th>\n",
       "      <th>split2_train_score</th>\n",
       "      <th>split3_train_score</th>\n",
       "      <th>split4_train_score</th>\n",
       "      <th>mean_train_score</th>\n",
       "      <th>std_train_score</th>\n",
       "    </tr>\n",
       "  </thead>\n",
       "  <tbody>\n",
       "    <tr>\n",
       "      <th>0</th>\n",
       "      <td>0.176800</td>\n",
       "      <td>0.009928</td>\n",
       "      <td>0.010402</td>\n",
       "      <td>0.004799</td>\n",
       "      <td>0.001</td>\n",
       "      <td>l1</td>\n",
       "      <td>{'C': 0.001, 'penalty': 'l1'}</td>\n",
       "      <td>0.680387</td>\n",
       "      <td>0.685230</td>\n",
       "      <td>0.707022</td>\n",
       "      <td>...</td>\n",
       "      <td>0.693321</td>\n",
       "      <td>0.012030</td>\n",
       "      <td>2</td>\n",
       "      <td>0.697153</td>\n",
       "      <td>0.691096</td>\n",
       "      <td>0.684434</td>\n",
       "      <td>0.697759</td>\n",
       "      <td>0.707022</td>\n",
       "      <td>0.695493</td>\n",
       "      <td>0.007516</td>\n",
       "    </tr>\n",
       "    <tr>\n",
       "      <th>1</th>\n",
       "      <td>0.220800</td>\n",
       "      <td>0.022256</td>\n",
       "      <td>0.008802</td>\n",
       "      <td>0.001599</td>\n",
       "      <td>0.001</td>\n",
       "      <td>l2</td>\n",
       "      <td>{'C': 0.001, 'penalty': 'l2'}</td>\n",
       "      <td>0.685230</td>\n",
       "      <td>0.682809</td>\n",
       "      <td>0.723971</td>\n",
       "      <td>...</td>\n",
       "      <td>0.691376</td>\n",
       "      <td>0.017360</td>\n",
       "      <td>3</td>\n",
       "      <td>0.692913</td>\n",
       "      <td>0.692913</td>\n",
       "      <td>0.689885</td>\n",
       "      <td>0.688068</td>\n",
       "      <td>0.690678</td>\n",
       "      <td>0.690891</td>\n",
       "      <td>0.001855</td>\n",
       "    </tr>\n",
       "    <tr>\n",
       "      <th>2</th>\n",
       "      <td>0.196795</td>\n",
       "      <td>0.018135</td>\n",
       "      <td>0.008000</td>\n",
       "      <td>0.000002</td>\n",
       "      <td>0.01</td>\n",
       "      <td>l1</td>\n",
       "      <td>{'C': 0.01, 'penalty': 'l1'}</td>\n",
       "      <td>0.685230</td>\n",
       "      <td>0.687651</td>\n",
       "      <td>0.721550</td>\n",
       "      <td>...</td>\n",
       "      <td>0.693796</td>\n",
       "      <td>0.013963</td>\n",
       "      <td>1</td>\n",
       "      <td>0.695336</td>\n",
       "      <td>0.698970</td>\n",
       "      <td>0.690491</td>\n",
       "      <td>0.693519</td>\n",
       "      <td>0.685835</td>\n",
       "      <td>0.692830</td>\n",
       "      <td>0.004447</td>\n",
       "    </tr>\n",
       "    <tr>\n",
       "      <th>3</th>\n",
       "      <td>0.315206</td>\n",
       "      <td>0.021235</td>\n",
       "      <td>0.009600</td>\n",
       "      <td>0.001961</td>\n",
       "      <td>0.01</td>\n",
       "      <td>l2</td>\n",
       "      <td>{'C': 0.01, 'penalty': 'l2'}</td>\n",
       "      <td>0.677966</td>\n",
       "      <td>0.682809</td>\n",
       "      <td>0.723971</td>\n",
       "      <td>...</td>\n",
       "      <td>0.690406</td>\n",
       "      <td>0.017292</td>\n",
       "      <td>10</td>\n",
       "      <td>0.690491</td>\n",
       "      <td>0.694730</td>\n",
       "      <td>0.690491</td>\n",
       "      <td>0.688068</td>\n",
       "      <td>0.690073</td>\n",
       "      <td>0.690770</td>\n",
       "      <td>0.002174</td>\n",
       "    </tr>\n",
       "    <tr>\n",
       "      <th>4</th>\n",
       "      <td>0.275201</td>\n",
       "      <td>0.008909</td>\n",
       "      <td>0.008800</td>\n",
       "      <td>0.001601</td>\n",
       "      <td>0.1</td>\n",
       "      <td>l1</td>\n",
       "      <td>{'C': 0.1, 'penalty': 'l1'}</td>\n",
       "      <td>0.675545</td>\n",
       "      <td>0.687651</td>\n",
       "      <td>0.719128</td>\n",
       "      <td>...</td>\n",
       "      <td>0.688951</td>\n",
       "      <td>0.015703</td>\n",
       "      <td>14</td>\n",
       "      <td>0.686856</td>\n",
       "      <td>0.696548</td>\n",
       "      <td>0.692913</td>\n",
       "      <td>0.688068</td>\n",
       "      <td>0.693099</td>\n",
       "      <td>0.691497</td>\n",
       "      <td>0.003560</td>\n",
       "    </tr>\n",
       "    <tr>\n",
       "      <th>5</th>\n",
       "      <td>0.483199</td>\n",
       "      <td>0.038233</td>\n",
       "      <td>0.010407</td>\n",
       "      <td>0.001963</td>\n",
       "      <td>0.1</td>\n",
       "      <td>l2</td>\n",
       "      <td>{'C': 0.1, 'penalty': 'l2'}</td>\n",
       "      <td>0.680387</td>\n",
       "      <td>0.685230</td>\n",
       "      <td>0.726392</td>\n",
       "      <td>...</td>\n",
       "      <td>0.689919</td>\n",
       "      <td>0.018503</td>\n",
       "      <td>12</td>\n",
       "      <td>0.689279</td>\n",
       "      <td>0.697153</td>\n",
       "      <td>0.689885</td>\n",
       "      <td>0.686251</td>\n",
       "      <td>0.693099</td>\n",
       "      <td>0.691133</td>\n",
       "      <td>0.003713</td>\n",
       "    </tr>\n",
       "    <tr>\n",
       "      <th>6</th>\n",
       "      <td>0.325600</td>\n",
       "      <td>0.009666</td>\n",
       "      <td>0.008800</td>\n",
       "      <td>0.001601</td>\n",
       "      <td>1</td>\n",
       "      <td>l1</td>\n",
       "      <td>{'C': 1.0, 'penalty': 'l1'}</td>\n",
       "      <td>0.680387</td>\n",
       "      <td>0.685230</td>\n",
       "      <td>0.726392</td>\n",
       "      <td>...</td>\n",
       "      <td>0.689920</td>\n",
       "      <td>0.018735</td>\n",
       "      <td>11</td>\n",
       "      <td>0.686856</td>\n",
       "      <td>0.698970</td>\n",
       "      <td>0.690491</td>\n",
       "      <td>0.687462</td>\n",
       "      <td>0.691283</td>\n",
       "      <td>0.691013</td>\n",
       "      <td>0.004326</td>\n",
       "    </tr>\n",
       "    <tr>\n",
       "      <th>7</th>\n",
       "      <td>0.777600</td>\n",
       "      <td>0.069999</td>\n",
       "      <td>0.010400</td>\n",
       "      <td>0.001960</td>\n",
       "      <td>1</td>\n",
       "      <td>l2</td>\n",
       "      <td>{'C': 1.0, 'penalty': 'l2'}</td>\n",
       "      <td>0.677966</td>\n",
       "      <td>0.682809</td>\n",
       "      <td>0.726392</td>\n",
       "      <td>...</td>\n",
       "      <td>0.689436</td>\n",
       "      <td>0.018756</td>\n",
       "      <td>13</td>\n",
       "      <td>0.687462</td>\n",
       "      <td>0.696548</td>\n",
       "      <td>0.689885</td>\n",
       "      <td>0.686856</td>\n",
       "      <td>0.691283</td>\n",
       "      <td>0.690407</td>\n",
       "      <td>0.003465</td>\n",
       "    </tr>\n",
       "    <tr>\n",
       "      <th>8</th>\n",
       "      <td>0.346403</td>\n",
       "      <td>0.028576</td>\n",
       "      <td>0.008799</td>\n",
       "      <td>0.001598</td>\n",
       "      <td>10</td>\n",
       "      <td>l1</td>\n",
       "      <td>{'C': 10.0, 'penalty': 'l1'}</td>\n",
       "      <td>0.682809</td>\n",
       "      <td>0.682809</td>\n",
       "      <td>0.726392</td>\n",
       "      <td>...</td>\n",
       "      <td>0.690890</td>\n",
       "      <td>0.018125</td>\n",
       "      <td>4</td>\n",
       "      <td>0.688068</td>\n",
       "      <td>0.697759</td>\n",
       "      <td>0.689279</td>\n",
       "      <td>0.685645</td>\n",
       "      <td>0.690678</td>\n",
       "      <td>0.690286</td>\n",
       "      <td>0.004086</td>\n",
       "    </tr>\n",
       "    <tr>\n",
       "      <th>9</th>\n",
       "      <td>1.059200</td>\n",
       "      <td>0.094569</td>\n",
       "      <td>0.008801</td>\n",
       "      <td>0.001600</td>\n",
       "      <td>10</td>\n",
       "      <td>l2</td>\n",
       "      <td>{'C': 10.0, 'penalty': 'l2'}</td>\n",
       "      <td>0.682809</td>\n",
       "      <td>0.682809</td>\n",
       "      <td>0.726392</td>\n",
       "      <td>...</td>\n",
       "      <td>0.690890</td>\n",
       "      <td>0.018125</td>\n",
       "      <td>4</td>\n",
       "      <td>0.688068</td>\n",
       "      <td>0.698365</td>\n",
       "      <td>0.689279</td>\n",
       "      <td>0.685645</td>\n",
       "      <td>0.690678</td>\n",
       "      <td>0.690407</td>\n",
       "      <td>0.004309</td>\n",
       "    </tr>\n",
       "    <tr>\n",
       "      <th>10</th>\n",
       "      <td>1.248805</td>\n",
       "      <td>0.745683</td>\n",
       "      <td>0.007996</td>\n",
       "      <td>0.000010</td>\n",
       "      <td>100</td>\n",
       "      <td>l1</td>\n",
       "      <td>{'C': 100.0, 'penalty': 'l1'}</td>\n",
       "      <td>0.682809</td>\n",
       "      <td>0.682809</td>\n",
       "      <td>0.726392</td>\n",
       "      <td>...</td>\n",
       "      <td>0.690890</td>\n",
       "      <td>0.018125</td>\n",
       "      <td>4</td>\n",
       "      <td>0.688674</td>\n",
       "      <td>0.697759</td>\n",
       "      <td>0.688068</td>\n",
       "      <td>0.685645</td>\n",
       "      <td>0.690678</td>\n",
       "      <td>0.690165</td>\n",
       "      <td>0.004123</td>\n",
       "    </tr>\n",
       "    <tr>\n",
       "      <th>11</th>\n",
       "      <td>1.268801</td>\n",
       "      <td>0.178284</td>\n",
       "      <td>0.008800</td>\n",
       "      <td>0.001600</td>\n",
       "      <td>100</td>\n",
       "      <td>l2</td>\n",
       "      <td>{'C': 100.0, 'penalty': 'l2'}</td>\n",
       "      <td>0.682809</td>\n",
       "      <td>0.682809</td>\n",
       "      <td>0.726392</td>\n",
       "      <td>...</td>\n",
       "      <td>0.690890</td>\n",
       "      <td>0.018125</td>\n",
       "      <td>4</td>\n",
       "      <td>0.688068</td>\n",
       "      <td>0.697759</td>\n",
       "      <td>0.688068</td>\n",
       "      <td>0.685645</td>\n",
       "      <td>0.690678</td>\n",
       "      <td>0.690044</td>\n",
       "      <td>0.004173</td>\n",
       "    </tr>\n",
       "    <tr>\n",
       "      <th>12</th>\n",
       "      <td>1.908801</td>\n",
       "      <td>0.071392</td>\n",
       "      <td>0.009600</td>\n",
       "      <td>0.001958</td>\n",
       "      <td>1000</td>\n",
       "      <td>l1</td>\n",
       "      <td>{'C': 1000.0, 'penalty': 'l1'}</td>\n",
       "      <td>0.682809</td>\n",
       "      <td>0.682809</td>\n",
       "      <td>0.726392</td>\n",
       "      <td>...</td>\n",
       "      <td>0.690890</td>\n",
       "      <td>0.018125</td>\n",
       "      <td>4</td>\n",
       "      <td>0.689279</td>\n",
       "      <td>0.698365</td>\n",
       "      <td>0.688068</td>\n",
       "      <td>0.685645</td>\n",
       "      <td>0.691283</td>\n",
       "      <td>0.690528</td>\n",
       "      <td>0.004323</td>\n",
       "    </tr>\n",
       "    <tr>\n",
       "      <th>13</th>\n",
       "      <td>2.084813</td>\n",
       "      <td>0.976757</td>\n",
       "      <td>0.009594</td>\n",
       "      <td>0.001963</td>\n",
       "      <td>1000</td>\n",
       "      <td>l2</td>\n",
       "      <td>{'C': 1000.0, 'penalty': 'l2'}</td>\n",
       "      <td>0.682809</td>\n",
       "      <td>0.682809</td>\n",
       "      <td>0.726392</td>\n",
       "      <td>...</td>\n",
       "      <td>0.690890</td>\n",
       "      <td>0.018125</td>\n",
       "      <td>4</td>\n",
       "      <td>0.688068</td>\n",
       "      <td>0.697759</td>\n",
       "      <td>0.688068</td>\n",
       "      <td>0.685645</td>\n",
       "      <td>0.690678</td>\n",
       "      <td>0.690044</td>\n",
       "      <td>0.004173</td>\n",
       "    </tr>\n",
       "  </tbody>\n",
       "</table>\n",
       "<p>14 rows × 22 columns</p>\n",
       "</div>"
      ],
      "text/plain": [
       "    mean_fit_time  std_fit_time  mean_score_time  std_score_time param_C  \\\n",
       "0        0.176800      0.009928         0.010402        0.004799   0.001   \n",
       "1        0.220800      0.022256         0.008802        0.001599   0.001   \n",
       "2        0.196795      0.018135         0.008000        0.000002    0.01   \n",
       "3        0.315206      0.021235         0.009600        0.001961    0.01   \n",
       "4        0.275201      0.008909         0.008800        0.001601     0.1   \n",
       "5        0.483199      0.038233         0.010407        0.001963     0.1   \n",
       "6        0.325600      0.009666         0.008800        0.001601       1   \n",
       "7        0.777600      0.069999         0.010400        0.001960       1   \n",
       "8        0.346403      0.028576         0.008799        0.001598      10   \n",
       "9        1.059200      0.094569         0.008801        0.001600      10   \n",
       "10       1.248805      0.745683         0.007996        0.000010     100   \n",
       "11       1.268801      0.178284         0.008800        0.001600     100   \n",
       "12       1.908801      0.071392         0.009600        0.001958    1000   \n",
       "13       2.084813      0.976757         0.009594        0.001963    1000   \n",
       "\n",
       "   param_penalty                          params  split0_test_score  \\\n",
       "0             l1   {'C': 0.001, 'penalty': 'l1'}           0.680387   \n",
       "1             l2   {'C': 0.001, 'penalty': 'l2'}           0.685230   \n",
       "2             l1    {'C': 0.01, 'penalty': 'l1'}           0.685230   \n",
       "3             l2    {'C': 0.01, 'penalty': 'l2'}           0.677966   \n",
       "4             l1     {'C': 0.1, 'penalty': 'l1'}           0.675545   \n",
       "5             l2     {'C': 0.1, 'penalty': 'l2'}           0.680387   \n",
       "6             l1     {'C': 1.0, 'penalty': 'l1'}           0.680387   \n",
       "7             l2     {'C': 1.0, 'penalty': 'l2'}           0.677966   \n",
       "8             l1    {'C': 10.0, 'penalty': 'l1'}           0.682809   \n",
       "9             l2    {'C': 10.0, 'penalty': 'l2'}           0.682809   \n",
       "10            l1   {'C': 100.0, 'penalty': 'l1'}           0.682809   \n",
       "11            l2   {'C': 100.0, 'penalty': 'l2'}           0.682809   \n",
       "12            l1  {'C': 1000.0, 'penalty': 'l1'}           0.682809   \n",
       "13            l2  {'C': 1000.0, 'penalty': 'l2'}           0.682809   \n",
       "\n",
       "    split1_test_score  split2_test_score  ...  mean_test_score  \\\n",
       "0            0.685230           0.707022  ...         0.693321   \n",
       "1            0.682809           0.723971  ...         0.691376   \n",
       "2            0.687651           0.721550  ...         0.693796   \n",
       "3            0.682809           0.723971  ...         0.690406   \n",
       "4            0.687651           0.719128  ...         0.688951   \n",
       "5            0.685230           0.726392  ...         0.689919   \n",
       "6            0.685230           0.726392  ...         0.689920   \n",
       "7            0.682809           0.726392  ...         0.689436   \n",
       "8            0.682809           0.726392  ...         0.690890   \n",
       "9            0.682809           0.726392  ...         0.690890   \n",
       "10           0.682809           0.726392  ...         0.690890   \n",
       "11           0.682809           0.726392  ...         0.690890   \n",
       "12           0.682809           0.726392  ...         0.690890   \n",
       "13           0.682809           0.726392  ...         0.690890   \n",
       "\n",
       "    std_test_score  rank_test_score  split0_train_score  split1_train_score  \\\n",
       "0         0.012030                2            0.697153            0.691096   \n",
       "1         0.017360                3            0.692913            0.692913   \n",
       "2         0.013963                1            0.695336            0.698970   \n",
       "3         0.017292               10            0.690491            0.694730   \n",
       "4         0.015703               14            0.686856            0.696548   \n",
       "5         0.018503               12            0.689279            0.697153   \n",
       "6         0.018735               11            0.686856            0.698970   \n",
       "7         0.018756               13            0.687462            0.696548   \n",
       "8         0.018125                4            0.688068            0.697759   \n",
       "9         0.018125                4            0.688068            0.698365   \n",
       "10        0.018125                4            0.688674            0.697759   \n",
       "11        0.018125                4            0.688068            0.697759   \n",
       "12        0.018125                4            0.689279            0.698365   \n",
       "13        0.018125                4            0.688068            0.697759   \n",
       "\n",
       "    split2_train_score  split3_train_score  split4_train_score  \\\n",
       "0             0.684434            0.697759            0.707022   \n",
       "1             0.689885            0.688068            0.690678   \n",
       "2             0.690491            0.693519            0.685835   \n",
       "3             0.690491            0.688068            0.690073   \n",
       "4             0.692913            0.688068            0.693099   \n",
       "5             0.689885            0.686251            0.693099   \n",
       "6             0.690491            0.687462            0.691283   \n",
       "7             0.689885            0.686856            0.691283   \n",
       "8             0.689279            0.685645            0.690678   \n",
       "9             0.689279            0.685645            0.690678   \n",
       "10            0.688068            0.685645            0.690678   \n",
       "11            0.688068            0.685645            0.690678   \n",
       "12            0.688068            0.685645            0.691283   \n",
       "13            0.688068            0.685645            0.690678   \n",
       "\n",
       "    mean_train_score  std_train_score  \n",
       "0           0.695493         0.007516  \n",
       "1           0.690891         0.001855  \n",
       "2           0.692830         0.004447  \n",
       "3           0.690770         0.002174  \n",
       "4           0.691497         0.003560  \n",
       "5           0.691133         0.003713  \n",
       "6           0.691013         0.004326  \n",
       "7           0.690407         0.003465  \n",
       "8           0.690286         0.004086  \n",
       "9           0.690407         0.004309  \n",
       "10          0.690165         0.004123  \n",
       "11          0.690044         0.004173  \n",
       "12          0.690528         0.004323  \n",
       "13          0.690044         0.004173  \n",
       "\n",
       "[14 rows x 22 columns]"
      ]
     },
     "execution_count": 111,
     "metadata": {},
     "output_type": "execute_result"
    }
   ],
   "source": [
    "## reviewing the results\n",
    "cv_results = pd.DataFrame(model_cv.cv_results_)\n",
    "cv_results"
   ]
  },
  {
   "cell_type": "code",
   "execution_count": 112,
   "metadata": {},
   "outputs": [],
   "source": [
    "## segerigating results for L1 and L2 regression and plotting them differently\n",
    "cv_results_penalty_l1 = cv_results.loc[cv_results['param_penalty']=='l1']\n",
    "cv_results_penalty_l2 = cv_results.loc[cv_results['param_penalty']=='l2']"
   ]
  },
  {
   "cell_type": "code",
   "execution_count": 113,
   "metadata": {},
   "outputs": [
    {
     "data": {
      "image/png": "[encoded data removed]",
      "text/plain": [
       "<Figure size 576x432 with 1 Axes>"
      ]
     },
     "metadata": {
      "needs_background": "light"
     },
     "output_type": "display_data"
    }
   ],
   "source": [
    "## plotting results for Logistic regression with L1 panelty\n",
    "plt.figure(figsize=(8, 6))\n",
    "plt.plot(cv_results_penalty_l1['param_C'], cv_results_penalty_l1['mean_test_score'])\n",
    "plt.plot(cv_results_penalty_l1['param_C'], cv_results_penalty_l1['mean_train_score'])\n",
    "plt.xlabel('C')\n",
    "plt.ylabel('Recall')\n",
    "plt.legend(['test recall', 'train recall'], loc='upper right')\n",
    "plt.xscale('log')"
   ]
  },
  {
   "cell_type": "code",
   "execution_count": 114,
   "metadata": {},
   "outputs": [
    {
     "data": {
      "image/png": "[encoded data removed]",
      "text/plain": [
       "<Figure size 576x432 with 1 Axes>"
      ]
     },
     "metadata": {
      "needs_background": "light"
     },
     "output_type": "display_data"
    }
   ],
   "source": [
    "## plotting results for Logistic regression with L2 panelty\n",
    "plt.figure(figsize=(8, 6))\n",
    "plt.plot(cv_results_penalty_l2['param_C'], cv_results_penalty_l2['mean_test_score'])\n",
    "plt.plot(cv_results_penalty_l2['param_C'], cv_results_penalty_l2['mean_train_score'])\n",
    "plt.xlabel('C')\n",
    "plt.ylabel('Recall')\n",
    "plt.legend(['test recall', 'train recall'], loc='upper right')\n",
    "plt.xscale('log')"
   ]
  },
  {
   "cell_type": "code",
   "execution_count": 115,
   "metadata": {},
   "outputs": [
    {
     "name": "stdout",
     "output_type": "stream",
     "text": [
      " The highest test recall is 0.693796372583795 at {'C': 0.01, 'penalty': 'l1'}\n"
     ]
    }
   ],
   "source": [
    "## checking best score\n",
    "best_score = model_cv.best_score_\n",
    "best_param = model_cv.best_params_\n",
    "\n",
    "print(\" The highest test recall is {0} at {1}\".format(best_score, best_param))"
   ]
  },
  {
   "cell_type": "code",
   "execution_count": 116,
   "metadata": {},
   "outputs": [
    {
     "name": "stdout",
     "output_type": "stream",
     "text": [
      "[[11358  8719]\n",
      " [  261   622]]\n",
      "accuracy 0.5715648854961832\n",
      "precision 0.06658815972593941\n",
      "recall 0.7044167610419027\n"
     ]
    }
   ],
   "source": [
    "## preparing final model based on best score\n",
    "model=LogisticRegression(C=0.1,penalty=\"l1\",class_weight='balanced')\n",
    "model.fit(X_train,y_train)\n",
    "\n",
    "y_train_pred = model.predict(X_train)\n",
    "\n",
    "y_pred = model.predict(X_test)\n",
    "\n",
    "# metrics\n",
    "# print other metrics\n",
    "\n",
    "print(metrics.confusion_matrix(y_test, y_pred))\n",
    "\n",
    "# accuracy\n",
    "print(\"accuracy\", metrics.accuracy_score(y_test, y_pred))\n",
    "\n",
    "# precision\n",
    "print(\"precision\", metrics.precision_score(y_test, y_pred))\n",
    "\n",
    "# recall/sensitivity\n",
    "print(\"recall\", metrics.recall_score(y_test, y_pred))"
   ]
  },
  {
   "cell_type": "code",
   "execution_count": 117,
   "metadata": {},
   "outputs": [
    {
     "data": {
      "text/plain": [
       "[('Age', 0.0),\n",
       " ('Gender', 0.0),\n",
       " ('Marital Status (at the time of application)', 0.0),\n",
       " ('No of dependents', 0.0),\n",
       " ('Income', 0.128),\n",
       " ('Education', 0.0),\n",
       " ('Profession ', 0.0),\n",
       " ('Type of residence', 0.0),\n",
       " ('No of months in current residence', -0.18),\n",
       " ('No of months in current company', 0.341),\n",
       " ('No of times 90 DPD or worse in last 6 months', 0.059),\n",
       " ('No of times 60 DPD or worse in last 6 months', 0.0),\n",
       " ('No of times 30 DPD or worse in last 6 months', 0.039),\n",
       " ('No of times 90 DPD or worse in last 12 months', 0.057),\n",
       " ('No of times 60 DPD or worse in last 12 months', 0.008),\n",
       " ('No of times 30 DPD or worse in last 12 months', 0.403),\n",
       " ('Avgas CC Utilization in last 12 months', 0.502),\n",
       " ('No of trades opened in last 6 months', -0.001),\n",
       " ('No of trades opened in last 12 months', 0.339),\n",
       " ('No of PL trades opened in last 6 months', 0.111),\n",
       " ('No of PL trades opened in last 12 months', 0.134),\n",
       " ('No of Inquiries in last 6 months (excluding home & auto loans)', -0.214),\n",
       " ('No of Inquiries in last 12 months (excluding home & auto loans)', 0.347),\n",
       " ('Presence of open home loan', 0.0),\n",
       " ('Outstanding Balance', -0.265),\n",
       " ('Total No of Trades', -0.071),\n",
       " ('Presence of open auto loan', 0.0)]"
      ]
     },
     "execution_count": 117,
     "metadata": {},
     "output_type": "execute_result"
    }
   ],
   "source": [
    "## lasso model parameters\n",
    "model_parameters =list(model.coef_[0])\n",
    "model_parameters = [round(x, 3) for x in model_parameters]\n",
    "cols = X_train.columns\n",
    "list(zip(cols, model_parameters))"
   ]
  },
  {
   "cell_type": "code",
   "execution_count": 118,
   "metadata": {},
   "outputs": [
    {
     "data": {
      "text/plain": [
       "array([0.27003357, 0.56647015, 0.70530491, 0.23960217, 0.24253464,\n",
       "       0.56459438, 0.55114028, 0.34027504, 0.45841856, 0.25404764])"
      ]
     },
     "execution_count": 118,
     "metadata": {},
     "output_type": "execute_result"
    }
   ],
   "source": [
    "# Getting the predicted values on the train set\n",
    "y_train_pred = model.predict_proba(X_train)[:,1]\n",
    "y_train_pred[:10]"
   ]
  },
  {
   "cell_type": "code",
   "execution_count": 119,
   "metadata": {},
   "outputs": [
    {
     "data": {
      "text/html": [
       "<div>\n",
       "<style scoped>\n",
       "    .dataframe tbody tr th:only-of-type {\n",
       "        vertical-align: middle;\n",
       "    }\n",
       "\n",
       "    .dataframe tbody tr th {\n",
       "        vertical-align: top;\n",
       "    }\n",
       "\n",
       "    .dataframe thead th {\n",
       "        text-align: right;\n",
       "    }\n",
       "</style>\n",
       "<table border=\"1\" class=\"dataframe\">\n",
       "  <thead>\n",
       "    <tr style=\"text-align: right;\">\n",
       "      <th></th>\n",
       "      <th>Performance</th>\n",
       "      <th>performance_prob</th>\n",
       "      <th>Application ID</th>\n",
       "    </tr>\n",
       "  </thead>\n",
       "  <tbody>\n",
       "    <tr>\n",
       "      <th>0</th>\n",
       "      <td>0.0</td>\n",
       "      <td>0.270034</td>\n",
       "      <td>16415</td>\n",
       "    </tr>\n",
       "    <tr>\n",
       "      <th>1</th>\n",
       "      <td>0.0</td>\n",
       "      <td>0.566470</td>\n",
       "      <td>34570</td>\n",
       "    </tr>\n",
       "    <tr>\n",
       "      <th>2</th>\n",
       "      <td>1.0</td>\n",
       "      <td>0.705305</td>\n",
       "      <td>61611</td>\n",
       "    </tr>\n",
       "    <tr>\n",
       "      <th>3</th>\n",
       "      <td>0.0</td>\n",
       "      <td>0.239602</td>\n",
       "      <td>1771</td>\n",
       "    </tr>\n",
       "    <tr>\n",
       "      <th>4</th>\n",
       "      <td>0.0</td>\n",
       "      <td>0.242535</td>\n",
       "      <td>10562</td>\n",
       "    </tr>\n",
       "  </tbody>\n",
       "</table>\n",
       "</div>"
      ],
      "text/plain": [
       "   Performance  performance_prob  Application ID\n",
       "0          0.0          0.270034           16415\n",
       "1          0.0          0.566470           34570\n",
       "2          1.0          0.705305           61611\n",
       "3          0.0          0.239602            1771\n",
       "4          0.0          0.242535           10562"
      ]
     },
     "execution_count": 119,
     "metadata": {},
     "output_type": "execute_result"
    }
   ],
   "source": [
    "#Creating a dataframe with the actual performance and the predicted probabilities\n",
    "y_train_pred_final = pd.DataFrame({'Performance':y_train.values, 'performance_prob':y_train_pred})\n",
    "y_train_pred_final['Application ID'] = y_train.index\n",
    "y_train_pred_final.head()"
   ]
  },
  {
   "cell_type": "code",
   "execution_count": 120,
   "metadata": {},
   "outputs": [
    {
     "data": {
      "text/html": [
       "<div>\n",
       "<style scoped>\n",
       "    .dataframe tbody tr th:only-of-type {\n",
       "        vertical-align: middle;\n",
       "    }\n",
       "\n",
       "    .dataframe tbody tr th {\n",
       "        vertical-align: top;\n",
       "    }\n",
       "\n",
       "    .dataframe thead th {\n",
       "        text-align: right;\n",
       "    }\n",
       "</style>\n",
       "<table border=\"1\" class=\"dataframe\">\n",
       "  <thead>\n",
       "    <tr style=\"text-align: right;\">\n",
       "      <th></th>\n",
       "      <th>Performance</th>\n",
       "      <th>performance_prob</th>\n",
       "      <th>Application ID</th>\n",
       "      <th>predicted_performance</th>\n",
       "    </tr>\n",
       "  </thead>\n",
       "  <tbody>\n",
       "    <tr>\n",
       "      <th>0</th>\n",
       "      <td>0.0</td>\n",
       "      <td>0.270034</td>\n",
       "      <td>16415</td>\n",
       "      <td>0</td>\n",
       "    </tr>\n",
       "    <tr>\n",
       "      <th>1</th>\n",
       "      <td>0.0</td>\n",
       "      <td>0.566470</td>\n",
       "      <td>34570</td>\n",
       "      <td>1</td>\n",
       "    </tr>\n",
       "    <tr>\n",
       "      <th>2</th>\n",
       "      <td>1.0</td>\n",
       "      <td>0.705305</td>\n",
       "      <td>61611</td>\n",
       "      <td>1</td>\n",
       "    </tr>\n",
       "    <tr>\n",
       "      <th>3</th>\n",
       "      <td>0.0</td>\n",
       "      <td>0.239602</td>\n",
       "      <td>1771</td>\n",
       "      <td>0</td>\n",
       "    </tr>\n",
       "    <tr>\n",
       "      <th>4</th>\n",
       "      <td>0.0</td>\n",
       "      <td>0.242535</td>\n",
       "      <td>10562</td>\n",
       "      <td>0</td>\n",
       "    </tr>\n",
       "  </tbody>\n",
       "</table>\n",
       "</div>"
      ],
      "text/plain": [
       "   Performance  performance_prob  Application ID  predicted_performance\n",
       "0          0.0          0.270034           16415                      0\n",
       "1          0.0          0.566470           34570                      1\n",
       "2          1.0          0.705305           61611                      1\n",
       "3          0.0          0.239602            1771                      0\n",
       "4          0.0          0.242535           10562                      0"
      ]
     },
     "execution_count": 120,
     "metadata": {},
     "output_type": "execute_result"
    }
   ],
   "source": [
    "#Creating new column 'predicted_performance' with 1 if converted_Prob > 0.5 else 0\n",
    "y_train_pred_final['predicted_performance'] = y_train_pred_final.performance_prob.map(lambda x: 1 if x > 0.5 else 0)\n",
    "\n",
    "# Let's see the head\n",
    "y_train_pred_final.head()"
   ]
  },
  {
   "cell_type": "markdown",
   "metadata": {},
   "source": [
    "Confusion matrix"
   ]
  },
  {
   "cell_type": "code",
   "execution_count": 121,
   "metadata": {},
   "outputs": [
    {
     "name": "stdout",
     "output_type": "stream",
     "text": [
      "[[26569 20271]\n",
      " [  637  1427]]\n"
     ]
    }
   ],
   "source": [
    "from sklearn import metrics\n",
    "\n",
    "# Confusion matrix \n",
    "confusion = metrics.confusion_matrix(y_train_pred_final.Performance, y_train_pred_final.predicted_performance )\n",
    "print(confusion)"
   ]
  },
  {
   "cell_type": "code",
   "execution_count": 122,
   "metadata": {},
   "outputs": [
    {
     "name": "stdout",
     "output_type": "stream",
     "text": [
      "0.5724685097333552\n"
     ]
    }
   ],
   "source": [
    "# Let's check the overall accuracy.\n",
    "print(metrics.accuracy_score(y_train_pred_final.Performance, y_train_pred_final.predicted_performance))"
   ]
  },
  {
   "cell_type": "markdown",
   "metadata": {},
   "source": [
    "# Metrics beyond simply accuracy\n"
   ]
  },
  {
   "cell_type": "code",
   "execution_count": 123,
   "metadata": {},
   "outputs": [],
   "source": [
    "TP = confusion[1,1] # true positive \n",
    "TN = confusion[0,0] # true negatives\n",
    "FP = confusion[0,1] # false positives\n",
    "FN = confusion[1,0] # false negatives"
   ]
  },
  {
   "cell_type": "code",
   "execution_count": 124,
   "metadata": {},
   "outputs": [
    {
     "data": {
      "text/plain": [
       "0.6913759689922481"
      ]
     },
     "execution_count": 124,
     "metadata": {},
     "output_type": "execute_result"
    }
   ],
   "source": [
    "# Let's see the sensitivity of our logistic regression model\n",
    "TP / float(TP+FN)"
   ]
  },
  {
   "cell_type": "code",
   "execution_count": 125,
   "metadata": {},
   "outputs": [
    {
     "data": {
      "text/plain": [
       "0.5672288642186165"
      ]
     },
     "execution_count": 125,
     "metadata": {},
     "output_type": "execute_result"
    }
   ],
   "source": [
    "# Let us calculate specificity\n",
    "TN / float(TN+FP)"
   ]
  },
  {
   "cell_type": "code",
   "execution_count": 126,
   "metadata": {},
   "outputs": [
    {
     "name": "stdout",
     "output_type": "stream",
     "text": [
      "0.43277113578138343\n"
     ]
    }
   ],
   "source": [
    "# Calculate false postive rate - predicting churn when customer does not have churned\n",
    "print(FP/ float(TN+FP))"
   ]
  },
  {
   "cell_type": "code",
   "execution_count": 127,
   "metadata": {},
   "outputs": [
    {
     "name": "stdout",
     "output_type": "stream",
     "text": [
      "0.06576643008572218\n"
     ]
    }
   ],
   "source": [
    "# positive predictive value \n",
    "print (TP / float(TP+FP))"
   ]
  },
  {
   "cell_type": "code",
   "execution_count": 128,
   "metadata": {},
   "outputs": [
    {
     "name": "stdout",
     "output_type": "stream",
     "text": [
      "0.9765860471954716\n"
     ]
    }
   ],
   "source": [
    "# Negative predictive value\n",
    "print (TN / float(TN+ FN))"
   ]
  },
  {
   "cell_type": "markdown",
   "metadata": {},
   "source": [
    "# Plotting the ROC Curve\n",
    "\n",
    "An ROC curve demonstrates several things:\n",
    "It shows the tradeoff between sensitivity and specificity (any increase in sensitivity will be accompanied by a decrease in specificity).\n",
    "The closer the curve follows the left-hand border and then the top border of the ROC space, the more accurate the test.\n",
    "The closer the curve comes to the 45-degree diagonal of the ROC space, the less accurate the test."
   ]
  },
  {
   "cell_type": "code",
   "execution_count": 129,
   "metadata": {},
   "outputs": [],
   "source": [
    "# ROC function\n",
    "\n",
    "def draw_roc( actual, probs ):\n",
    "    fpr, tpr, thresholds = metrics.roc_curve( actual, probs,\n",
    "                                              drop_intermediate = False )\n",
    "    auc_score = metrics.roc_auc_score( actual, probs )\n",
    "    plt.figure(figsize=(5, 5))\n",
    "    plt.plot( fpr, tpr, label='ROC curve (area = %0.2f)' % auc_score )\n",
    "    plt.plot([0, 1], [0, 1], 'k--')\n",
    "    plt.xlim([0.0, 1.0])\n",
    "    plt.ylim([0.0, 1.05])\n",
    "    plt.xlabel('False Positive Rate or [1 - True Negative Rate]')\n",
    "    plt.ylabel('True Positive Rate')\n",
    "    plt.title('Receiver operating characteristic example')\n",
    "    plt.legend(loc=\"lower right\")\n",
    "    plt.show()\n",
    "\n",
    "    return None"
   ]
  },
  {
   "cell_type": "code",
   "execution_count": 130,
   "metadata": {},
   "outputs": [],
   "source": [
    "thresholds = metrics.roc_curve( y_train_pred_final.Performance, y_train_pred_final.performance_prob, drop_intermediate = False )"
   ]
  },
  {
   "cell_type": "code",
   "execution_count": 131,
   "metadata": {},
   "outputs": [
    {
     "data": {
      "image/png": "[encoded data removed]",
      "text/plain": [
       "<Figure size 360x360 with 1 Axes>"
      ]
     },
     "metadata": {
      "needs_background": "light"
     },
     "output_type": "display_data"
    }
   ],
   "source": [
    "# Import matplotlib to plot the ROC curve\n",
    "\n",
    "import matplotlib.pyplot as plt\n",
    "# Call the ROC function\n",
    "\n",
    "draw_roc(y_train_pred_final.Performance, y_train_pred_final.performance_prob)"
   ]
  },
  {
   "cell_type": "code",
   "execution_count": 132,
   "metadata": {},
   "outputs": [
    {
     "data": {
      "text/html": [
       "<div>\n",
       "<style scoped>\n",
       "    .dataframe tbody tr th:only-of-type {\n",
       "        vertical-align: middle;\n",
       "    }\n",
       "\n",
       "    .dataframe tbody tr th {\n",
       "        vertical-align: top;\n",
       "    }\n",
       "\n",
       "    .dataframe thead th {\n",
       "        text-align: right;\n",
       "    }\n",
       "</style>\n",
       "<table border=\"1\" class=\"dataframe\">\n",
       "  <thead>\n",
       "    <tr style=\"text-align: right;\">\n",
       "      <th></th>\n",
       "      <th>Performance</th>\n",
       "      <th>performance_prob</th>\n",
       "      <th>Application ID</th>\n",
       "      <th>predicted_performance</th>\n",
       "      <th>0.0</th>\n",
       "      <th>0.1</th>\n",
       "      <th>0.2</th>\n",
       "      <th>0.3</th>\n",
       "      <th>0.4</th>\n",
       "      <th>0.5</th>\n",
       "      <th>0.6</th>\n",
       "      <th>0.7</th>\n",
       "      <th>0.8</th>\n",
       "      <th>0.9</th>\n",
       "    </tr>\n",
       "  </thead>\n",
       "  <tbody>\n",
       "    <tr>\n",
       "      <th>0</th>\n",
       "      <td>0.0</td>\n",
       "      <td>0.270034</td>\n",
       "      <td>16415</td>\n",
       "      <td>0</td>\n",
       "      <td>1</td>\n",
       "      <td>1</td>\n",
       "      <td>1</td>\n",
       "      <td>0</td>\n",
       "      <td>0</td>\n",
       "      <td>0</td>\n",
       "      <td>0</td>\n",
       "      <td>0</td>\n",
       "      <td>0</td>\n",
       "      <td>0</td>\n",
       "    </tr>\n",
       "    <tr>\n",
       "      <th>1</th>\n",
       "      <td>0.0</td>\n",
       "      <td>0.566470</td>\n",
       "      <td>34570</td>\n",
       "      <td>1</td>\n",
       "      <td>1</td>\n",
       "      <td>1</td>\n",
       "      <td>1</td>\n",
       "      <td>1</td>\n",
       "      <td>1</td>\n",
       "      <td>1</td>\n",
       "      <td>0</td>\n",
       "      <td>0</td>\n",
       "      <td>0</td>\n",
       "      <td>0</td>\n",
       "    </tr>\n",
       "    <tr>\n",
       "      <th>2</th>\n",
       "      <td>1.0</td>\n",
       "      <td>0.705305</td>\n",
       "      <td>61611</td>\n",
       "      <td>1</td>\n",
       "      <td>1</td>\n",
       "      <td>1</td>\n",
       "      <td>1</td>\n",
       "      <td>1</td>\n",
       "      <td>1</td>\n",
       "      <td>1</td>\n",
       "      <td>1</td>\n",
       "      <td>1</td>\n",
       "      <td>0</td>\n",
       "      <td>0</td>\n",
       "    </tr>\n",
       "    <tr>\n",
       "      <th>3</th>\n",
       "      <td>0.0</td>\n",
       "      <td>0.239602</td>\n",
       "      <td>1771</td>\n",
       "      <td>0</td>\n",
       "      <td>1</td>\n",
       "      <td>1</td>\n",
       "      <td>1</td>\n",
       "      <td>0</td>\n",
       "      <td>0</td>\n",
       "      <td>0</td>\n",
       "      <td>0</td>\n",
       "      <td>0</td>\n",
       "      <td>0</td>\n",
       "      <td>0</td>\n",
       "    </tr>\n",
       "    <tr>\n",
       "      <th>4</th>\n",
       "      <td>0.0</td>\n",
       "      <td>0.242535</td>\n",
       "      <td>10562</td>\n",
       "      <td>0</td>\n",
       "      <td>1</td>\n",
       "      <td>1</td>\n",
       "      <td>1</td>\n",
       "      <td>0</td>\n",
       "      <td>0</td>\n",
       "      <td>0</td>\n",
       "      <td>0</td>\n",
       "      <td>0</td>\n",
       "      <td>0</td>\n",
       "      <td>0</td>\n",
       "    </tr>\n",
       "  </tbody>\n",
       "</table>\n",
       "</div>"
      ],
      "text/plain": [
       "   Performance  performance_prob  Application ID  predicted_performance  0.0  \\\n",
       "0          0.0          0.270034           16415                      0    1   \n",
       "1          0.0          0.566470           34570                      1    1   \n",
       "2          1.0          0.705305           61611                      1    1   \n",
       "3          0.0          0.239602            1771                      0    1   \n",
       "4          0.0          0.242535           10562                      0    1   \n",
       "\n",
       "   0.1  0.2  0.3  0.4  0.5  0.6  0.7  0.8  0.9  \n",
       "0    1    1    0    0    0    0    0    0    0  \n",
       "1    1    1    1    1    1    0    0    0    0  \n",
       "2    1    1    1    1    1    1    1    0    0  \n",
       "3    1    1    0    0    0    0    0    0    0  \n",
       "4    1    1    0    0    0    0    0    0    0  "
      ]
     },
     "execution_count": 132,
     "metadata": {},
     "output_type": "execute_result"
    }
   ],
   "source": [
    "# Let's create columns with different probability cutoffs \n",
    "\n",
    "numbers = [float(x)/10 for x in range(10)]\n",
    "for i in numbers:\n",
    "    y_train_pred_final[i]= y_train_pred_final.performance_prob.map(lambda x: 1 if x > i else 0)\n",
    "y_train_pred_final.head()"
   ]
  },
  {
   "cell_type": "code",
   "execution_count": 133,
   "metadata": {},
   "outputs": [
    {
     "name": "stdout",
     "output_type": "stream",
     "text": [
      "     prob  accuracy     sensi     speci\n",
      "0.0   0.0  0.042205  1.000000  0.000000\n",
      "0.1   0.1  0.042205  1.000000  0.000000\n",
      "0.2   0.2  0.042205  1.000000  0.000000\n",
      "0.3   0.3  0.319422  0.909884  0.293403\n",
      "0.4   0.4  0.416858  0.842539  0.398100\n",
      "0.5   0.5  0.572469  0.691376  0.567229\n",
      "0.6   0.6  0.790978  0.380329  0.809073\n",
      "0.7   0.7  0.927491  0.088178  0.964475\n",
      "0.8   0.8  0.957795  0.000000  1.000000\n",
      "0.9   0.9  0.957795  0.000000  1.000000\n"
     ]
    }
   ],
   "source": [
    "# Let's create a dataframe to see the values of accuracy, sensitivity, and specificity at different values of probabiity cutoffs\n",
    "\n",
    "cutoff_df = pd.DataFrame( columns = ['prob','accuracy','sensi','speci'])\n",
    "from sklearn.metrics import confusion_matrix\n",
    "\n",
    "# TP = confusion[1,1] # true positive \n",
    "# TN = confusion[0,0] # true negatives\n",
    "# FP = confusion[0,1] # false positives\n",
    "# FN = confusion[1,0] # false negatives\n",
    "\n",
    "num = [0.0,0.1,0.2,0.3,0.4,0.5,0.6,0.7,0.8,0.9]\n",
    "for i in num:\n",
    "    cm1 = metrics.confusion_matrix(y_train_pred_final.Performance, y_train_pred_final[i] )\n",
    "    total1=sum(sum(cm1))\n",
    "    accuracy = (cm1[0,0]+cm1[1,1])/total1\n",
    "    \n",
    "    speci = cm1[0,0]/(cm1[0,0]+cm1[0,1])\n",
    "    sensi = cm1[1,1]/(cm1[1,0]+cm1[1,1])\n",
    "    cutoff_df.loc[i] =[ i ,accuracy,sensi,speci]\n",
    "print(cutoff_df)"
   ]
  },
  {
   "cell_type": "code",
   "execution_count": 134,
   "metadata": {},
   "outputs": [
    {
     "data": {
      "image/png": "[encoded data removed]",
      "text/plain": [
       "<Figure size 432x288 with 1 Axes>"
      ]
     },
     "metadata": {
      "needs_background": "light"
     },
     "output_type": "display_data"
    }
   ],
   "source": [
    "# Let's plot it as well\n",
    "\n",
    "cutoff_df.plot.line(x='prob', y=['accuracy','sensi','speci'])\n",
    "plt.show()"
   ]
  },
  {
   "cell_type": "code",
   "execution_count": 135,
   "metadata": {},
   "outputs": [
    {
     "data": {
      "text/html": [
       "<div>\n",
       "<style scoped>\n",
       "    .dataframe tbody tr th:only-of-type {\n",
       "        vertical-align: middle;\n",
       "    }\n",
       "\n",
       "    .dataframe tbody tr th {\n",
       "        vertical-align: top;\n",
       "    }\n",
       "\n",
       "    .dataframe thead th {\n",
       "        text-align: right;\n",
       "    }\n",
       "</style>\n",
       "<table border=\"1\" class=\"dataframe\">\n",
       "  <thead>\n",
       "    <tr style=\"text-align: right;\">\n",
       "      <th></th>\n",
       "      <th>Performance</th>\n",
       "      <th>performance_prob</th>\n",
       "      <th>Application ID</th>\n",
       "      <th>predicted_performance</th>\n",
       "      <th>0.0</th>\n",
       "      <th>0.1</th>\n",
       "      <th>0.2</th>\n",
       "      <th>0.3</th>\n",
       "      <th>0.4</th>\n",
       "      <th>0.5</th>\n",
       "      <th>0.6</th>\n",
       "      <th>0.7</th>\n",
       "      <th>0.8</th>\n",
       "      <th>0.9</th>\n",
       "      <th>final_predicted</th>\n",
       "    </tr>\n",
       "  </thead>\n",
       "  <tbody>\n",
       "    <tr>\n",
       "      <th>0</th>\n",
       "      <td>0.0</td>\n",
       "      <td>0.270034</td>\n",
       "      <td>16415</td>\n",
       "      <td>0</td>\n",
       "      <td>1</td>\n",
       "      <td>1</td>\n",
       "      <td>1</td>\n",
       "      <td>0</td>\n",
       "      <td>0</td>\n",
       "      <td>0</td>\n",
       "      <td>0</td>\n",
       "      <td>0</td>\n",
       "      <td>0</td>\n",
       "      <td>0</td>\n",
       "      <td>0</td>\n",
       "    </tr>\n",
       "    <tr>\n",
       "      <th>1</th>\n",
       "      <td>0.0</td>\n",
       "      <td>0.566470</td>\n",
       "      <td>34570</td>\n",
       "      <td>1</td>\n",
       "      <td>1</td>\n",
       "      <td>1</td>\n",
       "      <td>1</td>\n",
       "      <td>1</td>\n",
       "      <td>1</td>\n",
       "      <td>1</td>\n",
       "      <td>0</td>\n",
       "      <td>0</td>\n",
       "      <td>0</td>\n",
       "      <td>0</td>\n",
       "      <td>1</td>\n",
       "    </tr>\n",
       "    <tr>\n",
       "      <th>2</th>\n",
       "      <td>1.0</td>\n",
       "      <td>0.705305</td>\n",
       "      <td>61611</td>\n",
       "      <td>1</td>\n",
       "      <td>1</td>\n",
       "      <td>1</td>\n",
       "      <td>1</td>\n",
       "      <td>1</td>\n",
       "      <td>1</td>\n",
       "      <td>1</td>\n",
       "      <td>1</td>\n",
       "      <td>1</td>\n",
       "      <td>0</td>\n",
       "      <td>0</td>\n",
       "      <td>1</td>\n",
       "    </tr>\n",
       "    <tr>\n",
       "      <th>3</th>\n",
       "      <td>0.0</td>\n",
       "      <td>0.239602</td>\n",
       "      <td>1771</td>\n",
       "      <td>0</td>\n",
       "      <td>1</td>\n",
       "      <td>1</td>\n",
       "      <td>1</td>\n",
       "      <td>0</td>\n",
       "      <td>0</td>\n",
       "      <td>0</td>\n",
       "      <td>0</td>\n",
       "      <td>0</td>\n",
       "      <td>0</td>\n",
       "      <td>0</td>\n",
       "      <td>0</td>\n",
       "    </tr>\n",
       "    <tr>\n",
       "      <th>4</th>\n",
       "      <td>0.0</td>\n",
       "      <td>0.242535</td>\n",
       "      <td>10562</td>\n",
       "      <td>0</td>\n",
       "      <td>1</td>\n",
       "      <td>1</td>\n",
       "      <td>1</td>\n",
       "      <td>0</td>\n",
       "      <td>0</td>\n",
       "      <td>0</td>\n",
       "      <td>0</td>\n",
       "      <td>0</td>\n",
       "      <td>0</td>\n",
       "      <td>0</td>\n",
       "      <td>0</td>\n",
       "    </tr>\n",
       "  </tbody>\n",
       "</table>\n",
       "</div>"
      ],
      "text/plain": [
       "   Performance  performance_prob  Application ID  predicted_performance  0.0  \\\n",
       "0          0.0          0.270034           16415                      0    1   \n",
       "1          0.0          0.566470           34570                      1    1   \n",
       "2          1.0          0.705305           61611                      1    1   \n",
       "3          0.0          0.239602            1771                      0    1   \n",
       "4          0.0          0.242535           10562                      0    1   \n",
       "\n",
       "   0.1  0.2  0.3  0.4  0.5  0.6  0.7  0.8  0.9  final_predicted  \n",
       "0    1    1    0    0    0    0    0    0    0                0  \n",
       "1    1    1    1    1    1    0    0    0    0                1  \n",
       "2    1    1    1    1    1    1    1    0    0                1  \n",
       "3    1    1    0    0    0    0    0    0    0                0  \n",
       "4    1    1    0    0    0    0    0    0    0                0  "
      ]
     },
     "execution_count": 135,
     "metadata": {},
     "output_type": "execute_result"
    }
   ],
   "source": [
    "#### From the curve above, 0.5 is the optimum point to take it as a cutoff probability.\n",
    "\n",
    "y_train_pred_final['final_predicted'] = y_train_pred_final.performance_prob.map( lambda x: 1 if x > 0.5 else 0)\n",
    "\n",
    "y_train_pred_final.head()"
   ]
  },
  {
   "cell_type": "markdown",
   "metadata": {},
   "source": [
    "# Master_Data_woe:Random Forest"
   ]
  },
  {
   "cell_type": "code",
   "execution_count": 136,
   "metadata": {},
   "outputs": [],
   "source": [
    "# Putting feature variable to X\n",
    "X = Master_Data_woe.drop(['Performance Tag_x','Performance Tag_y','Application ID'],axis=1)\n",
    "\n",
    "\n",
    "\n",
    "# Putting response variable to y\n",
    "y = Master_Data_woe['Performance Tag_x']\n",
    "\n",
    "# Splitting the data into train and test\n",
    "X_train, X_test, y_train, y_test = train_test_split(X, y, test_size=0.30, random_state=101)"
   ]
  },
  {
   "cell_type": "code",
   "execution_count": 137,
   "metadata": {},
   "outputs": [],
   "source": [
    "#Balancing Dataset\n",
    "\n",
    "from imblearn.over_sampling import SMOTE\n",
    "\n",
    "sm=SMOTE(kind=\"regular\")\n",
    "X_tr,y_tr=sm.fit_sample(X_train,y_train)"
   ]
  },
  {
   "cell_type": "code",
   "execution_count": 138,
   "metadata": {},
   "outputs": [
    {
     "name": "stdout",
     "output_type": "stream",
     "text": [
      "X_tr Shape (93680, 27)\n",
      "y_tr Shape (93680,)\n",
      "Imbalance in Train Data : 1.0\n"
     ]
    }
   ],
   "source": [
    "print(\"X_tr Shape\",X_tr.shape)\n",
    "print(\"y_tr Shape\",y_tr.shape)\n",
    "\n",
    "imb=(y_tr!=0).sum()/(y_tr==0).sum()\n",
    "print(\"Imbalance in Train Data :\",imb)"
   ]
  },
  {
   "cell_type": "markdown",
   "metadata": {},
   "source": [
    "Default Hyperparameters\n",
    "Let's first fit a random forest model with default hyperparameters."
   ]
  },
  {
   "cell_type": "code",
   "execution_count": 139,
   "metadata": {},
   "outputs": [],
   "source": [
    "# Importing random forest classifier from sklearn library\n",
    "from sklearn.ensemble import RandomForestClassifier\n",
    "\n",
    "# Running the random forest with default parameters.\n",
    "rfc = RandomForestClassifier()"
   ]
  },
  {
   "cell_type": "code",
   "execution_count": 140,
   "metadata": {},
   "outputs": [
    {
     "data": {
      "text/plain": [
       "RandomForestClassifier(bootstrap=True, class_weight=None, criterion='gini',\n",
       "                       max_depth=None, max_features='auto', max_leaf_nodes=None,\n",
       "                       min_impurity_decrease=0.0, min_impurity_split=None,\n",
       "                       min_samples_leaf=1, min_samples_split=2,\n",
       "                       min_weight_fraction_leaf=0.0, n_estimators=10,\n",
       "                       n_jobs=None, oob_score=False, random_state=None,\n",
       "                       verbose=0, warm_start=False)"
      ]
     },
     "execution_count": 140,
     "metadata": {},
     "output_type": "execute_result"
    }
   ],
   "source": [
    "# fit\n",
    "rfc.fit(X_tr,y_tr)"
   ]
  },
  {
   "cell_type": "code",
   "execution_count": 141,
   "metadata": {},
   "outputs": [],
   "source": [
    "# Making predictions\n",
    "predictions = rfc.predict(X_test)"
   ]
  },
  {
   "cell_type": "code",
   "execution_count": 142,
   "metadata": {},
   "outputs": [],
   "source": [
    "# Importing classification report and confusion matrix from sklearn metrics\n",
    "from sklearn.metrics import classification_report,confusion_matrix, accuracy_score"
   ]
  },
  {
   "cell_type": "code",
   "execution_count": 143,
   "metadata": {},
   "outputs": [
    {
     "name": "stdout",
     "output_type": "stream",
     "text": [
      "              precision    recall  f1-score   support\n",
      "\n",
      "         0.0       0.96      1.00      0.98     20077\n",
      "         1.0       0.10      0.01      0.01       883\n",
      "\n",
      "    accuracy                           0.96     20960\n",
      "   macro avg       0.53      0.50      0.49     20960\n",
      "weighted avg       0.92      0.96      0.94     20960\n",
      "\n"
     ]
    }
   ],
   "source": [
    "# Let's check the report of our default model\n",
    "print(classification_report(y_test,predictions))"
   ]
  },
  {
   "cell_type": "code",
   "execution_count": 144,
   "metadata": {},
   "outputs": [
    {
     "name": "stdout",
     "output_type": "stream",
     "text": [
      "[[20022    55]\n",
      " [  877     6]]\n"
     ]
    }
   ],
   "source": [
    "# Printing confusion matrix\n",
    "print(confusion_matrix(y_test,predictions))"
   ]
  },
  {
   "cell_type": "code",
   "execution_count": 145,
   "metadata": {},
   "outputs": [
    {
     "name": "stdout",
     "output_type": "stream",
     "text": [
      "0.9555343511450382\n"
     ]
    }
   ],
   "source": [
    "print(accuracy_score(y_test,predictions))"
   ]
  },
  {
   "cell_type": "code",
   "execution_count": 146,
   "metadata": {},
   "outputs": [
    {
     "data": {
      "text/plain": [
       "GridSearchCV(cv=4, error_score='raise-deprecating',\n",
       "             estimator=RandomForestClassifier(bootstrap=True, class_weight=None,\n",
       "                                              criterion='gini', max_depth=None,\n",
       "                                              max_features='auto',\n",
       "                                              max_leaf_nodes=None,\n",
       "                                              min_impurity_decrease=0.0,\n",
       "                                              min_impurity_split=None,\n",
       "                                              min_samples_leaf=1,\n",
       "                                              min_samples_split=2,\n",
       "                                              min_weight_fraction_leaf=0.0,\n",
       "                                              n_estimators='warn', n_jobs=None,\n",
       "                                              oob_score=False,\n",
       "                                              random_state=None, verbose=0,\n",
       "                                              warm_start=False),\n",
       "             iid='warn', n_jobs=None,\n",
       "             param_grid={'max_depth': range(10, 110, 10)},\n",
       "             pre_dispatch='2*n_jobs', refit=True, return_train_score=True,\n",
       "             scoring='accuracy', verbose=0)"
      ]
     },
     "execution_count": 146,
     "metadata": {},
     "output_type": "execute_result"
    }
   ],
   "source": [
    "# GridSearchCV to find optimal n_estimators\n",
    "from sklearn.model_selection import KFold\n",
    "from sklearn.model_selection import GridSearchCV\n",
    "from sklearn.ensemble import RandomForestClassifier\n",
    "\n",
    "\n",
    "\n",
    "# specify number of folds for k-fold CV\n",
    "n_folds = 4\n",
    "\n",
    "# parameters to build the model on\n",
    "parameters = {'max_depth': range(10,110,10)}\n",
    "\n",
    "# instantiate the model\n",
    "rf = RandomForestClassifier()\n",
    "\n",
    "\n",
    "# fit tree on training data\n",
    "rf = GridSearchCV(rf, parameters, \n",
    "                    cv=n_folds,return_train_score=True,\n",
    "                   scoring=\"accuracy\")\n",
    "rf.fit(X_tr, y_tr)"
   ]
  },
  {
   "cell_type": "code",
   "execution_count": 147,
   "metadata": {},
   "outputs": [
    {
     "data": {
      "text/plain": [
       "RandomForestClassifier(bootstrap=True, class_weight=None, criterion='gini',\n",
       "                       max_depth=None, max_features='auto', max_leaf_nodes=None,\n",
       "                       min_impurity_decrease=0.0, min_impurity_split=None,\n",
       "                       min_samples_leaf=1, min_samples_split=2,\n",
       "                       min_weight_fraction_leaf=0.0, n_estimators=10,\n",
       "                       n_jobs=None, oob_score=False, random_state=None,\n",
       "                       verbose=0, warm_start=False)"
      ]
     },
     "execution_count": 147,
     "metadata": {},
     "output_type": "execute_result"
    }
   ],
   "source": [
    "# fit\n",
    "rfc.fit(X_tr,y_tr)"
   ]
  },
  {
   "cell_type": "code",
   "execution_count": 148,
   "metadata": {},
   "outputs": [
    {
     "data": {
      "text/html": [
       "<div>\n",
       "<style scoped>\n",
       "    .dataframe tbody tr th:only-of-type {\n",
       "        vertical-align: middle;\n",
       "    }\n",
       "\n",
       "    .dataframe tbody tr th {\n",
       "        vertical-align: top;\n",
       "    }\n",
       "\n",
       "    .dataframe thead th {\n",
       "        text-align: right;\n",
       "    }\n",
       "</style>\n",
       "<table border=\"1\" class=\"dataframe\">\n",
       "  <thead>\n",
       "    <tr style=\"text-align: right;\">\n",
       "      <th></th>\n",
       "      <th>mean_fit_time</th>\n",
       "      <th>std_fit_time</th>\n",
       "      <th>mean_score_time</th>\n",
       "      <th>std_score_time</th>\n",
       "      <th>param_max_depth</th>\n",
       "      <th>params</th>\n",
       "      <th>split0_test_score</th>\n",
       "      <th>split1_test_score</th>\n",
       "      <th>split2_test_score</th>\n",
       "      <th>split3_test_score</th>\n",
       "      <th>mean_test_score</th>\n",
       "      <th>std_test_score</th>\n",
       "      <th>rank_test_score</th>\n",
       "      <th>split0_train_score</th>\n",
       "      <th>split1_train_score</th>\n",
       "      <th>split2_train_score</th>\n",
       "      <th>split3_train_score</th>\n",
       "      <th>mean_train_score</th>\n",
       "      <th>std_train_score</th>\n",
       "    </tr>\n",
       "  </thead>\n",
       "  <tbody>\n",
       "    <tr>\n",
       "      <th>0</th>\n",
       "      <td>0.882016</td>\n",
       "      <td>0.064038</td>\n",
       "      <td>0.042998</td>\n",
       "      <td>0.001731</td>\n",
       "      <td>10</td>\n",
       "      <td>{'max_depth': 10}</td>\n",
       "      <td>0.897267</td>\n",
       "      <td>0.977839</td>\n",
       "      <td>0.979035</td>\n",
       "      <td>0.976729</td>\n",
       "      <td>0.957718</td>\n",
       "      <td>0.034911</td>\n",
       "      <td>10</td>\n",
       "      <td>0.983134</td>\n",
       "      <td>0.952334</td>\n",
       "      <td>0.952946</td>\n",
       "      <td>0.950726</td>\n",
       "      <td>0.959785</td>\n",
       "      <td>0.013505</td>\n",
       "    </tr>\n",
       "    <tr>\n",
       "      <th>1</th>\n",
       "      <td>1.001019</td>\n",
       "      <td>0.018416</td>\n",
       "      <td>0.059000</td>\n",
       "      <td>0.001733</td>\n",
       "      <td>20</td>\n",
       "      <td>{'max_depth': 20}</td>\n",
       "      <td>0.910376</td>\n",
       "      <td>0.997908</td>\n",
       "      <td>0.997267</td>\n",
       "      <td>0.997609</td>\n",
       "      <td>0.975790</td>\n",
       "      <td>0.037768</td>\n",
       "      <td>1</td>\n",
       "      <td>0.999587</td>\n",
       "      <td>0.987660</td>\n",
       "      <td>0.986835</td>\n",
       "      <td>0.986948</td>\n",
       "      <td>0.990258</td>\n",
       "      <td>0.005396</td>\n",
       "    </tr>\n",
       "    <tr>\n",
       "      <th>2</th>\n",
       "      <td>1.035006</td>\n",
       "      <td>0.016090</td>\n",
       "      <td>0.057999</td>\n",
       "      <td>0.003463</td>\n",
       "      <td>30</td>\n",
       "      <td>{'max_depth': 30}</td>\n",
       "      <td>0.910290</td>\n",
       "      <td>0.996968</td>\n",
       "      <td>0.996798</td>\n",
       "      <td>0.997523</td>\n",
       "      <td>0.975395</td>\n",
       "      <td>0.037589</td>\n",
       "      <td>4</td>\n",
       "      <td>0.999772</td>\n",
       "      <td>0.993524</td>\n",
       "      <td>0.993851</td>\n",
       "      <td>0.993638</td>\n",
       "      <td>0.995196</td>\n",
       "      <td>0.002644</td>\n",
       "    </tr>\n",
       "    <tr>\n",
       "      <th>3</th>\n",
       "      <td>1.024006</td>\n",
       "      <td>0.029535</td>\n",
       "      <td>0.060994</td>\n",
       "      <td>0.004362</td>\n",
       "      <td>40</td>\n",
       "      <td>{'max_depth': 40}</td>\n",
       "      <td>0.910248</td>\n",
       "      <td>0.996584</td>\n",
       "      <td>0.996926</td>\n",
       "      <td>0.997267</td>\n",
       "      <td>0.975256</td>\n",
       "      <td>0.037533</td>\n",
       "      <td>6</td>\n",
       "      <td>0.999829</td>\n",
       "      <td>0.993567</td>\n",
       "      <td>0.993367</td>\n",
       "      <td>0.993353</td>\n",
       "      <td>0.995029</td>\n",
       "      <td>0.002773</td>\n",
       "    </tr>\n",
       "    <tr>\n",
       "      <th>4</th>\n",
       "      <td>1.030005</td>\n",
       "      <td>0.025692</td>\n",
       "      <td>0.060001</td>\n",
       "      <td>0.002838</td>\n",
       "      <td>50</td>\n",
       "      <td>{'max_depth': 50}</td>\n",
       "      <td>0.910675</td>\n",
       "      <td>0.996798</td>\n",
       "      <td>0.997353</td>\n",
       "      <td>0.997267</td>\n",
       "      <td>0.975523</td>\n",
       "      <td>0.037441</td>\n",
       "      <td>2</td>\n",
       "      <td>0.999872</td>\n",
       "      <td>0.993923</td>\n",
       "      <td>0.993780</td>\n",
       "      <td>0.993353</td>\n",
       "      <td>0.995232</td>\n",
       "      <td>0.002687</td>\n",
       "    </tr>\n",
       "  </tbody>\n",
       "</table>\n",
       "</div>"
      ],
      "text/plain": [
       "   mean_fit_time  std_fit_time  mean_score_time  std_score_time  \\\n",
       "0       0.882016      0.064038         0.042998        0.001731   \n",
       "1       1.001019      0.018416         0.059000        0.001733   \n",
       "2       1.035006      0.016090         0.057999        0.003463   \n",
       "3       1.024006      0.029535         0.060994        0.004362   \n",
       "4       1.030005      0.025692         0.060001        0.002838   \n",
       "\n",
       "  param_max_depth             params  split0_test_score  split1_test_score  \\\n",
       "0              10  {'max_depth': 10}           0.897267           0.977839   \n",
       "1              20  {'max_depth': 20}           0.910376           0.997908   \n",
       "2              30  {'max_depth': 30}           0.910290           0.996968   \n",
       "3              40  {'max_depth': 40}           0.910248           0.996584   \n",
       "4              50  {'max_depth': 50}           0.910675           0.996798   \n",
       "\n",
       "   split2_test_score  split3_test_score  mean_test_score  std_test_score  \\\n",
       "0           0.979035           0.976729         0.957718        0.034911   \n",
       "1           0.997267           0.997609         0.975790        0.037768   \n",
       "2           0.996798           0.997523         0.975395        0.037589   \n",
       "3           0.996926           0.997267         0.975256        0.037533   \n",
       "4           0.997353           0.997267         0.975523        0.037441   \n",
       "\n",
       "   rank_test_score  split0_train_score  split1_train_score  \\\n",
       "0               10            0.983134            0.952334   \n",
       "1                1            0.999587            0.987660   \n",
       "2                4            0.999772            0.993524   \n",
       "3                6            0.999829            0.993567   \n",
       "4                2            0.999872            0.993923   \n",
       "\n",
       "   split2_train_score  split3_train_score  mean_train_score  std_train_score  \n",
       "0            0.952946            0.950726          0.959785         0.013505  \n",
       "1            0.986835            0.986948          0.990258         0.005396  \n",
       "2            0.993851            0.993638          0.995196         0.002644  \n",
       "3            0.993367            0.993353          0.995029         0.002773  \n",
       "4            0.993780            0.993353          0.995232         0.002687  "
      ]
     },
     "execution_count": 148,
     "metadata": {},
     "output_type": "execute_result"
    }
   ],
   "source": [
    "# scores of GridSearch CV\n",
    "scores = rf.cv_results_\n",
    "pd.DataFrame(scores).head()"
   ]
  },
  {
   "cell_type": "code",
   "execution_count": 149,
   "metadata": {},
   "outputs": [
    {
     "data": {
      "image/png": "[encoded data removed]",
      "text/plain": [
       "<Figure size 432x288 with 1 Axes>"
      ]
     },
     "metadata": {
      "needs_background": "light"
     },
     "output_type": "display_data"
    }
   ],
   "source": [
    "# plotting accuracies with max_depth\n",
    "plt.figure()\n",
    "plt.plot(scores[\"param_max_depth\"], \n",
    "         scores[\"mean_train_score\"], \n",
    "         label=\"training accuracy\")\n",
    "plt.plot(scores[\"param_max_depth\"], \n",
    "         scores[\"mean_test_score\"], \n",
    "         label=\"test accuracy\")\n",
    "plt.xlabel(\"max_depth\")\n",
    "plt.ylabel(\"Accuracy\")\n",
    "plt.legend()\n",
    "plt.show()"
   ]
  },
  {
   "cell_type": "code",
   "execution_count": 150,
   "metadata": {},
   "outputs": [
    {
     "data": {
      "text/plain": [
       "GridSearchCV(cv=5, error_score='raise-deprecating',\n",
       "             estimator=RandomForestClassifier(bootstrap=True, class_weight=None,\n",
       "                                              criterion='gini', max_depth=4,\n",
       "                                              max_features='auto',\n",
       "                                              max_leaf_nodes=None,\n",
       "                                              min_impurity_decrease=0.0,\n",
       "                                              min_impurity_split=None,\n",
       "                                              min_samples_leaf=1,\n",
       "                                              min_samples_split=2,\n",
       "                                              min_weight_fraction_leaf=0.0,\n",
       "                                              n_estimators='warn', n_jobs=None,\n",
       "                                              oob_score=False,\n",
       "                                              random_state=None, verbose=0,\n",
       "                                              warm_start=False),\n",
       "             iid='warn', n_jobs=None,\n",
       "             param_grid={'n_estimators': range(100, 1500, 400)},\n",
       "             pre_dispatch='2*n_jobs', refit=True, return_train_score=True,\n",
       "             scoring='accuracy', verbose=0)"
      ]
     },
     "execution_count": 150,
     "metadata": {},
     "output_type": "execute_result"
    }
   ],
   "source": [
    "# GridSearchCV to find optimal n_estimators\n",
    "from sklearn.model_selection import KFold\n",
    "from sklearn.model_selection import GridSearchCV\n",
    "\n",
    "\n",
    "# specify number of folds for k-fold CV\n",
    "n_folds = 5\n",
    "\n",
    "# parameters to build the model on\n",
    "parameters = {'n_estimators': range(100, 1500, 400)}\n",
    "\n",
    "# instantiate the model (note we are specifying a max_depth)\n",
    "rf = RandomForestClassifier(max_depth=4)\n",
    "\n",
    "\n",
    "# fit tree on training data\n",
    "rf = GridSearchCV(rf, parameters, \n",
    "                    cv=n_folds, return_train_score=True,\n",
    "                   scoring=\"accuracy\")\n",
    "rf.fit(X_tr, y_tr)"
   ]
  },
  {
   "cell_type": "code",
   "execution_count": 151,
   "metadata": {},
   "outputs": [
    {
     "data": {
      "text/html": [
       "<div>\n",
       "<style scoped>\n",
       "    .dataframe tbody tr th:only-of-type {\n",
       "        vertical-align: middle;\n",
       "    }\n",
       "\n",
       "    .dataframe tbody tr th {\n",
       "        vertical-align: top;\n",
       "    }\n",
       "\n",
       "    .dataframe thead th {\n",
       "        text-align: right;\n",
       "    }\n",
       "</style>\n",
       "<table border=\"1\" class=\"dataframe\">\n",
       "  <thead>\n",
       "    <tr style=\"text-align: right;\">\n",
       "      <th></th>\n",
       "      <th>mean_fit_time</th>\n",
       "      <th>std_fit_time</th>\n",
       "      <th>mean_score_time</th>\n",
       "      <th>std_score_time</th>\n",
       "      <th>param_n_estimators</th>\n",
       "      <th>params</th>\n",
       "      <th>split0_test_score</th>\n",
       "      <th>split1_test_score</th>\n",
       "      <th>split2_test_score</th>\n",
       "      <th>split3_test_score</th>\n",
       "      <th>...</th>\n",
       "      <th>mean_test_score</th>\n",
       "      <th>std_test_score</th>\n",
       "      <th>rank_test_score</th>\n",
       "      <th>split0_train_score</th>\n",
       "      <th>split1_train_score</th>\n",
       "      <th>split2_train_score</th>\n",
       "      <th>split3_train_score</th>\n",
       "      <th>split4_train_score</th>\n",
       "      <th>mean_train_score</th>\n",
       "      <th>std_train_score</th>\n",
       "    </tr>\n",
       "  </thead>\n",
       "  <tbody>\n",
       "    <tr>\n",
       "      <th>0</th>\n",
       "      <td>5.659213</td>\n",
       "      <td>0.365596</td>\n",
       "      <td>0.177604</td>\n",
       "      <td>0.004082</td>\n",
       "      <td>100</td>\n",
       "      <td>{'n_estimators': 100}</td>\n",
       "      <td>0.803800</td>\n",
       "      <td>0.856373</td>\n",
       "      <td>0.872118</td>\n",
       "      <td>0.868809</td>\n",
       "      <td>...</td>\n",
       "      <td>0.853405</td>\n",
       "      <td>0.025352</td>\n",
       "      <td>3</td>\n",
       "      <td>0.879297</td>\n",
       "      <td>0.840988</td>\n",
       "      <td>0.853504</td>\n",
       "      <td>0.855892</td>\n",
       "      <td>0.846232</td>\n",
       "      <td>0.855183</td>\n",
       "      <td>0.013164</td>\n",
       "    </tr>\n",
       "    <tr>\n",
       "      <th>1</th>\n",
       "      <td>29.352809</td>\n",
       "      <td>1.586170</td>\n",
       "      <td>0.936798</td>\n",
       "      <td>0.062135</td>\n",
       "      <td>500</td>\n",
       "      <td>{'n_estimators': 500}</td>\n",
       "      <td>0.807376</td>\n",
       "      <td>0.868969</td>\n",
       "      <td>0.868328</td>\n",
       "      <td>0.861817</td>\n",
       "      <td>...</td>\n",
       "      <td>0.856736</td>\n",
       "      <td>0.025158</td>\n",
       "      <td>2</td>\n",
       "      <td>0.883446</td>\n",
       "      <td>0.855439</td>\n",
       "      <td>0.850195</td>\n",
       "      <td>0.848340</td>\n",
       "      <td>0.856947</td>\n",
       "      <td>0.858873</td>\n",
       "      <td>0.012693</td>\n",
       "    </tr>\n",
       "    <tr>\n",
       "      <th>2</th>\n",
       "      <td>52.985612</td>\n",
       "      <td>2.174929</td>\n",
       "      <td>1.670395</td>\n",
       "      <td>0.103373</td>\n",
       "      <td>900</td>\n",
       "      <td>{'n_estimators': 900}</td>\n",
       "      <td>0.808177</td>\n",
       "      <td>0.867581</td>\n",
       "      <td>0.875320</td>\n",
       "      <td>0.864699</td>\n",
       "      <td>...</td>\n",
       "      <td>0.857910</td>\n",
       "      <td>0.025170</td>\n",
       "      <td>1</td>\n",
       "      <td>0.884073</td>\n",
       "      <td>0.853531</td>\n",
       "      <td>0.855132</td>\n",
       "      <td>0.851996</td>\n",
       "      <td>0.853878</td>\n",
       "      <td>0.859722</td>\n",
       "      <td>0.012217</td>\n",
       "    </tr>\n",
       "    <tr>\n",
       "      <th>3</th>\n",
       "      <td>70.494424</td>\n",
       "      <td>1.167608</td>\n",
       "      <td>2.255995</td>\n",
       "      <td>0.010728</td>\n",
       "      <td>1300</td>\n",
       "      <td>{'n_estimators': 1300}</td>\n",
       "      <td>0.806255</td>\n",
       "      <td>0.863471</td>\n",
       "      <td>0.868862</td>\n",
       "      <td>0.857387</td>\n",
       "      <td>...</td>\n",
       "      <td>0.853117</td>\n",
       "      <td>0.023838</td>\n",
       "      <td>4</td>\n",
       "      <td>0.882152</td>\n",
       "      <td>0.850755</td>\n",
       "      <td>0.850195</td>\n",
       "      <td>0.845111</td>\n",
       "      <td>0.850408</td>\n",
       "      <td>0.855724</td>\n",
       "      <td>0.013376</td>\n",
       "    </tr>\n",
       "  </tbody>\n",
       "</table>\n",
       "<p>4 rows × 21 columns</p>\n",
       "</div>"
      ],
      "text/plain": [
       "   mean_fit_time  std_fit_time  mean_score_time  std_score_time  \\\n",
       "0       5.659213      0.365596         0.177604        0.004082   \n",
       "1      29.352809      1.586170         0.936798        0.062135   \n",
       "2      52.985612      2.174929         1.670395        0.103373   \n",
       "3      70.494424      1.167608         2.255995        0.010728   \n",
       "\n",
       "  param_n_estimators                  params  split0_test_score  \\\n",
       "0                100   {'n_estimators': 100}           0.803800   \n",
       "1                500   {'n_estimators': 500}           0.807376   \n",
       "2                900   {'n_estimators': 900}           0.808177   \n",
       "3               1300  {'n_estimators': 1300}           0.806255   \n",
       "\n",
       "   split1_test_score  split2_test_score  split3_test_score  ...  \\\n",
       "0           0.856373           0.872118           0.868809  ...   \n",
       "1           0.868969           0.868328           0.861817  ...   \n",
       "2           0.867581           0.875320           0.864699  ...   \n",
       "3           0.863471           0.868862           0.857387  ...   \n",
       "\n",
       "   mean_test_score  std_test_score  rank_test_score  split0_train_score  \\\n",
       "0         0.853405        0.025352                3            0.879297   \n",
       "1         0.856736        0.025158                2            0.883446   \n",
       "2         0.857910        0.025170                1            0.884073   \n",
       "3         0.853117        0.023838                4            0.882152   \n",
       "\n",
       "   split1_train_score  split2_train_score  split3_train_score  \\\n",
       "0            0.840988            0.853504            0.855892   \n",
       "1            0.855439            0.850195            0.848340   \n",
       "2            0.853531            0.855132            0.851996   \n",
       "3            0.850755            0.850195            0.845111   \n",
       "\n",
       "   split4_train_score  mean_train_score  std_train_score  \n",
       "0            0.846232          0.855183         0.013164  \n",
       "1            0.856947          0.858873         0.012693  \n",
       "2            0.853878          0.859722         0.012217  \n",
       "3            0.850408          0.855724         0.013376  \n",
       "\n",
       "[4 rows x 21 columns]"
      ]
     },
     "execution_count": 151,
     "metadata": {},
     "output_type": "execute_result"
    }
   ],
   "source": [
    "# scores of GridSearch CV\n",
    "scores = rf.cv_results_\n",
    "pd.DataFrame(scores).head()"
   ]
  },
  {
   "cell_type": "code",
   "execution_count": 152,
   "metadata": {},
   "outputs": [
    {
     "data": {
      "image/png": "[encoded data removed]",
      "text/plain": [
       "<Figure size 432x288 with 1 Axes>"
      ]
     },
     "metadata": {
      "needs_background": "light"
     },
     "output_type": "display_data"
    }
   ],
   "source": [
    "# plotting accuracies with n_estimators\n",
    "plt.figure()\n",
    "plt.plot(scores[\"param_n_estimators\"], \n",
    "         scores[\"mean_train_score\"], \n",
    "         label=\"training accuracy\")\n",
    "plt.plot(scores[\"param_n_estimators\"], \n",
    "         scores[\"mean_test_score\"], \n",
    "         label=\"test accuracy\")\n",
    "plt.xlabel(\"n_estimators\")\n",
    "plt.ylabel(\"Accuracy\")\n",
    "plt.legend()\n",
    "plt.show()\n"
   ]
  },
  {
   "cell_type": "markdown",
   "metadata": {},
   "source": [
    "Tuning max_features\n",
    "\n",
    "Let's see how the model performance varies with max_features, which is the maximum numbre of features considered for splitting at a node."
   ]
  },
  {
   "cell_type": "code",
   "execution_count": 153,
   "metadata": {},
   "outputs": [
    {
     "data": {
      "text/plain": [
       "GridSearchCV(cv=5, error_score='raise-deprecating',\n",
       "             estimator=RandomForestClassifier(bootstrap=True, class_weight=None,\n",
       "                                              criterion='gini', max_depth=4,\n",
       "                                              max_features='auto',\n",
       "                                              max_leaf_nodes=None,\n",
       "                                              min_impurity_decrease=0.0,\n",
       "                                              min_impurity_split=None,\n",
       "                                              min_samples_leaf=1,\n",
       "                                              min_samples_split=2,\n",
       "                                              min_weight_fraction_leaf=0.0,\n",
       "                                              n_estimators='warn', n_jobs=None,\n",
       "                                              oob_score=False,\n",
       "                                              random_state=None, verbose=0,\n",
       "                                              warm_start=False),\n",
       "             iid='warn', n_jobs=None,\n",
       "             param_grid={'max_features': [4, 8, 14, 20, 24]},\n",
       "             pre_dispatch='2*n_jobs', refit=True, return_train_score=True,\n",
       "             scoring='accuracy', verbose=0)"
      ]
     },
     "execution_count": 153,
     "metadata": {},
     "output_type": "execute_result"
    }
   ],
   "source": [
    "# GridSearchCV to find optimal max_features\n",
    "from sklearn.model_selection import KFold\n",
    "from sklearn.model_selection import GridSearchCV\n",
    "\n",
    "\n",
    "# specify number of folds for k-fold CV\n",
    "n_folds = 5\n",
    "\n",
    "# parameters to build the model on\n",
    "parameters = {'max_features': [4, 8, 14, 20, 24]}\n",
    "\n",
    "# instantiate the model\n",
    "rf = RandomForestClassifier(max_depth=4)\n",
    "\n",
    "\n",
    "# fit tree on training data\n",
    "rf = GridSearchCV(rf, parameters, \n",
    "                    cv=n_folds, return_train_score=True,\n",
    "                   scoring=\"accuracy\")\n",
    "rf.fit(X_tr, y_tr)"
   ]
  },
  {
   "cell_type": "code",
   "execution_count": 154,
   "metadata": {},
   "outputs": [
    {
     "data": {
      "text/html": [
       "<div>\n",
       "<style scoped>\n",
       "    .dataframe tbody tr th:only-of-type {\n",
       "        vertical-align: middle;\n",
       "    }\n",
       "\n",
       "    .dataframe tbody tr th {\n",
       "        vertical-align: top;\n",
       "    }\n",
       "\n",
       "    .dataframe thead th {\n",
       "        text-align: right;\n",
       "    }\n",
       "</style>\n",
       "<table border=\"1\" class=\"dataframe\">\n",
       "  <thead>\n",
       "    <tr style=\"text-align: right;\">\n",
       "      <th></th>\n",
       "      <th>mean_fit_time</th>\n",
       "      <th>std_fit_time</th>\n",
       "      <th>mean_score_time</th>\n",
       "      <th>std_score_time</th>\n",
       "      <th>param_max_features</th>\n",
       "      <th>params</th>\n",
       "      <th>split0_test_score</th>\n",
       "      <th>split1_test_score</th>\n",
       "      <th>split2_test_score</th>\n",
       "      <th>split3_test_score</th>\n",
       "      <th>...</th>\n",
       "      <th>mean_test_score</th>\n",
       "      <th>std_test_score</th>\n",
       "      <th>rank_test_score</th>\n",
       "      <th>split0_train_score</th>\n",
       "      <th>split1_train_score</th>\n",
       "      <th>split2_train_score</th>\n",
       "      <th>split3_train_score</th>\n",
       "      <th>split4_train_score</th>\n",
       "      <th>mean_train_score</th>\n",
       "      <th>std_train_score</th>\n",
       "    </tr>\n",
       "  </thead>\n",
       "  <tbody>\n",
       "    <tr>\n",
       "      <th>0</th>\n",
       "      <td>0.529602</td>\n",
       "      <td>0.072205</td>\n",
       "      <td>0.026404</td>\n",
       "      <td>0.003196</td>\n",
       "      <td>4</td>\n",
       "      <td>{'max_features': 4}</td>\n",
       "      <td>0.776046</td>\n",
       "      <td>0.815062</td>\n",
       "      <td>0.855892</td>\n",
       "      <td>0.838706</td>\n",
       "      <td>...</td>\n",
       "      <td>0.828715</td>\n",
       "      <td>0.030492</td>\n",
       "      <td>5</td>\n",
       "      <td>0.844444</td>\n",
       "      <td>0.803680</td>\n",
       "      <td>0.839627</td>\n",
       "      <td>0.828552</td>\n",
       "      <td>0.839867</td>\n",
       "      <td>0.831234</td>\n",
       "      <td>0.014737</td>\n",
       "    </tr>\n",
       "    <tr>\n",
       "      <th>1</th>\n",
       "      <td>0.912813</td>\n",
       "      <td>0.055741</td>\n",
       "      <td>0.023204</td>\n",
       "      <td>0.004660</td>\n",
       "      <td>8</td>\n",
       "      <td>{'max_features': 8}</td>\n",
       "      <td>0.793819</td>\n",
       "      <td>0.828779</td>\n",
       "      <td>0.868275</td>\n",
       "      <td>0.815489</td>\n",
       "      <td>...</td>\n",
       "      <td>0.830156</td>\n",
       "      <td>0.025274</td>\n",
       "      <td>4</td>\n",
       "      <td>0.870303</td>\n",
       "      <td>0.816463</td>\n",
       "      <td>0.849381</td>\n",
       "      <td>0.806415</td>\n",
       "      <td>0.827525</td>\n",
       "      <td>0.834017</td>\n",
       "      <td>0.023086</td>\n",
       "    </tr>\n",
       "    <tr>\n",
       "      <th>2</th>\n",
       "      <td>1.276806</td>\n",
       "      <td>0.073898</td>\n",
       "      <td>0.024000</td>\n",
       "      <td>0.002531</td>\n",
       "      <td>14</td>\n",
       "      <td>{'max_features': 14}</td>\n",
       "      <td>0.822588</td>\n",
       "      <td>0.859789</td>\n",
       "      <td>0.879750</td>\n",
       "      <td>0.860536</td>\n",
       "      <td>...</td>\n",
       "      <td>0.869631</td>\n",
       "      <td>0.033512</td>\n",
       "      <td>1</td>\n",
       "      <td>0.915777</td>\n",
       "      <td>0.839093</td>\n",
       "      <td>0.856119</td>\n",
       "      <td>0.844404</td>\n",
       "      <td>0.902127</td>\n",
       "      <td>0.871504</td>\n",
       "      <td>0.031367</td>\n",
       "    </tr>\n",
       "    <tr>\n",
       "      <th>3</th>\n",
       "      <td>1.613607</td>\n",
       "      <td>0.068113</td>\n",
       "      <td>0.024800</td>\n",
       "      <td>0.001600</td>\n",
       "      <td>20</td>\n",
       "      <td>{'max_features': 20}</td>\n",
       "      <td>0.796862</td>\n",
       "      <td>0.868328</td>\n",
       "      <td>0.883059</td>\n",
       "      <td>0.853651</td>\n",
       "      <td>...</td>\n",
       "      <td>0.860504</td>\n",
       "      <td>0.035430</td>\n",
       "      <td>2</td>\n",
       "      <td>0.876041</td>\n",
       "      <td>0.852343</td>\n",
       "      <td>0.861003</td>\n",
       "      <td>0.835757</td>\n",
       "      <td>0.877882</td>\n",
       "      <td>0.860605</td>\n",
       "      <td>0.015637</td>\n",
       "    </tr>\n",
       "    <tr>\n",
       "      <th>4</th>\n",
       "      <td>1.843223</td>\n",
       "      <td>0.016665</td>\n",
       "      <td>0.022388</td>\n",
       "      <td>0.001951</td>\n",
       "      <td>24</td>\n",
       "      <td>{'max_features': 24}</td>\n",
       "      <td>0.745730</td>\n",
       "      <td>0.875320</td>\n",
       "      <td>0.848153</td>\n",
       "      <td>0.862244</td>\n",
       "      <td>...</td>\n",
       "      <td>0.831213</td>\n",
       "      <td>0.045926</td>\n",
       "      <td>3</td>\n",
       "      <td>0.810512</td>\n",
       "      <td>0.859148</td>\n",
       "      <td>0.823815</td>\n",
       "      <td>0.845018</td>\n",
       "      <td>0.809618</td>\n",
       "      <td>0.829622</td>\n",
       "      <td>0.019534</td>\n",
       "    </tr>\n",
       "  </tbody>\n",
       "</table>\n",
       "<p>5 rows × 21 columns</p>\n",
       "</div>"
      ],
      "text/plain": [
       "   mean_fit_time  std_fit_time  mean_score_time  std_score_time  \\\n",
       "0       0.529602      0.072205         0.026404        0.003196   \n",
       "1       0.912813      0.055741         0.023204        0.004660   \n",
       "2       1.276806      0.073898         0.024000        0.002531   \n",
       "3       1.613607      0.068113         0.024800        0.001600   \n",
       "4       1.843223      0.016665         0.022388        0.001951   \n",
       "\n",
       "  param_max_features                params  split0_test_score  \\\n",
       "0                  4   {'max_features': 4}           0.776046   \n",
       "1                  8   {'max_features': 8}           0.793819   \n",
       "2                 14  {'max_features': 14}           0.822588   \n",
       "3                 20  {'max_features': 20}           0.796862   \n",
       "4                 24  {'max_features': 24}           0.745730   \n",
       "\n",
       "   split1_test_score  split2_test_score  split3_test_score  ...  \\\n",
       "0           0.815062           0.855892           0.838706  ...   \n",
       "1           0.828779           0.868275           0.815489  ...   \n",
       "2           0.859789           0.879750           0.860536  ...   \n",
       "3           0.868328           0.883059           0.853651  ...   \n",
       "4           0.875320           0.848153           0.862244  ...   \n",
       "\n",
       "   mean_test_score  std_test_score  rank_test_score  split0_train_score  \\\n",
       "0         0.828715        0.030492                5            0.844444   \n",
       "1         0.830156        0.025274                4            0.870303   \n",
       "2         0.869631        0.033512                1            0.915777   \n",
       "3         0.860504        0.035430                2            0.876041   \n",
       "4         0.831213        0.045926                3            0.810512   \n",
       "\n",
       "   split1_train_score  split2_train_score  split3_train_score  \\\n",
       "0            0.803680            0.839627            0.828552   \n",
       "1            0.816463            0.849381            0.806415   \n",
       "2            0.839093            0.856119            0.844404   \n",
       "3            0.852343            0.861003            0.835757   \n",
       "4            0.859148            0.823815            0.845018   \n",
       "\n",
       "   split4_train_score  mean_train_score  std_train_score  \n",
       "0            0.839867          0.831234         0.014737  \n",
       "1            0.827525          0.834017         0.023086  \n",
       "2            0.902127          0.871504         0.031367  \n",
       "3            0.877882          0.860605         0.015637  \n",
       "4            0.809618          0.829622         0.019534  \n",
       "\n",
       "[5 rows x 21 columns]"
      ]
     },
     "execution_count": 154,
     "metadata": {},
     "output_type": "execute_result"
    }
   ],
   "source": [
    "# scores of GridSearch CV\n",
    "scores = rf.cv_results_\n",
    "pd.DataFrame(scores).head()"
   ]
  },
  {
   "cell_type": "code",
   "execution_count": 155,
   "metadata": {},
   "outputs": [
    {
     "data": {
      "image/png": "[encoded data removed]",
      "text/plain": [
       "<Figure size 432x288 with 1 Axes>"
      ]
     },
     "metadata": {
      "needs_background": "light"
     },
     "output_type": "display_data"
    }
   ],
   "source": [
    "# plotting accuracies with max_features\n",
    "plt.figure()\n",
    "plt.plot(scores[\"param_max_features\"], \n",
    "         scores[\"mean_train_score\"], \n",
    "         label=\"training accuracy\")\n",
    "plt.plot(scores[\"param_max_features\"], \n",
    "         scores[\"mean_test_score\"], \n",
    "         label=\"test accuracy\")\n",
    "plt.xlabel(\"max_features\")\n",
    "plt.ylabel(\"Accuracy\")\n",
    "plt.legend()\n",
    "plt.show()\n"
   ]
  },
  {
   "cell_type": "markdown",
   "metadata": {},
   "source": [
    "Let's now check the optimum value for min samples leaf in our case."
   ]
  },
  {
   "cell_type": "code",
   "execution_count": 156,
   "metadata": {},
   "outputs": [
    {
     "data": {
      "text/plain": [
       "GridSearchCV(cv=5, error_score='raise-deprecating',\n",
       "             estimator=RandomForestClassifier(bootstrap=True, class_weight=None,\n",
       "                                              criterion='gini', max_depth=None,\n",
       "                                              max_features='auto',\n",
       "                                              max_leaf_nodes=None,\n",
       "                                              min_impurity_decrease=0.0,\n",
       "                                              min_impurity_split=None,\n",
       "                                              min_samples_leaf=1,\n",
       "                                              min_samples_split=2,\n",
       "                                              min_weight_fraction_leaf=0.0,\n",
       "                                              n_estimators='warn', n_jobs=None,\n",
       "                                              oob_score=False,\n",
       "                                              random_state=None, verbose=0,\n",
       "                                              warm_start=False),\n",
       "             iid='warn', n_jobs=None,\n",
       "             param_grid={'min_samples_leaf': range(100, 400, 50)},\n",
       "             pre_dispatch='2*n_jobs', refit=True, return_train_score=True,\n",
       "             scoring='accuracy', verbose=0)"
      ]
     },
     "execution_count": 156,
     "metadata": {},
     "output_type": "execute_result"
    }
   ],
   "source": [
    "# GridSearchCV to find optimal min_samples_leaf\n",
    "from sklearn.model_selection import KFold\n",
    "from sklearn.model_selection import GridSearchCV\n",
    "\n",
    "\n",
    "# specify number of folds for k-fold CV\n",
    "n_folds = 5\n",
    "\n",
    "# parameters to build the model on\n",
    "parameters = {'min_samples_leaf': range(100, 400, 50)}\n",
    "\n",
    "# instantiate the model\n",
    "rf = RandomForestClassifier()\n",
    "\n",
    "\n",
    "# fit tree on training data\n",
    "rf = GridSearchCV(rf, parameters, \n",
    "                    cv=n_folds, return_train_score=True,\n",
    "                   scoring=\"accuracy\")\n",
    "rf.fit(X_tr, y_tr)"
   ]
  },
  {
   "cell_type": "markdown",
   "metadata": {},
   "source": [
    "Tuning min_samples_leaf\n"
   ]
  },
  {
   "cell_type": "code",
   "execution_count": 157,
   "metadata": {},
   "outputs": [
    {
     "data": {
      "text/plain": [
       "GridSearchCV(cv=5, error_score='raise-deprecating',\n",
       "             estimator=RandomForestClassifier(bootstrap=True, class_weight=None,\n",
       "                                              criterion='gini', max_depth=None,\n",
       "                                              max_features='auto',\n",
       "                                              max_leaf_nodes=None,\n",
       "                                              min_impurity_decrease=0.0,\n",
       "                                              min_impurity_split=None,\n",
       "                                              min_samples_leaf=1,\n",
       "                                              min_samples_split=2,\n",
       "                                              min_weight_fraction_leaf=0.0,\n",
       "                                              n_estimators='warn', n_jobs=None,\n",
       "                                              oob_score=False,\n",
       "                                              random_state=None, verbose=0,\n",
       "                                              warm_start=False),\n",
       "             iid='warn', n_jobs=None,\n",
       "             param_grid={'min_samples_leaf': range(100, 400, 50)},\n",
       "             pre_dispatch='2*n_jobs', refit=True, return_train_score=True,\n",
       "             scoring='accuracy', verbose=0)"
      ]
     },
     "execution_count": 157,
     "metadata": {},
     "output_type": "execute_result"
    }
   ],
   "source": [
    "# GridSearchCV to find optimal min_samples_leaf\n",
    "from sklearn.model_selection import KFold\n",
    "from sklearn.model_selection import GridSearchCV\n",
    "\n",
    "\n",
    "# specify number of folds for k-fold CV\n",
    "n_folds = 5\n",
    "\n",
    "# parameters to build the model on\n",
    "parameters = {'min_samples_leaf': range(100, 400, 50)}\n",
    "\n",
    "# instantiate the model\n",
    "rf = RandomForestClassifier()\n",
    "\n",
    "\n",
    "# fit tree on training data\n",
    "rf = GridSearchCV(rf, parameters, \n",
    "                    cv=n_folds,return_train_score=True, \n",
    "                   scoring=\"accuracy\")\n",
    "rf.fit(X_tr, y_tr)"
   ]
  },
  {
   "cell_type": "code",
   "execution_count": 158,
   "metadata": {},
   "outputs": [
    {
     "data": {
      "text/html": [
       "<div>\n",
       "<style scoped>\n",
       "    .dataframe tbody tr th:only-of-type {\n",
       "        vertical-align: middle;\n",
       "    }\n",
       "\n",
       "    .dataframe tbody tr th {\n",
       "        vertical-align: top;\n",
       "    }\n",
       "\n",
       "    .dataframe thead th {\n",
       "        text-align: right;\n",
       "    }\n",
       "</style>\n",
       "<table border=\"1\" class=\"dataframe\">\n",
       "  <thead>\n",
       "    <tr style=\"text-align: right;\">\n",
       "      <th></th>\n",
       "      <th>mean_fit_time</th>\n",
       "      <th>std_fit_time</th>\n",
       "      <th>mean_score_time</th>\n",
       "      <th>std_score_time</th>\n",
       "      <th>param_min_samples_leaf</th>\n",
       "      <th>params</th>\n",
       "      <th>split0_test_score</th>\n",
       "      <th>split1_test_score</th>\n",
       "      <th>split2_test_score</th>\n",
       "      <th>split3_test_score</th>\n",
       "      <th>...</th>\n",
       "      <th>mean_test_score</th>\n",
       "      <th>std_test_score</th>\n",
       "      <th>rank_test_score</th>\n",
       "      <th>split0_train_score</th>\n",
       "      <th>split1_train_score</th>\n",
       "      <th>split2_train_score</th>\n",
       "      <th>split3_train_score</th>\n",
       "      <th>split4_train_score</th>\n",
       "      <th>mean_train_score</th>\n",
       "      <th>std_train_score</th>\n",
       "    </tr>\n",
       "  </thead>\n",
       "  <tbody>\n",
       "    <tr>\n",
       "      <th>0</th>\n",
       "      <td>0.921595</td>\n",
       "      <td>0.020334</td>\n",
       "      <td>0.036009</td>\n",
       "      <td>0.000013</td>\n",
       "      <td>100</td>\n",
       "      <td>{'min_samples_leaf': 100}</td>\n",
       "      <td>0.866247</td>\n",
       "      <td>0.967656</td>\n",
       "      <td>0.970004</td>\n",
       "      <td>0.969310</td>\n",
       "      <td>...</td>\n",
       "      <td>0.948708</td>\n",
       "      <td>0.041241</td>\n",
       "      <td>1</td>\n",
       "      <td>0.970792</td>\n",
       "      <td>0.944118</td>\n",
       "      <td>0.946400</td>\n",
       "      <td>0.944986</td>\n",
       "      <td>0.948588</td>\n",
       "      <td>0.950977</td>\n",
       "      <td>0.010022</td>\n",
       "    </tr>\n",
       "    <tr>\n",
       "      <th>1</th>\n",
       "      <td>0.896003</td>\n",
       "      <td>0.015593</td>\n",
       "      <td>0.034405</td>\n",
       "      <td>0.001965</td>\n",
       "      <td>150</td>\n",
       "      <td>{'min_samples_leaf': 150}</td>\n",
       "      <td>0.862991</td>\n",
       "      <td>0.965414</td>\n",
       "      <td>0.964720</td>\n",
       "      <td>0.966749</td>\n",
       "      <td>...</td>\n",
       "      <td>0.945698</td>\n",
       "      <td>0.041375</td>\n",
       "      <td>2</td>\n",
       "      <td>0.967643</td>\n",
       "      <td>0.942250</td>\n",
       "      <td>0.941143</td>\n",
       "      <td>0.941957</td>\n",
       "      <td>0.943464</td>\n",
       "      <td>0.947291</td>\n",
       "      <td>0.010203</td>\n",
       "    </tr>\n",
       "    <tr>\n",
       "      <th>2</th>\n",
       "      <td>0.899202</td>\n",
       "      <td>0.004664</td>\n",
       "      <td>0.032806</td>\n",
       "      <td>0.001612</td>\n",
       "      <td>200</td>\n",
       "      <td>{'min_samples_leaf': 200}</td>\n",
       "      <td>0.857814</td>\n",
       "      <td>0.951003</td>\n",
       "      <td>0.950950</td>\n",
       "      <td>0.959596</td>\n",
       "      <td>...</td>\n",
       "      <td>0.935013</td>\n",
       "      <td>0.038734</td>\n",
       "      <td>3</td>\n",
       "      <td>0.959610</td>\n",
       "      <td>0.928814</td>\n",
       "      <td>0.927893</td>\n",
       "      <td>0.935205</td>\n",
       "      <td>0.932390</td>\n",
       "      <td>0.936782</td>\n",
       "      <td>0.011708</td>\n",
       "    </tr>\n",
       "    <tr>\n",
       "      <th>3</th>\n",
       "      <td>0.872801</td>\n",
       "      <td>0.034817</td>\n",
       "      <td>0.032006</td>\n",
       "      <td>0.000010</td>\n",
       "      <td>250</td>\n",
       "      <td>{'min_samples_leaf': 250}</td>\n",
       "      <td>0.849861</td>\n",
       "      <td>0.948388</td>\n",
       "      <td>0.951751</td>\n",
       "      <td>0.953565</td>\n",
       "      <td>...</td>\n",
       "      <td>0.932504</td>\n",
       "      <td>0.041463</td>\n",
       "      <td>4</td>\n",
       "      <td>0.947841</td>\n",
       "      <td>0.927559</td>\n",
       "      <td>0.927439</td>\n",
       "      <td>0.930428</td>\n",
       "      <td>0.932750</td>\n",
       "      <td>0.933203</td>\n",
       "      <td>0.007580</td>\n",
       "    </tr>\n",
       "    <tr>\n",
       "      <th>4</th>\n",
       "      <td>0.844807</td>\n",
       "      <td>0.029766</td>\n",
       "      <td>0.031999</td>\n",
       "      <td>0.000018</td>\n",
       "      <td>300</td>\n",
       "      <td>{'min_samples_leaf': 300}</td>\n",
       "      <td>0.849381</td>\n",
       "      <td>0.934031</td>\n",
       "      <td>0.950737</td>\n",
       "      <td>0.941396</td>\n",
       "      <td>...</td>\n",
       "      <td>0.923345</td>\n",
       "      <td>0.037361</td>\n",
       "      <td>5</td>\n",
       "      <td>0.948295</td>\n",
       "      <td>0.916257</td>\n",
       "      <td>0.925611</td>\n",
       "      <td>0.920047</td>\n",
       "      <td>0.918833</td>\n",
       "      <td>0.925809</td>\n",
       "      <td>0.011651</td>\n",
       "    </tr>\n",
       "  </tbody>\n",
       "</table>\n",
       "<p>5 rows × 21 columns</p>\n",
       "</div>"
      ],
      "text/plain": [
       "   mean_fit_time  std_fit_time  mean_score_time  std_score_time  \\\n",
       "0       0.921595      0.020334         0.036009        0.000013   \n",
       "1       0.896003      0.015593         0.034405        0.001965   \n",
       "2       0.899202      0.004664         0.032806        0.001612   \n",
       "3       0.872801      0.034817         0.032006        0.000010   \n",
       "4       0.844807      0.029766         0.031999        0.000018   \n",
       "\n",
       "  param_min_samples_leaf                     params  split0_test_score  \\\n",
       "0                    100  {'min_samples_leaf': 100}           0.866247   \n",
       "1                    150  {'min_samples_leaf': 150}           0.862991   \n",
       "2                    200  {'min_samples_leaf': 200}           0.857814   \n",
       "3                    250  {'min_samples_leaf': 250}           0.849861   \n",
       "4                    300  {'min_samples_leaf': 300}           0.849381   \n",
       "\n",
       "   split1_test_score  split2_test_score  split3_test_score  ...  \\\n",
       "0           0.967656           0.970004           0.969310  ...   \n",
       "1           0.965414           0.964720           0.966749  ...   \n",
       "2           0.951003           0.950950           0.959596  ...   \n",
       "3           0.948388           0.951751           0.953565  ...   \n",
       "4           0.934031           0.950737           0.941396  ...   \n",
       "\n",
       "   mean_test_score  std_test_score  rank_test_score  split0_train_score  \\\n",
       "0         0.948708        0.041241                1            0.970792   \n",
       "1         0.945698        0.041375                2            0.967643   \n",
       "2         0.935013        0.038734                3            0.959610   \n",
       "3         0.932504        0.041463                4            0.947841   \n",
       "4         0.923345        0.037361                5            0.948295   \n",
       "\n",
       "   split1_train_score  split2_train_score  split3_train_score  \\\n",
       "0            0.944118            0.946400            0.944986   \n",
       "1            0.942250            0.941143            0.941957   \n",
       "2            0.928814            0.927893            0.935205   \n",
       "3            0.927559            0.927439            0.930428   \n",
       "4            0.916257            0.925611            0.920047   \n",
       "\n",
       "   split4_train_score  mean_train_score  std_train_score  \n",
       "0            0.948588          0.950977         0.010022  \n",
       "1            0.943464          0.947291         0.010203  \n",
       "2            0.932390          0.936782         0.011708  \n",
       "3            0.932750          0.933203         0.007580  \n",
       "4            0.918833          0.925809         0.011651  \n",
       "\n",
       "[5 rows x 21 columns]"
      ]
     },
     "execution_count": 158,
     "metadata": {},
     "output_type": "execute_result"
    }
   ],
   "source": [
    "# scores of GridSearch CV\n",
    "scores = rf.cv_results_\n",
    "pd.DataFrame(scores).head()"
   ]
  },
  {
   "cell_type": "code",
   "execution_count": 159,
   "metadata": {},
   "outputs": [
    {
     "data": {
      "image/png": "[encoded data removed]",
      "text/plain": [
       "<Figure size 432x288 with 1 Axes>"
      ]
     },
     "metadata": {
      "needs_background": "light"
     },
     "output_type": "display_data"
    }
   ],
   "source": [
    "# plotting accuracies with min_samples_leaf\n",
    "plt.figure()\n",
    "plt.plot(scores[\"param_min_samples_leaf\"], \n",
    "         scores[\"mean_train_score\"], \n",
    "         label=\"training accuracy\")\n",
    "plt.plot(scores[\"param_min_samples_leaf\"], \n",
    "         scores[\"mean_test_score\"], \n",
    "         label=\"test accuracy\")\n",
    "plt.xlabel(\"min_samples_leaf\")\n",
    "plt.ylabel(\"Accuracy\")\n",
    "plt.legend()\n",
    "plt.show()"
   ]
  },
  {
   "cell_type": "markdown",
   "metadata": {},
   "source": [
    "Tuning min_samples_split\n"
   ]
  },
  {
   "cell_type": "code",
   "execution_count": 160,
   "metadata": {},
   "outputs": [
    {
     "data": {
      "text/plain": [
       "GridSearchCV(cv=5, error_score='raise-deprecating',\n",
       "             estimator=RandomForestClassifier(bootstrap=True, class_weight=None,\n",
       "                                              criterion='gini', max_depth=None,\n",
       "                                              max_features='auto',\n",
       "                                              max_leaf_nodes=None,\n",
       "                                              min_impurity_decrease=0.0,\n",
       "                                              min_impurity_split=None,\n",
       "                                              min_samples_leaf=1,\n",
       "                                              min_samples_split=2,\n",
       "                                              min_weight_fraction_leaf=0.0,\n",
       "                                              n_estimators='warn', n_jobs=None,\n",
       "                                              oob_score=False,\n",
       "                                              random_state=None, verbose=0,\n",
       "                                              warm_start=False),\n",
       "             iid='warn', n_jobs=None,\n",
       "             param_grid={'min_samples_split': range(200, 500, 50)},\n",
       "             pre_dispatch='2*n_jobs', refit=True, return_train_score=True,\n",
       "             scoring='accuracy', verbose=0)"
      ]
     },
     "execution_count": 160,
     "metadata": {},
     "output_type": "execute_result"
    }
   ],
   "source": [
    "# GridSearchCV to find optimal min_samples_split\n",
    "from sklearn.model_selection import KFold\n",
    "from sklearn.model_selection import GridSearchCV\n",
    "\n",
    "\n",
    "# specify number of folds for k-fold CV\n",
    "n_folds = 5\n",
    "\n",
    "# parameters to build the model on\n",
    "parameters = {'min_samples_split': range(200, 500, 50)}\n",
    "\n",
    "# instantiate the model\n",
    "rf = RandomForestClassifier()\n",
    "\n",
    "\n",
    "# fit tree on training data\n",
    "rf = GridSearchCV(rf, parameters, \n",
    "                    cv=n_folds, return_train_score=True,\n",
    "                   scoring=\"accuracy\")\n",
    "rf.fit(X_tr, y_tr)"
   ]
  },
  {
   "cell_type": "code",
   "execution_count": 161,
   "metadata": {},
   "outputs": [
    {
     "data": {
      "text/html": [
       "<div>\n",
       "<style scoped>\n",
       "    .dataframe tbody tr th:only-of-type {\n",
       "        vertical-align: middle;\n",
       "    }\n",
       "\n",
       "    .dataframe tbody tr th {\n",
       "        vertical-align: top;\n",
       "    }\n",
       "\n",
       "    .dataframe thead th {\n",
       "        text-align: right;\n",
       "    }\n",
       "</style>\n",
       "<table border=\"1\" class=\"dataframe\">\n",
       "  <thead>\n",
       "    <tr style=\"text-align: right;\">\n",
       "      <th></th>\n",
       "      <th>mean_fit_time</th>\n",
       "      <th>std_fit_time</th>\n",
       "      <th>mean_score_time</th>\n",
       "      <th>std_score_time</th>\n",
       "      <th>param_min_samples_split</th>\n",
       "      <th>params</th>\n",
       "      <th>split0_test_score</th>\n",
       "      <th>split1_test_score</th>\n",
       "      <th>split2_test_score</th>\n",
       "      <th>split3_test_score</th>\n",
       "      <th>...</th>\n",
       "      <th>mean_test_score</th>\n",
       "      <th>std_test_score</th>\n",
       "      <th>rank_test_score</th>\n",
       "      <th>split0_train_score</th>\n",
       "      <th>split1_train_score</th>\n",
       "      <th>split2_train_score</th>\n",
       "      <th>split3_train_score</th>\n",
       "      <th>split4_train_score</th>\n",
       "      <th>mean_train_score</th>\n",
       "      <th>std_train_score</th>\n",
       "    </tr>\n",
       "  </thead>\n",
       "  <tbody>\n",
       "    <tr>\n",
       "      <th>0</th>\n",
       "      <td>0.991999</td>\n",
       "      <td>0.039759</td>\n",
       "      <td>0.037605</td>\n",
       "      <td>0.001955</td>\n",
       "      <td>200</td>\n",
       "      <td>{'min_samples_split': 200}</td>\n",
       "      <td>0.878149</td>\n",
       "      <td>0.988151</td>\n",
       "      <td>0.987137</td>\n",
       "      <td>0.986817</td>\n",
       "      <td>...</td>\n",
       "      <td>0.965660</td>\n",
       "      <td>0.043758</td>\n",
       "      <td>1</td>\n",
       "      <td>0.987511</td>\n",
       "      <td>0.962519</td>\n",
       "      <td>0.962198</td>\n",
       "      <td>0.961558</td>\n",
       "      <td>0.961918</td>\n",
       "      <td>0.967141</td>\n",
       "      <td>0.010190</td>\n",
       "    </tr>\n",
       "    <tr>\n",
       "      <th>1</th>\n",
       "      <td>1.005594</td>\n",
       "      <td>0.063230</td>\n",
       "      <td>0.037604</td>\n",
       "      <td>0.001955</td>\n",
       "      <td>250</td>\n",
       "      <td>{'min_samples_split': 250}</td>\n",
       "      <td>0.876761</td>\n",
       "      <td>0.983454</td>\n",
       "      <td>0.984789</td>\n",
       "      <td>0.985482</td>\n",
       "      <td>...</td>\n",
       "      <td>0.963386</td>\n",
       "      <td>0.043323</td>\n",
       "      <td>2</td>\n",
       "      <td>0.984882</td>\n",
       "      <td>0.958849</td>\n",
       "      <td>0.958396</td>\n",
       "      <td>0.960424</td>\n",
       "      <td>0.961598</td>\n",
       "      <td>0.964830</td>\n",
       "      <td>0.010091</td>\n",
       "    </tr>\n",
       "    <tr>\n",
       "      <th>2</th>\n",
       "      <td>0.931209</td>\n",
       "      <td>0.012997</td>\n",
       "      <td>0.037593</td>\n",
       "      <td>0.001952</td>\n",
       "      <td>300</td>\n",
       "      <td>{'min_samples_split': 300}</td>\n",
       "      <td>0.875961</td>\n",
       "      <td>0.982547</td>\n",
       "      <td>0.982333</td>\n",
       "      <td>0.984362</td>\n",
       "      <td>...</td>\n",
       "      <td>0.961902</td>\n",
       "      <td>0.042979</td>\n",
       "      <td>3</td>\n",
       "      <td>0.983014</td>\n",
       "      <td>0.957595</td>\n",
       "      <td>0.957355</td>\n",
       "      <td>0.958316</td>\n",
       "      <td>0.959129</td>\n",
       "      <td>0.963082</td>\n",
       "      <td>0.009985</td>\n",
       "    </tr>\n",
       "    <tr>\n",
       "      <th>3</th>\n",
       "      <td>0.934400</td>\n",
       "      <td>0.030633</td>\n",
       "      <td>0.036005</td>\n",
       "      <td>0.000011</td>\n",
       "      <td>350</td>\n",
       "      <td>{'min_samples_split': 350}</td>\n",
       "      <td>0.875053</td>\n",
       "      <td>0.982867</td>\n",
       "      <td>0.981693</td>\n",
       "      <td>0.981853</td>\n",
       "      <td>...</td>\n",
       "      <td>0.960269</td>\n",
       "      <td>0.042619</td>\n",
       "      <td>4</td>\n",
       "      <td>0.981226</td>\n",
       "      <td>0.958089</td>\n",
       "      <td>0.955954</td>\n",
       "      <td>0.957675</td>\n",
       "      <td>0.954219</td>\n",
       "      <td>0.961433</td>\n",
       "      <td>0.009991</td>\n",
       "    </tr>\n",
       "    <tr>\n",
       "      <th>4</th>\n",
       "      <td>0.960005</td>\n",
       "      <td>0.024275</td>\n",
       "      <td>0.035192</td>\n",
       "      <td>0.001597</td>\n",
       "      <td>400</td>\n",
       "      <td>{'min_samples_split': 400}</td>\n",
       "      <td>0.873879</td>\n",
       "      <td>0.976356</td>\n",
       "      <td>0.976462</td>\n",
       "      <td>0.973420</td>\n",
       "      <td>...</td>\n",
       "      <td>0.955412</td>\n",
       "      <td>0.040785</td>\n",
       "      <td>6</td>\n",
       "      <td>0.981159</td>\n",
       "      <td>0.952191</td>\n",
       "      <td>0.952084</td>\n",
       "      <td>0.949923</td>\n",
       "      <td>0.952925</td>\n",
       "      <td>0.957656</td>\n",
       "      <td>0.011794</td>\n",
       "    </tr>\n",
       "  </tbody>\n",
       "</table>\n",
       "<p>5 rows × 21 columns</p>\n",
       "</div>"
      ],
      "text/plain": [
       "   mean_fit_time  std_fit_time  mean_score_time  std_score_time  \\\n",
       "0       0.991999      0.039759         0.037605        0.001955   \n",
       "1       1.005594      0.063230         0.037604        0.001955   \n",
       "2       0.931209      0.012997         0.037593        0.001952   \n",
       "3       0.934400      0.030633         0.036005        0.000011   \n",
       "4       0.960005      0.024275         0.035192        0.001597   \n",
       "\n",
       "  param_min_samples_split                      params  split0_test_score  \\\n",
       "0                     200  {'min_samples_split': 200}           0.878149   \n",
       "1                     250  {'min_samples_split': 250}           0.876761   \n",
       "2                     300  {'min_samples_split': 300}           0.875961   \n",
       "3                     350  {'min_samples_split': 350}           0.875053   \n",
       "4                     400  {'min_samples_split': 400}           0.873879   \n",
       "\n",
       "   split1_test_score  split2_test_score  split3_test_score  ...  \\\n",
       "0           0.988151           0.987137           0.986817  ...   \n",
       "1           0.983454           0.984789           0.985482  ...   \n",
       "2           0.982547           0.982333           0.984362  ...   \n",
       "3           0.982867           0.981693           0.981853  ...   \n",
       "4           0.976356           0.976462           0.973420  ...   \n",
       "\n",
       "   mean_test_score  std_test_score  rank_test_score  split0_train_score  \\\n",
       "0         0.965660        0.043758                1            0.987511   \n",
       "1         0.963386        0.043323                2            0.984882   \n",
       "2         0.961902        0.042979                3            0.983014   \n",
       "3         0.960269        0.042619                4            0.981226   \n",
       "4         0.955412        0.040785                6            0.981159   \n",
       "\n",
       "   split1_train_score  split2_train_score  split3_train_score  \\\n",
       "0            0.962519            0.962198            0.961558   \n",
       "1            0.958849            0.958396            0.960424   \n",
       "2            0.957595            0.957355            0.958316   \n",
       "3            0.958089            0.955954            0.957675   \n",
       "4            0.952191            0.952084            0.949923   \n",
       "\n",
       "   split4_train_score  mean_train_score  std_train_score  \n",
       "0            0.961918          0.967141         0.010190  \n",
       "1            0.961598          0.964830         0.010091  \n",
       "2            0.959129          0.963082         0.009985  \n",
       "3            0.954219          0.961433         0.009991  \n",
       "4            0.952925          0.957656         0.011794  \n",
       "\n",
       "[5 rows x 21 columns]"
      ]
     },
     "execution_count": 161,
     "metadata": {},
     "output_type": "execute_result"
    }
   ],
   "source": [
    "# scores of GridSearch CV\n",
    "scores = rf.cv_results_\n",
    "pd.DataFrame(scores).head()"
   ]
  },
  {
   "cell_type": "code",
   "execution_count": 162,
   "metadata": {},
   "outputs": [
    {
     "data": {
      "image/png": "[encoded data removed]",
      "text/plain": [
       "<Figure size 432x288 with 1 Axes>"
      ]
     },
     "metadata": {
      "needs_background": "light"
     },
     "output_type": "display_data"
    }
   ],
   "source": [
    "# plotting accuracies with min_samples_split\n",
    "plt.figure()\n",
    "plt.plot(scores[\"param_min_samples_split\"], \n",
    "         scores[\"mean_train_score\"], \n",
    "         label=\"training accuracy\")\n",
    "plt.plot(scores[\"param_min_samples_split\"], \n",
    "         scores[\"mean_test_score\"], \n",
    "         label=\"test accuracy\")\n",
    "plt.xlabel(\"min_samples_split\")\n",
    "plt.ylabel(\"Accuracy\")\n",
    "plt.legend()\n",
    "plt.show()"
   ]
  },
  {
   "cell_type": "markdown",
   "metadata": {},
   "source": [
    "# Grid Search to Find Optimal Hyperparameters\n",
    "\n",
    "We can now find the optimal hyperparameters using GridSearchCV."
   ]
  },
  {
   "cell_type": "code",
   "execution_count": 163,
   "metadata": {},
   "outputs": [],
   "source": [
    "# Create the parameter grid based on the results of random search \n",
    "param_grid = {\n",
    "    'max_depth': [4,8,10],\n",
    "    'min_samples_leaf': range(100, 400, 200),\n",
    "    'min_samples_split': range(200, 500, 200),\n",
    "    'n_estimators': [100,200, 300], \n",
    "    'max_features': [5, 10]\n",
    "}\n",
    "# Create a based model\n",
    "rf = RandomForestClassifier()\n",
    "# Instantiate the grid search model\n",
    "grid_search = GridSearchCV(estimator = rf, param_grid = param_grid, \n",
    "                          cv = 3, n_jobs = -1,verbose = 1)"
   ]
  },
  {
   "cell_type": "code",
   "execution_count": 164,
   "metadata": {},
   "outputs": [
    {
     "name": "stdout",
     "output_type": "stream",
     "text": [
      "Fitting 3 folds for each of 72 candidates, totalling 216 fits\n"
     ]
    },
    {
     "name": "stderr",
     "output_type": "stream",
     "text": [
      "[Parallel(n_jobs=-1)]: Using backend LokyBackend with 4 concurrent workers.\n",
      "[Parallel(n_jobs=-1)]: Done  42 tasks      | elapsed:  3.3min\n",
      "[Parallel(n_jobs=-1)]: Done 192 tasks      | elapsed: 22.8min\n",
      "[Parallel(n_jobs=-1)]: Done 216 out of 216 | elapsed: 27.4min finished\n"
     ]
    },
    {
     "data": {
      "text/plain": [
       "GridSearchCV(cv=3, error_score='raise-deprecating',\n",
       "             estimator=RandomForestClassifier(bootstrap=True, class_weight=None,\n",
       "                                              criterion='gini', max_depth=None,\n",
       "                                              max_features='auto',\n",
       "                                              max_leaf_nodes=None,\n",
       "                                              min_impurity_decrease=0.0,\n",
       "                                              min_impurity_split=None,\n",
       "                                              min_samples_leaf=1,\n",
       "                                              min_samples_split=2,\n",
       "                                              min_weight_fraction_leaf=0.0,\n",
       "                                              n_estimators='warn', n_jobs=None,\n",
       "                                              oob_score=False,\n",
       "                                              random_state=None, verbose=0,\n",
       "                                              warm_start=False),\n",
       "             iid='warn', n_jobs=-1,\n",
       "             param_grid={'max_depth': [4, 8, 10], 'max_features': [5, 10],\n",
       "                         'min_samples_leaf': range(100, 400, 200),\n",
       "                         'min_samples_split': range(200, 500, 200),\n",
       "                         'n_estimators': [100, 200, 300]},\n",
       "             pre_dispatch='2*n_jobs', refit=True, return_train_score=False,\n",
       "             scoring=None, verbose=1)"
      ]
     },
     "execution_count": 164,
     "metadata": {},
     "output_type": "execute_result"
    }
   ],
   "source": [
    "# Fit the grid search to the data\n",
    "grid_search.fit(X_tr, y_tr)"
   ]
  },
  {
   "cell_type": "code",
   "execution_count": 165,
   "metadata": {},
   "outputs": [
    {
     "name": "stdout",
     "output_type": "stream",
     "text": [
      "We can get accuracy of 0.957600341588386 using {'max_depth': 10, 'max_features': 10, 'min_samples_leaf': 100, 'min_samples_split': 200, 'n_estimators': 300}\n"
     ]
    }
   ],
   "source": [
    "# printing the optimal accuracy score and hyperparameters\n",
    "print('We can get accuracy of',grid_search.best_score_,'using',grid_search.best_params_)"
   ]
  },
  {
   "cell_type": "markdown",
   "metadata": {},
   "source": [
    "Fitting the final model with the best parameters obtained from grid search."
   ]
  },
  {
   "cell_type": "code",
   "execution_count": 166,
   "metadata": {},
   "outputs": [],
   "source": [
    "# model with the best hyperparameters\n",
    "from sklearn.ensemble import RandomForestClassifier\n",
    "rfc = RandomForestClassifier(bootstrap=True,\n",
    "                             max_depth=10,\n",
    "                             min_samples_leaf=100, \n",
    "                             min_samples_split=200,\n",
    "                             max_features=10,\n",
    "                             n_estimators=100)"
   ]
  },
  {
   "cell_type": "code",
   "execution_count": 167,
   "metadata": {},
   "outputs": [
    {
     "data": {
      "text/plain": [
       "RandomForestClassifier(bootstrap=True, class_weight=None, criterion='gini',\n",
       "                       max_depth=10, max_features=10, max_leaf_nodes=None,\n",
       "                       min_impurity_decrease=0.0, min_impurity_split=None,\n",
       "                       min_samples_leaf=100, min_samples_split=200,\n",
       "                       min_weight_fraction_leaf=0.0, n_estimators=100,\n",
       "                       n_jobs=None, oob_score=False, random_state=None,\n",
       "                       verbose=0, warm_start=False)"
      ]
     },
     "execution_count": 167,
     "metadata": {},
     "output_type": "execute_result"
    }
   ],
   "source": [
    "# fit\n",
    "rfc.fit(X_tr,y_tr)"
   ]
  },
  {
   "cell_type": "code",
   "execution_count": 168,
   "metadata": {},
   "outputs": [],
   "source": [
    "# predict\n",
    "predictions = rfc.predict(X_test)"
   ]
  },
  {
   "cell_type": "code",
   "execution_count": 169,
   "metadata": {},
   "outputs": [],
   "source": [
    "# evaluation metrics\n",
    "from sklearn.metrics import classification_report,confusion_matrix"
   ]
  },
  {
   "cell_type": "code",
   "execution_count": 170,
   "metadata": {},
   "outputs": [
    {
     "name": "stdout",
     "output_type": "stream",
     "text": [
      "              precision    recall  f1-score   support\n",
      "\n",
      "         0.0       0.96      1.00      0.98     20077\n",
      "         1.0       0.11      0.00      0.00       883\n",
      "\n",
      "    accuracy                           0.96     20960\n",
      "   macro avg       0.53      0.50      0.49     20960\n",
      "weighted avg       0.92      0.96      0.94     20960\n",
      "\n"
     ]
    }
   ],
   "source": [
    "print(classification_report(y_test,predictions))"
   ]
  },
  {
   "cell_type": "code",
   "execution_count": 171,
   "metadata": {},
   "outputs": [
    {
     "name": "stdout",
     "output_type": "stream",
     "text": [
      "[[20069     8]\n",
      " [  882     1]]\n"
     ]
    }
   ],
   "source": [
    "print(confusion_matrix(y_test,predictions))"
   ]
  },
  {
   "cell_type": "code",
   "execution_count": 172,
   "metadata": {},
   "outputs": [
    {
     "name": "stdout",
     "output_type": "stream",
     "text": [
      "0.9575381679389313\n"
     ]
    }
   ],
   "source": [
    "print(accuracy_score(y_test,predictions))"
   ]
  },
  {
   "cell_type": "markdown",
   "metadata": {},
   "source": [
    "# Model Selection"
   ]
  },
  {
   "cell_type": "markdown",
   "metadata": {},
   "source": [
    "Logistic Regression on Master data(Demographics + CreditBureau Data) performed well.\n",
    "so selecting Logistic Reggression Model for the buissness problem."
   ]
  },
  {
   "cell_type": "markdown",
   "metadata": {},
   "source": [
    "# Creating Application ScoreCard"
   ]
  },
  {
   "cell_type": "markdown",
   "metadata": {},
   "source": [
    "Building application scorecard with the good to bad odds of 10 to 1 at a score of 400 doubling every 20 points using logistic regression model"
   ]
  },
  {
   "cell_type": "code",
   "execution_count": 173,
   "metadata": {},
   "outputs": [],
   "source": [
    "#calculating factor and Offset\n",
    "target_score=400\n",
    "target_odds=10\n",
    "pts_double_odds=20\n",
    "\n",
    "factor=pts_double_odds/np.log(2)\n",
    "offset=target_score-factor*np.log(target_odds)\n",
    "\n",
    "Odd_good=(1-y_train_pred)/y_train_pred"
   ]
  },
  {
   "cell_type": "code",
   "execution_count": 174,
   "metadata": {},
   "outputs": [],
   "source": [
    "#assigning Scores \n",
    "y_train_pred_final['score']=offset+factor*np.log(Odd_good)"
   ]
  },
  {
   "cell_type": "code",
   "execution_count": 175,
   "metadata": {},
   "outputs": [
    {
     "data": {
      "text/html": [
       "<div>\n",
       "<style scoped>\n",
       "    .dataframe tbody tr th:only-of-type {\n",
       "        vertical-align: middle;\n",
       "    }\n",
       "\n",
       "    .dataframe tbody tr th {\n",
       "        vertical-align: top;\n",
       "    }\n",
       "\n",
       "    .dataframe thead th {\n",
       "        text-align: right;\n",
       "    }\n",
       "</style>\n",
       "<table border=\"1\" class=\"dataframe\">\n",
       "  <thead>\n",
       "    <tr style=\"text-align: right;\">\n",
       "      <th></th>\n",
       "      <th>Performance</th>\n",
       "      <th>performance_prob</th>\n",
       "      <th>Application ID</th>\n",
       "      <th>predicted_performance</th>\n",
       "      <th>0.0</th>\n",
       "      <th>0.1</th>\n",
       "      <th>0.2</th>\n",
       "      <th>0.3</th>\n",
       "      <th>0.4</th>\n",
       "      <th>0.5</th>\n",
       "      <th>0.6</th>\n",
       "      <th>0.7</th>\n",
       "      <th>0.8</th>\n",
       "      <th>0.9</th>\n",
       "      <th>final_predicted</th>\n",
       "      <th>score</th>\n",
       "    </tr>\n",
       "  </thead>\n",
       "  <tbody>\n",
       "    <tr>\n",
       "      <th>0</th>\n",
       "      <td>0.0</td>\n",
       "      <td>0.270034</td>\n",
       "      <td>16415</td>\n",
       "      <td>0</td>\n",
       "      <td>1</td>\n",
       "      <td>1</td>\n",
       "      <td>1</td>\n",
       "      <td>0</td>\n",
       "      <td>0</td>\n",
       "      <td>0</td>\n",
       "      <td>0</td>\n",
       "      <td>0</td>\n",
       "      <td>0</td>\n",
       "      <td>0</td>\n",
       "      <td>0</td>\n",
       "      <td>362.255265</td>\n",
       "    </tr>\n",
       "    <tr>\n",
       "      <th>1</th>\n",
       "      <td>0.0</td>\n",
       "      <td>0.566470</td>\n",
       "      <td>34570</td>\n",
       "      <td>1</td>\n",
       "      <td>1</td>\n",
       "      <td>1</td>\n",
       "      <td>1</td>\n",
       "      <td>1</td>\n",
       "      <td>1</td>\n",
       "      <td>1</td>\n",
       "      <td>0</td>\n",
       "      <td>0</td>\n",
       "      <td>0</td>\n",
       "      <td>0</td>\n",
       "      <td>1</td>\n",
       "      <td>325.844066</td>\n",
       "    </tr>\n",
       "    <tr>\n",
       "      <th>2</th>\n",
       "      <td>1.0</td>\n",
       "      <td>0.705305</td>\n",
       "      <td>61611</td>\n",
       "      <td>1</td>\n",
       "      <td>1</td>\n",
       "      <td>1</td>\n",
       "      <td>1</td>\n",
       "      <td>1</td>\n",
       "      <td>1</td>\n",
       "      <td>1</td>\n",
       "      <td>1</td>\n",
       "      <td>1</td>\n",
       "      <td>0</td>\n",
       "      <td>0</td>\n",
       "      <td>1</td>\n",
       "      <td>308.380957</td>\n",
       "    </tr>\n",
       "    <tr>\n",
       "      <th>3</th>\n",
       "      <td>0.0</td>\n",
       "      <td>0.239602</td>\n",
       "      <td>1771</td>\n",
       "      <td>0</td>\n",
       "      <td>1</td>\n",
       "      <td>1</td>\n",
       "      <td>1</td>\n",
       "      <td>0</td>\n",
       "      <td>0</td>\n",
       "      <td>0</td>\n",
       "      <td>0</td>\n",
       "      <td>0</td>\n",
       "      <td>0</td>\n",
       "      <td>0</td>\n",
       "      <td>0</td>\n",
       "      <td>366.883707</td>\n",
       "    </tr>\n",
       "    <tr>\n",
       "      <th>4</th>\n",
       "      <td>0.0</td>\n",
       "      <td>0.242535</td>\n",
       "      <td>10562</td>\n",
       "      <td>0</td>\n",
       "      <td>1</td>\n",
       "      <td>1</td>\n",
       "      <td>1</td>\n",
       "      <td>0</td>\n",
       "      <td>0</td>\n",
       "      <td>0</td>\n",
       "      <td>0</td>\n",
       "      <td>0</td>\n",
       "      <td>0</td>\n",
       "      <td>0</td>\n",
       "      <td>0</td>\n",
       "      <td>366.421220</td>\n",
       "    </tr>\n",
       "  </tbody>\n",
       "</table>\n",
       "</div>"
      ],
      "text/plain": [
       "   Performance  performance_prob  Application ID  predicted_performance  0.0  \\\n",
       "0          0.0          0.270034           16415                      0    1   \n",
       "1          0.0          0.566470           34570                      1    1   \n",
       "2          1.0          0.705305           61611                      1    1   \n",
       "3          0.0          0.239602            1771                      0    1   \n",
       "4          0.0          0.242535           10562                      0    1   \n",
       "\n",
       "   0.1  0.2  0.3  0.4  0.5  0.6  0.7  0.8  0.9  final_predicted       score  \n",
       "0    1    1    0    0    0    0    0    0    0                0  362.255265  \n",
       "1    1    1    1    1    1    0    0    0    0                1  325.844066  \n",
       "2    1    1    1    1    1    1    1    0    0                1  308.380957  \n",
       "3    1    1    0    0    0    0    0    0    0                0  366.883707  \n",
       "4    1    1    0    0    0    0    0    0    0                0  366.421220  "
      ]
     },
     "execution_count": 175,
     "metadata": {},
     "output_type": "execute_result"
    }
   ],
   "source": [
    "y_train_pred_final.head()"
   ]
  },
  {
   "cell_type": "code",
   "execution_count": 176,
   "metadata": {},
   "outputs": [
    {
     "data": {
      "text/plain": [
       "333.56143810225274"
      ]
     },
     "execution_count": 176,
     "metadata": {},
     "output_type": "execute_result"
    }
   ],
   "source": [
    "#Selecting Cutoff for accepting or rejecting an application\n",
    "CUTOFF_SCORE= 400 + ( 20/(np.log(20)-np.log(10))* (np.log((1-0.50)/0.5) - np.log(10)))\n",
    "CUTOFF_SCORE"
   ]
  },
  {
   "cell_type": "markdown",
   "metadata": {},
   "source": [
    "cutoff score is 333.56 for selecting or rejecting an application"
   ]
  },
  {
   "cell_type": "code",
   "execution_count": 177,
   "metadata": {},
   "outputs": [
    {
     "data": {
      "text/plain": [
       "array([[26569, 20271],\n",
       "       [  637,  1427]], dtype=int64)"
      ]
     },
     "execution_count": 177,
     "metadata": {},
     "output_type": "execute_result"
    }
   ],
   "source": [
    "#Let's check the overall accuracy.\n",
    "metrics.accuracy_score(y_train_pred_final.Performance, y_train_pred_final.final_predicted)\n",
    "\n",
    "confusion2 = metrics.confusion_matrix(y_train_pred_final.Performance, y_train_pred_final.final_predicted )\n",
    "confusion2\n"
   ]
  },
  {
   "cell_type": "markdown",
   "metadata": {},
   "source": [
    "### Applying Logistic Regression to rejected Applications i.e Performnace Tag Missing Applications"
   ]
  },
  {
   "cell_type": "code",
   "execution_count": 178,
   "metadata": {},
   "outputs": [],
   "source": [
    "#Merging rejected_demographics, rejected_credit dataframes\n",
    "Master_Data_rejected=pd.merge(rejected_demographics, rejected_credit, on=['Application ID'], how='inner')"
   ]
  },
  {
   "cell_type": "markdown",
   "metadata": {},
   "source": [
    "applying WOE Values to Master_Data_rejected"
   ]
  },
  {
   "cell_type": "code",
   "execution_count": 179,
   "metadata": {},
   "outputs": [],
   "source": [
    "#function to assign woe values to  Master_Data_woe dataset.\n",
    "for var in transform_vars_list:\n",
    "    small_df = final_iv[final_iv['VAR_NAME'] == var]\n",
    "    small_df = small_df[~(small_df.MIN_VALUE.isnull())]\n",
    "    small_df = small_df[~(small_df.MAX_VALUE.isnull())]\n",
    "    transform_dict = dict(zip(small_df.MAX_VALUE,small_df.WOE))\n",
    "    replace_cmd = ''\n",
    "    replace_cmd1 = ''\n",
    "    for i in sorted(transform_dict.items()):\n",
    "        replace_cmd = replace_cmd + str(i[1]) + str(' if x <= ') + str(i[0]) + ' else '\n",
    "        replace_cmd1 = replace_cmd1 + str(i[1]) + str(' if x == \"') + str(i[0]) + '\" else '\n",
    "    replace_cmd = replace_cmd + '0'\n",
    "    replace_cmd1 = replace_cmd1 + '0'\n",
    "    if replace_cmd != '0':\n",
    "        try:\n",
    "           Master_Data_rejected[var] = Master_Data_rejected[var].apply(lambda x: eval(replace_cmd))\n",
    "        except:\n",
    "           Master_Data_rejected[var] = Master_Data_rejected[var].apply(lambda x: eval(replace_cmd1))"
   ]
  },
  {
   "cell_type": "code",
   "execution_count": 180,
   "metadata": {},
   "outputs": [
    {
     "data": {
      "text/html": [
       "<div>\n",
       "<style scoped>\n",
       "    .dataframe tbody tr th:only-of-type {\n",
       "        vertical-align: middle;\n",
       "    }\n",
       "\n",
       "    .dataframe tbody tr th {\n",
       "        vertical-align: top;\n",
       "    }\n",
       "\n",
       "    .dataframe thead th {\n",
       "        text-align: right;\n",
       "    }\n",
       "</style>\n",
       "<table border=\"1\" class=\"dataframe\">\n",
       "  <thead>\n",
       "    <tr style=\"text-align: right;\">\n",
       "      <th></th>\n",
       "      <th>Application ID</th>\n",
       "      <th>Age</th>\n",
       "      <th>Gender</th>\n",
       "      <th>Marital Status (at the time of application)</th>\n",
       "      <th>No of dependents</th>\n",
       "      <th>Income</th>\n",
       "      <th>Education</th>\n",
       "      <th>Profession</th>\n",
       "      <th>Type of residence</th>\n",
       "      <th>No of months in current residence</th>\n",
       "      <th>...</th>\n",
       "      <th>No of trades opened in last 12 months</th>\n",
       "      <th>No of PL trades opened in last 6 months</th>\n",
       "      <th>No of PL trades opened in last 12 months</th>\n",
       "      <th>No of Inquiries in last 6 months (excluding home &amp; auto loans)</th>\n",
       "      <th>No of Inquiries in last 12 months (excluding home &amp; auto loans)</th>\n",
       "      <th>Presence of open home loan</th>\n",
       "      <th>Outstanding Balance</th>\n",
       "      <th>Total No of Trades</th>\n",
       "      <th>Presence of open auto loan</th>\n",
       "      <th>Performance Tag_y</th>\n",
       "    </tr>\n",
       "  </thead>\n",
       "  <tbody>\n",
       "    <tr>\n",
       "      <th>0</th>\n",
       "      <td>-0.004615</td>\n",
       "      <td>0.031580</td>\n",
       "      <td>-0.010094</td>\n",
       "      <td>0.023383</td>\n",
       "      <td>0.005419</td>\n",
       "      <td>0.289040</td>\n",
       "      <td>0.017390</td>\n",
       "      <td>-0.028033</td>\n",
       "      <td>-0.004319</td>\n",
       "      <td>0.206757</td>\n",
       "      <td>...</td>\n",
       "      <td>0.368415</td>\n",
       "      <td>0.400627</td>\n",
       "      <td>0.395652</td>\n",
       "      <td>0.292629</td>\n",
       "      <td>0.182735</td>\n",
       "      <td>0.001235</td>\n",
       "      <td>0.088272</td>\n",
       "      <td>0.332417</td>\n",
       "      <td>0.011973</td>\n",
       "      <td>0</td>\n",
       "    </tr>\n",
       "    <tr>\n",
       "      <th>1</th>\n",
       "      <td>0.004596</td>\n",
       "      <td>-0.007368</td>\n",
       "      <td>0.032129</td>\n",
       "      <td>-0.003997</td>\n",
       "      <td>-0.010384</td>\n",
       "      <td>0.056684</td>\n",
       "      <td>0.007904</td>\n",
       "      <td>0.091379</td>\n",
       "      <td>-0.004319</td>\n",
       "      <td>0.206757</td>\n",
       "      <td>...</td>\n",
       "      <td>0.228323</td>\n",
       "      <td>0.400627</td>\n",
       "      <td>0.395652</td>\n",
       "      <td>0.292629</td>\n",
       "      <td>0.368408</td>\n",
       "      <td>0.001235</td>\n",
       "      <td>0.088272</td>\n",
       "      <td>0.210325</td>\n",
       "      <td>0.011973</td>\n",
       "      <td>0</td>\n",
       "    </tr>\n",
       "    <tr>\n",
       "      <th>2</th>\n",
       "      <td>-0.004615</td>\n",
       "      <td>-0.007368</td>\n",
       "      <td>-0.010094</td>\n",
       "      <td>-0.003997</td>\n",
       "      <td>0.005419</td>\n",
       "      <td>0.289040</td>\n",
       "      <td>-0.017933</td>\n",
       "      <td>0.091379</td>\n",
       "      <td>-0.004319</td>\n",
       "      <td>-0.252890</td>\n",
       "      <td>...</td>\n",
       "      <td>0.228323</td>\n",
       "      <td>0.400627</td>\n",
       "      <td>0.395652</td>\n",
       "      <td>-0.320076</td>\n",
       "      <td>0.182735</td>\n",
       "      <td>0.001235</td>\n",
       "      <td>-0.093345</td>\n",
       "      <td>0.210325</td>\n",
       "      <td>0.011973</td>\n",
       "      <td>0</td>\n",
       "    </tr>\n",
       "    <tr>\n",
       "      <th>3</th>\n",
       "      <td>-0.004615</td>\n",
       "      <td>-0.007368</td>\n",
       "      <td>-0.010094</td>\n",
       "      <td>-0.003997</td>\n",
       "      <td>0.005419</td>\n",
       "      <td>0.056684</td>\n",
       "      <td>0.007904</td>\n",
       "      <td>-0.028033</td>\n",
       "      <td>-0.004319</td>\n",
       "      <td>-0.252890</td>\n",
       "      <td>...</td>\n",
       "      <td>0.228323</td>\n",
       "      <td>-0.314635</td>\n",
       "      <td>0.395652</td>\n",
       "      <td>0.292629</td>\n",
       "      <td>0.368408</td>\n",
       "      <td>0.001235</td>\n",
       "      <td>0.088272</td>\n",
       "      <td>0.210325</td>\n",
       "      <td>0.011973</td>\n",
       "      <td>0</td>\n",
       "    </tr>\n",
       "    <tr>\n",
       "      <th>4</th>\n",
       "      <td>0.004596</td>\n",
       "      <td>-0.007368</td>\n",
       "      <td>0.032129</td>\n",
       "      <td>-0.003997</td>\n",
       "      <td>-0.010384</td>\n",
       "      <td>0.056684</td>\n",
       "      <td>-0.029557</td>\n",
       "      <td>-0.028033</td>\n",
       "      <td>-0.004319</td>\n",
       "      <td>-0.252890</td>\n",
       "      <td>...</td>\n",
       "      <td>0.228323</td>\n",
       "      <td>0.400627</td>\n",
       "      <td>0.395652</td>\n",
       "      <td>0.292629</td>\n",
       "      <td>0.368408</td>\n",
       "      <td>0.001235</td>\n",
       "      <td>0.088272</td>\n",
       "      <td>0.210325</td>\n",
       "      <td>-0.138237</td>\n",
       "      <td>0</td>\n",
       "    </tr>\n",
       "  </tbody>\n",
       "</table>\n",
       "<p>5 rows × 30 columns</p>\n",
       "</div>"
      ],
      "text/plain": [
       "   Application ID       Age    Gender  \\\n",
       "0       -0.004615  0.031580 -0.010094   \n",
       "1        0.004596 -0.007368  0.032129   \n",
       "2       -0.004615 -0.007368 -0.010094   \n",
       "3       -0.004615 -0.007368 -0.010094   \n",
       "4        0.004596 -0.007368  0.032129   \n",
       "\n",
       "   Marital Status (at the time of application)  No of dependents    Income  \\\n",
       "0                                     0.023383          0.005419  0.289040   \n",
       "1                                    -0.003997         -0.010384  0.056684   \n",
       "2                                    -0.003997          0.005419  0.289040   \n",
       "3                                    -0.003997          0.005419  0.056684   \n",
       "4                                    -0.003997         -0.010384  0.056684   \n",
       "\n",
       "   Education  Profession   Type of residence  \\\n",
       "0   0.017390    -0.028033          -0.004319   \n",
       "1   0.007904     0.091379          -0.004319   \n",
       "2  -0.017933     0.091379          -0.004319   \n",
       "3   0.007904    -0.028033          -0.004319   \n",
       "4  -0.029557    -0.028033          -0.004319   \n",
       "\n",
       "   No of months in current residence  ...  \\\n",
       "0                           0.206757  ...   \n",
       "1                           0.206757  ...   \n",
       "2                          -0.252890  ...   \n",
       "3                          -0.252890  ...   \n",
       "4                          -0.252890  ...   \n",
       "\n",
       "   No of trades opened in last 12 months  \\\n",
       "0                               0.368415   \n",
       "1                               0.228323   \n",
       "2                               0.228323   \n",
       "3                               0.228323   \n",
       "4                               0.228323   \n",
       "\n",
       "   No of PL trades opened in last 6 months  \\\n",
       "0                                 0.400627   \n",
       "1                                 0.400627   \n",
       "2                                 0.400627   \n",
       "3                                -0.314635   \n",
       "4                                 0.400627   \n",
       "\n",
       "   No of PL trades opened in last 12 months  \\\n",
       "0                                  0.395652   \n",
       "1                                  0.395652   \n",
       "2                                  0.395652   \n",
       "3                                  0.395652   \n",
       "4                                  0.395652   \n",
       "\n",
       "   No of Inquiries in last 6 months (excluding home & auto loans)  \\\n",
       "0                                           0.292629                \n",
       "1                                           0.292629                \n",
       "2                                          -0.320076                \n",
       "3                                           0.292629                \n",
       "4                                           0.292629                \n",
       "\n",
       "   No of Inquiries in last 12 months (excluding home & auto loans)  \\\n",
       "0                                           0.182735                 \n",
       "1                                           0.368408                 \n",
       "2                                           0.182735                 \n",
       "3                                           0.368408                 \n",
       "4                                           0.368408                 \n",
       "\n",
       "   Presence of open home loan  Outstanding Balance  Total No of Trades  \\\n",
       "0                    0.001235             0.088272            0.332417   \n",
       "1                    0.001235             0.088272            0.210325   \n",
       "2                    0.001235            -0.093345            0.210325   \n",
       "3                    0.001235             0.088272            0.210325   \n",
       "4                    0.001235             0.088272            0.210325   \n",
       "\n",
       "   Presence of open auto loan  Performance Tag_y  \n",
       "0                    0.011973                  0  \n",
       "1                    0.011973                  0  \n",
       "2                    0.011973                  0  \n",
       "3                    0.011973                  0  \n",
       "4                   -0.138237                  0  \n",
       "\n",
       "[5 rows x 30 columns]"
      ]
     },
     "execution_count": 180,
     "metadata": {},
     "output_type": "execute_result"
    }
   ],
   "source": [
    "Master_Data_rejected.head()"
   ]
  },
  {
   "cell_type": "code",
   "execution_count": 181,
   "metadata": {},
   "outputs": [],
   "source": [
    "Master_Data_rejected=Master_Data_rejected.drop(['Performance Tag_x','Performance Tag_y','Application ID'],axis=1)"
   ]
  },
  {
   "cell_type": "code",
   "execution_count": 182,
   "metadata": {},
   "outputs": [],
   "source": [
    "## making prediction probabilities\n",
    "rejected_pred = model.predict_proba(Master_Data_rejected)[:,1]"
   ]
  },
  {
   "cell_type": "code",
   "execution_count": 183,
   "metadata": {},
   "outputs": [
    {
     "data": {
      "text/plain": [
       "array([0.66130873, 0.66316954, 0.74256875, ..., 0.63462528, 0.66617364,\n",
       "       0.65882052])"
      ]
     },
     "execution_count": 183,
     "metadata": {},
     "output_type": "execute_result"
    }
   ],
   "source": [
    "rejected_pred"
   ]
  },
  {
   "cell_type": "code",
   "execution_count": 184,
   "metadata": {},
   "outputs": [
    {
     "data": {
      "text/html": [
       "<div>\n",
       "<style scoped>\n",
       "    .dataframe tbody tr th:only-of-type {\n",
       "        vertical-align: middle;\n",
       "    }\n",
       "\n",
       "    .dataframe tbody tr th {\n",
       "        vertical-align: top;\n",
       "    }\n",
       "\n",
       "    .dataframe thead th {\n",
       "        text-align: right;\n",
       "    }\n",
       "</style>\n",
       "<table border=\"1\" class=\"dataframe\">\n",
       "  <thead>\n",
       "    <tr style=\"text-align: right;\">\n",
       "      <th></th>\n",
       "      <th>0</th>\n",
       "    </tr>\n",
       "  </thead>\n",
       "  <tbody>\n",
       "    <tr>\n",
       "      <th>0</th>\n",
       "      <td>0.661309</td>\n",
       "    </tr>\n",
       "    <tr>\n",
       "      <th>1</th>\n",
       "      <td>0.663170</td>\n",
       "    </tr>\n",
       "    <tr>\n",
       "      <th>2</th>\n",
       "      <td>0.742569</td>\n",
       "    </tr>\n",
       "    <tr>\n",
       "      <th>3</th>\n",
       "      <td>0.681704</td>\n",
       "    </tr>\n",
       "    <tr>\n",
       "      <th>4</th>\n",
       "      <td>0.695522</td>\n",
       "    </tr>\n",
       "  </tbody>\n",
       "</table>\n",
       "</div>"
      ],
      "text/plain": [
       "          0\n",
       "0  0.661309\n",
       "1  0.663170\n",
       "2  0.742569\n",
       "3  0.681704\n",
       "4  0.695522"
      ]
     },
     "execution_count": 184,
     "metadata": {},
     "output_type": "execute_result"
    }
   ],
   "source": [
    "rejected_pred_df = pd.DataFrame(rejected_pred)\n",
    "rejected_pred_df.head()"
   ]
  },
  {
   "cell_type": "code",
   "execution_count": 185,
   "metadata": {},
   "outputs": [
    {
     "data": {
      "text/html": [
       "<div>\n",
       "<style scoped>\n",
       "    .dataframe tbody tr th:only-of-type {\n",
       "        vertical-align: middle;\n",
       "    }\n",
       "\n",
       "    .dataframe tbody tr th {\n",
       "        vertical-align: top;\n",
       "    }\n",
       "\n",
       "    .dataframe thead th {\n",
       "        text-align: right;\n",
       "    }\n",
       "</style>\n",
       "<table border=\"1\" class=\"dataframe\">\n",
       "  <thead>\n",
       "    <tr style=\"text-align: right;\">\n",
       "      <th></th>\n",
       "      <th>Performance_Tag</th>\n",
       "      <th>unique_id</th>\n",
       "      <th>0</th>\n",
       "    </tr>\n",
       "  </thead>\n",
       "  <tbody>\n",
       "    <tr>\n",
       "      <th>0</th>\n",
       "      <td>1</td>\n",
       "      <td>1</td>\n",
       "      <td>0.661309</td>\n",
       "    </tr>\n",
       "    <tr>\n",
       "      <th>1</th>\n",
       "      <td>1</td>\n",
       "      <td>2</td>\n",
       "      <td>0.663170</td>\n",
       "    </tr>\n",
       "    <tr>\n",
       "      <th>2</th>\n",
       "      <td>1</td>\n",
       "      <td>3</td>\n",
       "      <td>0.742569</td>\n",
       "    </tr>\n",
       "    <tr>\n",
       "      <th>3</th>\n",
       "      <td>1</td>\n",
       "      <td>4</td>\n",
       "      <td>0.681704</td>\n",
       "    </tr>\n",
       "    <tr>\n",
       "      <th>4</th>\n",
       "      <td>1</td>\n",
       "      <td>5</td>\n",
       "      <td>0.695522</td>\n",
       "    </tr>\n",
       "  </tbody>\n",
       "</table>\n",
       "</div>"
      ],
      "text/plain": [
       "   Performance_Tag  unique_id         0\n",
       "0                1          1  0.661309\n",
       "1                1          2  0.663170\n",
       "2                1          3  0.742569\n",
       "3                1          4  0.681704\n",
       "4                1          5  0.695522"
      ]
     },
     "execution_count": 185,
     "metadata": {},
     "output_type": "execute_result"
    }
   ],
   "source": [
    "# Making y dataframe as 1 as all these records are assumed to be defaulters \n",
    "rejected_pred_df_1 = pd.DataFrame(pd.Series(np.ones(Master_Data_rejected.shape[0], dtype = np.int)))\n",
    "rejected_pred_df_1= rejected_pred_df_1.rename(columns={ 0 : 'Performance_Tag'})\n",
    "\n",
    "\n",
    "rejected_pred_df_1['unique_id'] = rejected_pred_df_1.index+1\n",
    "\n",
    "# Appending y_additional_df and y_additional_pred\n",
    "rejected_pred_df = pd.concat([rejected_pred_df_1, rejected_pred_df],axis=1)\n",
    "rejected_pred_df.head()"
   ]
  },
  {
   "cell_type": "code",
   "execution_count": 186,
   "metadata": {},
   "outputs": [
    {
     "data": {
      "text/html": [
       "<div>\n",
       "<style scoped>\n",
       "    .dataframe tbody tr th:only-of-type {\n",
       "        vertical-align: middle;\n",
       "    }\n",
       "\n",
       "    .dataframe tbody tr th {\n",
       "        vertical-align: top;\n",
       "    }\n",
       "\n",
       "    .dataframe thead th {\n",
       "        text-align: right;\n",
       "    }\n",
       "</style>\n",
       "<table border=\"1\" class=\"dataframe\">\n",
       "  <thead>\n",
       "    <tr style=\"text-align: right;\">\n",
       "      <th></th>\n",
       "      <th>Performance_Tag</th>\n",
       "      <th>unique_id</th>\n",
       "      <th>Performance_Prob</th>\n",
       "    </tr>\n",
       "  </thead>\n",
       "  <tbody>\n",
       "    <tr>\n",
       "      <th>0</th>\n",
       "      <td>1</td>\n",
       "      <td>1</td>\n",
       "      <td>0.661309</td>\n",
       "    </tr>\n",
       "    <tr>\n",
       "      <th>1</th>\n",
       "      <td>1</td>\n",
       "      <td>2</td>\n",
       "      <td>0.663170</td>\n",
       "    </tr>\n",
       "    <tr>\n",
       "      <th>2</th>\n",
       "      <td>1</td>\n",
       "      <td>3</td>\n",
       "      <td>0.742569</td>\n",
       "    </tr>\n",
       "    <tr>\n",
       "      <th>3</th>\n",
       "      <td>1</td>\n",
       "      <td>4</td>\n",
       "      <td>0.681704</td>\n",
       "    </tr>\n",
       "    <tr>\n",
       "      <th>4</th>\n",
       "      <td>1</td>\n",
       "      <td>5</td>\n",
       "      <td>0.695522</td>\n",
       "    </tr>\n",
       "  </tbody>\n",
       "</table>\n",
       "</div>"
      ],
      "text/plain": [
       "   Performance_Tag  unique_id  Performance_Prob\n",
       "0                1          1          0.661309\n",
       "1                1          2          0.663170\n",
       "2                1          3          0.742569\n",
       "3                1          4          0.681704\n",
       "4                1          5          0.695522"
      ]
     },
     "execution_count": 186,
     "metadata": {},
     "output_type": "execute_result"
    }
   ],
   "source": [
    "# Renaming the column \n",
    "rejected_pred_df_1= rejected_pred_df.rename(columns={ 0 : 'Performance_Prob'})\n",
    "rejected_pred_df_1.head()"
   ]
  },
  {
   "cell_type": "code",
   "execution_count": 187,
   "metadata": {},
   "outputs": [
    {
     "data": {
      "text/html": [
       "<div>\n",
       "<style scoped>\n",
       "    .dataframe tbody tr th:only-of-type {\n",
       "        vertical-align: middle;\n",
       "    }\n",
       "\n",
       "    .dataframe tbody tr th {\n",
       "        vertical-align: top;\n",
       "    }\n",
       "\n",
       "    .dataframe thead th {\n",
       "        text-align: right;\n",
       "    }\n",
       "</style>\n",
       "<table border=\"1\" class=\"dataframe\">\n",
       "  <thead>\n",
       "    <tr style=\"text-align: right;\">\n",
       "      <th></th>\n",
       "      <th>Performance_Tag</th>\n",
       "      <th>unique_id</th>\n",
       "      <th>Performance_Prob</th>\n",
       "      <th>final_predicted</th>\n",
       "    </tr>\n",
       "  </thead>\n",
       "  <tbody>\n",
       "    <tr>\n",
       "      <th>0</th>\n",
       "      <td>1</td>\n",
       "      <td>1</td>\n",
       "      <td>0.661309</td>\n",
       "      <td>1</td>\n",
       "    </tr>\n",
       "    <tr>\n",
       "      <th>1</th>\n",
       "      <td>1</td>\n",
       "      <td>2</td>\n",
       "      <td>0.663170</td>\n",
       "      <td>1</td>\n",
       "    </tr>\n",
       "    <tr>\n",
       "      <th>2</th>\n",
       "      <td>1</td>\n",
       "      <td>3</td>\n",
       "      <td>0.742569</td>\n",
       "      <td>1</td>\n",
       "    </tr>\n",
       "    <tr>\n",
       "      <th>3</th>\n",
       "      <td>1</td>\n",
       "      <td>4</td>\n",
       "      <td>0.681704</td>\n",
       "      <td>1</td>\n",
       "    </tr>\n",
       "    <tr>\n",
       "      <th>4</th>\n",
       "      <td>1</td>\n",
       "      <td>5</td>\n",
       "      <td>0.695522</td>\n",
       "      <td>1</td>\n",
       "    </tr>\n",
       "  </tbody>\n",
       "</table>\n",
       "</div>"
      ],
      "text/plain": [
       "   Performance_Tag  unique_id  Performance_Prob  final_predicted\n",
       "0                1          1          0.661309                1\n",
       "1                1          2          0.663170                1\n",
       "2                1          3          0.742569                1\n",
       "3                1          4          0.681704                1\n",
       "4                1          5          0.695522                1"
      ]
     },
     "execution_count": 187,
     "metadata": {},
     "output_type": "execute_result"
    }
   ],
   "source": [
    "## evaluating result based on the cut-off value obtained above\n",
    "rejected_pred_df_1['final_predicted'] = rejected_pred_df_1.Performance_Prob.map(lambda x: 1 if x > 0.50 else 0)\n",
    "rejected_pred_df_1.head()"
   ]
  },
  {
   "cell_type": "code",
   "execution_count": 188,
   "metadata": {},
   "outputs": [
    {
     "data": {
      "text/plain": [
       "6"
      ]
     },
     "execution_count": 188,
     "metadata": {},
     "output_type": "execute_result"
    }
   ],
   "source": [
    "wrongly_rejected=sum(rejected_pred_df_1['final_predicted']==0)\n",
    "wrongly_rejected"
   ]
  },
  {
   "cell_type": "markdown",
   "metadata": {},
   "source": [
    "Total number of rejected customers by bank : 1425\n",
    "\n",
    "Customer should be given Credit card based on credit score\n",
    "\n",
    "No : 1419\n",
    "Yes : 6\n",
    "\n",
    "Credit Score Cut off : 333.56"
   ]
  },
  {
   "cell_type": "markdown",
   "metadata": {},
   "source": [
    "# Financial benefit of the model"
   ]
  },
  {
   "cell_type": "code",
   "execution_count": 201,
   "metadata": {},
   "outputs": [
    {
     "data": {
      "text/plain": [
       "27202"
      ]
     },
     "execution_count": 201,
     "metadata": {},
     "output_type": "execute_result"
    }
   ],
   "source": [
    "#No.of applicants above score 333.58\n",
    "App_above_cutoff=sum((y_train_pred_final['score'])>333.58)\n",
    "App_above_cutoff"
   ]
  },
  {
   "cell_type": "code",
   "execution_count": 202,
   "metadata": {},
   "outputs": [
    {
     "data": {
      "text/plain": [
       "21702"
      ]
     },
     "execution_count": 202,
     "metadata": {},
     "output_type": "execute_result"
    }
   ],
   "source": [
    "#No.of applicants below score 333.58\n",
    "App_below_cutoff=sum((y_train_pred_final['score'])<333.58)\n",
    "App_below_cutoff"
   ]
  },
  {
   "cell_type": "markdown",
   "metadata": {},
   "source": [
    "#### Revenue Loss for bank"
   ]
  },
  {
   "cell_type": "markdown",
   "metadata": {},
   "source": [
    "Let us assume bank makes Rs.5000 per year from 1 credit card customer.\n",
    "\n",
    "Bank refused 6 potential credit card customer,amounting to Rs.30,000 annual loss to the bank. "
   ]
  },
  {
   "cell_type": "markdown",
   "metadata": {},
   "source": [
    "#### Financial Benefit of a model will be in terms of either\n",
    " a. decreasing the rejection the non-defaulters\n",
    " \n",
    " b. increasing the rejection of defaulters"
   ]
  },
  {
   "cell_type": "markdown",
   "metadata": {},
   "source": [
    "### Net Profit when no model is considered"
   ]
  },
  {
   "cell_type": "markdown",
   "metadata": {},
   "source": [
    "Considering an average loss of Rs.5000 when each non defaulters application is rejected\n",
    "and an average loss of Rs.1,00,000 when each accepted applicant defaults"
   ]
  },
  {
   "cell_type": "code",
   "execution_count": 203,
   "metadata": {},
   "outputs": [
    {
     "data": {
      "text/plain": [
       "66917"
      ]
     },
     "execution_count": 203,
     "metadata": {},
     "output_type": "execute_result"
    }
   ],
   "source": [
    "original_performance_tag_good=sum(Master_Data['Performance Tag_x']==0)\n",
    "original_performance_tag_good"
   ]
  },
  {
   "cell_type": "code",
   "execution_count": 204,
   "metadata": {},
   "outputs": [
    {
     "data": {
      "text/plain": [
       "2947"
      ]
     },
     "execution_count": 204,
     "metadata": {},
     "output_type": "execute_result"
    }
   ],
   "source": [
    "original_performance_tag_bad=sum(Master_Data['Performance Tag_x']==1)\n",
    "original_performance_tag_bad"
   ]
  },
  {
   "cell_type": "code",
   "execution_count": 205,
   "metadata": {},
   "outputs": [
    {
     "data": {
      "text/plain": [
       "39885000"
      ]
     },
     "execution_count": 205,
     "metadata": {},
     "output_type": "execute_result"
    }
   ],
   "source": [
    "Profit_without_model=(66917*5000)-(2947*100000)\n",
    "Profit_without_model"
   ]
  },
  {
   "cell_type": "markdown",
   "metadata": {},
   "source": [
    "Profit without model is 39885000"
   ]
  },
  {
   "cell_type": "markdown",
   "metadata": {},
   "source": [
    "### Profit with model on the dataset without records with no performance tag using confusion matrix"
   ]
  },
  {
   "cell_type": "markdown",
   "metadata": {},
   "source": [
    "    0       1\n",
    "    \n",
    "0  [[26569 20271]\n",
    "\n",
    "1  [  637  1427]]"
   ]
  },
  {
   "cell_type": "code",
   "execution_count": 206,
   "metadata": {},
   "outputs": [
    {
     "data": {
      "text/plain": [
       "110490000"
      ]
     },
     "execution_count": 206,
     "metadata": {},
     "output_type": "execute_result"
    }
   ],
   "source": [
    "Profit_with_model=(26569*5000)+(1427*100000)-(20271*5000)-(637*100000)\n",
    "Profit_with_model"
   ]
  },
  {
   "cell_type": "markdown",
   "metadata": {},
   "source": [
    "### Net financial gain due to using our model"
   ]
  },
  {
   "cell_type": "code",
   "execution_count": 207,
   "metadata": {},
   "outputs": [
    {
     "data": {
      "text/plain": [
       "70605000"
      ]
     },
     "execution_count": 207,
     "metadata": {},
     "output_type": "execute_result"
    }
   ],
   "source": [
    "Net_financial_gain=Profit_with_model-Profit_without_model\n",
    "Net_financial_gain"
   ]
  },
  {
   "cell_type": "markdown",
   "metadata": {},
   "source": [
    "net financial gain due to using the model is 70605000"
   ]
  },
  {
   "cell_type": "code",
   "execution_count": 208,
   "metadata": {},
   "outputs": [
    {
     "data": {
      "text/plain": [
       "177.02143663031214"
      ]
     },
     "execution_count": 208,
     "metadata": {},
     "output_type": "execute_result"
    }
   ],
   "source": [
    "Percentage_financial_gain=Net_financial_gain*100/Profit_without_model\n",
    "Percentage_financial_gain\n"
   ]
  },
  {
   "cell_type": "markdown",
   "metadata": {},
   "source": [
    "percentage of financial gain by using model is 177.02"
   ]
  },
  {
   "cell_type": "markdown",
   "metadata": {},
   "source": [
    "#### REVENUE LOSS:"
   ]
  },
  {
   "cell_type": "markdown",
   "metadata": {},
   "source": [
    "Revenue loss occurs when good customers are identified as bad and their credit card application is rejected."
   ]
  },
  {
   "cell_type": "markdown",
   "metadata": {},
   "source": [
    "No of candidates rejected by the model who didn't default - 637\n",
    "\n",
    "Total No of candidates who didn't default - 26569+ 637 = 27206\n"
   ]
  },
  {
   "cell_type": "code",
   "execution_count": 209,
   "metadata": {},
   "outputs": [
    {
     "data": {
      "text/plain": [
       "2.3413952804528413"
      ]
     },
     "execution_count": 209,
     "metadata": {},
     "output_type": "execute_result"
    }
   ],
   "source": [
    "Revenue_loss = (637/(27206))*100\n",
    "Revenue_loss"
   ]
  },
  {
   "cell_type": "markdown",
   "metadata": {},
   "source": [
    "2.34% of the non defaulting customers are rejected which resulted in revenue loss."
   ]
  },
  {
   "cell_type": "markdown",
   "metadata": {},
   "source": [
    "### CREDIT LOSS:"
   ]
  },
  {
   "cell_type": "markdown",
   "metadata": {},
   "source": [
    "The candidates who have been selected by the bank and have defaulted are responsible for the credit loss to the bank."
   ]
  },
  {
   "cell_type": "markdown",
   "metadata": {},
   "source": [
    "Credit loss without model"
   ]
  },
  {
   "cell_type": "code",
   "execution_count": 210,
   "metadata": {},
   "outputs": [
    {
     "data": {
      "text/plain": [
       "0.911"
      ]
     },
     "execution_count": 210,
     "metadata": {},
     "output_type": "execute_result"
    }
   ],
   "source": [
    "per_of_candidates_approved_and_then_defaulted = 0.976-0.065\n",
    "per_of_candidates_approved_and_then_defaulted"
   ]
  },
  {
   "cell_type": "markdown",
   "metadata": {},
   "source": [
    "Credit loss with model"
   ]
  },
  {
   "cell_type": "code",
   "execution_count": 211,
   "metadata": {},
   "outputs": [
    {
     "data": {
      "text/plain": [
       "0.41455683259028997"
      ]
     },
     "execution_count": 211,
     "metadata": {},
     "output_type": "execute_result"
    }
   ],
   "source": [
    "per_of_candidates_approved_and_then_defaulted_model = (20271/48898) \n",
    "per_of_candidates_approved_and_then_defaulted_model"
   ]
  },
  {
   "cell_type": "markdown",
   "metadata": {},
   "source": [
    "Credit loss saved using the model is 0.50"
   ]
  },
  {
   "cell_type": "markdown",
   "metadata": {},
   "source": [
    "# Conclusions\n",
    "\n",
    "Logistic regression model performs better than other models hence Logistic regression model is considered as final model on master daset.\n",
    "    #Final Cutoff = 0.50\n",
    "    #sensitivity=69%\n",
    "    #specificity=56%\n",
    "    #Accuracy = 57% \n",
    "    #AUC = 0.67\n",
    "   \n"
   ]
  },
  {
   "cell_type": "markdown",
   "metadata": {},
   "source": [
    "Application scorecard is built on logistic regression model.\n",
    "    # Cutoff score = 333.56"
   ]
  },
  {
   "cell_type": "markdown",
   "metadata": {},
   "source": [
    " Financial assesment\n",
    "    #Net_financial_gain = #Rs.70605000\n",
    "    #Percentage_financial_gain = #177.02%\n",
    "    #Revenue_loss = 2.34% of the non defaulting records are rejected which resulted in revenue loss.\n",
    "    #Credit loss saved = 0.50\n"
   ]
  },
  {
   "cell_type": "code",
   "execution_count": null,
   "metadata": {},
   "outputs": [],
   "source": []
  }
 ],
 "metadata": {
  "kernelspec": {
   "display_name": "Python 3",
   "language": "python",
   "name": "python3"
  },
  "language_info": {
   "codemirror_mode": {
    "name": "ipython",
    "version": 3
   },
   "file_extension": ".py",
   "mimetype": "text/x-python",
   "name": "python",
   "nbconvert_exporter": "python",
   "pygments_lexer": "ipython3",
   "version": "3.8.3"
  }
 },
 "nbformat": 4,
 "nbformat_minor": 2
}
